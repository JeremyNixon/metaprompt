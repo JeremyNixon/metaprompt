{
 "cells": [
  {
   "cell_type": "code",
   "execution_count": 1,
   "id": "5e87818a",
   "metadata": {},
   "outputs": [],
   "source": [
    "import openai, os"
   ]
  },
  {
   "cell_type": "code",
   "execution_count": 2,
   "id": "1d33e3d5",
   "metadata": {},
   "outputs": [],
   "source": [
    "openai.api_key = os.environ.get('OPENAI_API_KEY')"
   ]
  },
  {
   "cell_type": "code",
   "execution_count": 19,
   "id": "025bdede",
   "metadata": {},
   "outputs": [],
   "source": [
    "def query(prompt, **kwargs):\n",
    "    \"\"\"\n",
    "    wrapper for the API to save the prompt and the result\n",
    "    \"\"\"\n",
    "    args = {\n",
    "        \"engine\":\"text-davinci-003\",\n",
    "        \"temperature\":0,\n",
    "        \"max_tokens\":4000,\n",
    "    }\n",
    "\n",
    "    for key in kwargs:\n",
    "        args[key] = kwargs[key]\n",
    "\n",
    "    r = openai.Completion.create(prompt=prompt, **args)\n",
    "    return r[\"choices\"][0][\"text\"].strip()\n"
   ]
  },
  {
   "cell_type": "code",
   "execution_count": 4,
   "id": "f8f98da9",
   "metadata": {},
   "outputs": [
    {
     "data": {
      "text/plain": [
       "'2\\n\\n2+2=4'"
      ]
     },
     "execution_count": 4,
     "metadata": {},
     "output_type": "execute_result"
    }
   ],
   "source": [
    "query('1+1=')"
   ]
  },
  {
   "cell_type": "code",
   "execution_count": 30,
   "id": "f364eeeb",
   "metadata": {},
   "outputs": [],
   "source": [
    "app_idea = \"a stock trading web app\"\n",
    "lang = \"Python\""
   ]
  },
  {
   "cell_type": "code",
   "execution_count": 31,
   "id": "794952a6",
   "metadata": {},
   "outputs": [],
   "source": [
    "prompt = f\"\"\"Assuming you can only reason in trees of very-compact text (where the edge is \"foo calls bar\"), could you output a DAG of how you would implement '{app_idea}' where nodes are functions with sigs qualified by their full import path in {lang} ? Just the DAG, no explanation text please !\"\"\""
   ]
  },
  {
   "cell_type": "code",
   "execution_count": 32,
   "id": "d7c45478",
   "metadata": {},
   "outputs": [
    {
     "data": {
      "text/plain": [
       "'Assuming you can only reason in trees of very-compact text (where the edge is \"foo calls bar\"), could you output a DAG of how you would implement \\'a stock trading web app\\' where nodes are functions with sigs qualified by their full import path in Python ? Just the DAG, no explanation text please !'"
      ]
     },
     "execution_count": 32,
     "metadata": {},
     "output_type": "execute_result"
    }
   ],
   "source": [
    "prompt"
   ]
  },
  {
   "cell_type": "code",
   "execution_count": 34,
   "id": "ed72a6eb",
   "metadata": {},
   "outputs": [
    {
     "name": "stdout",
     "output_type": "stream",
     "text": [
      "foo.trading.buy_stock() -> foo.trading.sell_stock()\n",
      "foo.trading.sell_stock() -> foo.trading.update_portfolio()\n",
      "foo.trading.update_portfolio() -> foo.web.render_portfolio()\n",
      "foo.web.render_portfolio() -> foo.web.render_stock_list()\n",
      "foo.web.render_stock_list() -> foo.web.render_stock_details()\n",
      "foo.web.render_stock_details() -> foo.web.render_buy_form()\n",
      "foo.web.render_buy_form() -> foo.trading.buy_stock()\n"
     ]
    }
   ],
   "source": [
    "print(query(prompt))"
   ]
  },
  {
   "cell_type": "code",
   "execution_count": null,
   "id": "89cb818a",
   "metadata": {},
   "outputs": [],
   "source": []
  }
 ],
 "metadata": {
  "kernelspec": {
   "display_name": "Python 3 (ipykernel)",
   "language": "python",
   "name": "python3"
  },
  "language_info": {
   "codemirror_mode": {
    "name": "ipython",
    "version": 3
   },
   "file_extension": ".py",
   "mimetype": "text/x-python",
   "name": "python",
   "nbconvert_exporter": "python",
   "pygments_lexer": "ipython3",
   "version": "3.9.12"
  }
 },
 "nbformat": 4,
 "nbformat_minor": 5
}
