{
 "cells": [
  {
   "cell_type": "code",
   "execution_count": 1,
   "id": "aa4944db",
   "metadata": {},
   "outputs": [],
   "source": [
    "import openai, os"
   ]
  },
  {
   "cell_type": "code",
   "execution_count": 2,
   "id": "52b66bad",
   "metadata": {},
   "outputs": [],
   "source": [
    "openai.api_key = os.environ.get('OPENAI_API_KEY')"
   ]
  },
  {
   "cell_type": "code",
   "execution_count": 66,
   "id": "d8f9f424",
   "metadata": {},
   "outputs": [],
   "source": [
    "def query(prompt, **kwargs):\n",
    "    \"\"\"\n",
    "    wrapper for the API to save the prompt and the result\n",
    "    \"\"\"\n",
    "    args = {\n",
    "    \"engine\":\"text-davinci-003\",\n",
    "    \"temperature\":0,\n",
    "    \"max_tokens\":400,\n",
    "    \"stop\":\"END\",\n",
    "    }\n",
    "\n",
    "    for key in kwargs:\n",
    "        args[key] = kwargs[key]\n",
    "\n",
    "    r = openai.Completion.create(prompt=prompt, **args)\n",
    "    return r[\"choices\"][0][\"text\"].strip()\n"
   ]
  },
  {
   "cell_type": "code",
   "execution_count": 67,
   "id": "7b52d6e8",
   "metadata": {},
   "outputs": [
    {
     "data": {
      "text/plain": [
       "'2\\n\\n2+2=4'"
      ]
     },
     "execution_count": 67,
     "metadata": {},
     "output_type": "execute_result"
    }
   ],
   "source": [
    "query('1+1=')"
   ]
  },
  {
   "cell_type": "code",
   "execution_count": 68,
   "id": "8ca7bbb9",
   "metadata": {},
   "outputs": [],
   "source": [
    "outlineForStoryPrompt = \"\"\" /* Generate an outline for a story\n",
    "\n",
    "type character{{\n",
    "  \"name\": str,\n",
    "  \"profession\": str,\n",
    "  \"age\": int,\n",
    "}}\n",
    "\n",
    "interface outline {{\n",
    "  \"setting\": str, //where the section takes place\n",
    "  \"characters\": character[], //the character names\n",
    "  \"conflict\": str, //what conflict needs to get solved\n",
    "  \"plotTwist\": str, //any plot twists to occur\n",
    "  \"resolution\": str // how the story concludes\n",
    "}}\n",
    "\n",
    "const generatePlot = (theme, genre, style) : outline =>{{\n",
    "    return ai.generatePlot(theme)\n",
    "}}\n",
    "\n",
    "\n",
    "theme = '{}'\n",
    "genre = '{}'\n",
    "style = '{}'\n",
    "//make sure to include the keys in quotes so we can json.parse\n",
    "console.log(\"Out: \" + generatePlot(theme, genre, style))\n",
    "Out:\"\"\""
   ]
  },
  {
   "cell_type": "code",
   "execution_count": 69,
   "id": "1541179f",
   "metadata": {},
   "outputs": [],
   "source": [
    "theme = \"civil war\"\n",
    "genre = \"movie\"\n",
    "style = \"shakesepear\"\n"
   ]
  },
  {
   "cell_type": "code",
   "execution_count": 70,
   "id": "04135a38",
   "metadata": {},
   "outputs": [],
   "source": [
    "r = query(outlineForStoryPrompt.format(theme, genre, style), temperature=.5)"
   ]
  },
  {
   "cell_type": "code",
   "execution_count": 71,
   "id": "b282d411",
   "metadata": {},
   "outputs": [
    {
     "data": {
      "text/plain": [
       "'{\\n  \"setting\": \"Civil War battlefield\",\\n  \"characters\": [\\n    {\\n      \"name\": \"John\",\\n      \"profession\": \"Soldier\",\\n      \"age\": 24\\n    },\\n    {\\n      \"name\": \"Alice\",\\n      \"profession\": \"Nurse\",\\n      \"age\": 21\\n    }\\n  ],\\n  \"conflict\": \"John and Alice must find a way to survive the war while trying to stay together.\",\\n  \"plotTwist\": \"Alice is revealed to be a spy working for the other side.\",\\n  \"resolution\": \"John and Alice find a way to escape the battlefield and start a new life together.\"\\n}'"
      ]
     },
     "execution_count": 71,
     "metadata": {},
     "output_type": "execute_result"
    }
   ],
   "source": [
    "r"
   ]
  },
  {
   "cell_type": "code",
   "execution_count": 72,
   "id": "bbbe39bc",
   "metadata": {},
   "outputs": [],
   "source": [
    "import json"
   ]
  },
  {
   "cell_type": "code",
   "execution_count": 73,
   "id": "516f99c7",
   "metadata": {},
   "outputs": [
    {
     "data": {
      "text/plain": [
       "{'setting': 'Civil War battlefield',\n",
       " 'characters': [{'name': 'John', 'profession': 'Soldier', 'age': 24},\n",
       "  {'name': 'Alice', 'profession': 'Nurse', 'age': 21}],\n",
       " 'conflict': 'John and Alice must find a way to survive the war while trying to stay together.',\n",
       " 'plotTwist': 'Alice is revealed to be a spy working for the other side.',\n",
       " 'resolution': 'John and Alice find a way to escape the battlefield and start a new life together.'}"
      ]
     },
     "execution_count": 73,
     "metadata": {},
     "output_type": "execute_result"
    }
   ],
   "source": [
    "json.loads(r)"
   ]
  },
  {
   "cell_type": "code",
   "execution_count": null,
   "id": "9ff4e09b",
   "metadata": {},
   "outputs": [],
   "source": []
  }
 ],
 "metadata": {
  "kernelspec": {
   "display_name": "Python 3 (ipykernel)",
   "language": "python",
   "name": "python3"
  },
  "language_info": {
   "codemirror_mode": {
    "name": "ipython",
    "version": 3
   },
   "file_extension": ".py",
   "mimetype": "text/x-python",
   "name": "python",
   "nbconvert_exporter": "python",
   "pygments_lexer": "ipython3",
   "version": "3.9.6"
  }
 },
 "nbformat": 4,
 "nbformat_minor": 5
}
