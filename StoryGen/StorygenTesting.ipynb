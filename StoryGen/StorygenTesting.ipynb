{
 "cells": [
  {
   "cell_type": "code",
   "execution_count": null,
   "id": "2157ec4b",
   "metadata": {},
   "outputs": [],
   "source": [
    "import openai, os"
   ]
  },
  {
   "cell_type": "code",
   "execution_count": 2,
   "id": "c122d5f4",
   "metadata": {},
   "outputs": [],
   "source": [
    "openai.api_key = os.environ.get('OPENAI_API_KEY')"
   ]
  },
  {
   "cell_type": "code",
   "execution_count": 66,
   "id": "e34fe8dc",
   "metadata": {},
   "outputs": [],
   "source": [
    "def query(prompt, **kwargs):\n",
    "    \"\"\"\n",
    "    wrapper for the API to save the prompt and the result\n",
    "    \"\"\"\n",
    "    args = {\n",
    "    \"engine\":\"text-davinci-003\",\n",
    "    \"temperature\":0,\n",
    "    \"max_tokens\":400,\n",
    "    \"stop\":\"END\",\n",
    "    }\n",
    "\n",
    "    for key in kwargs:\n",
    "        args[key] = kwargs[key]\n",
    "\n",
    "    r = openai.Completion.create(prompt=prompt, **args)\n",
    "    return r[\"choices\"][0][\"text\"].strip()\n"
   ]
  },
  {
   "cell_type": "code",
   "execution_count": 67,
   "id": "11227bc6",
   "metadata": {},
   "outputs": [
    {
     "data": {
      "text/plain": [
       "'2\\n\\n2+2=4'"
      ]
     },
     "execution_count": 67,
     "metadata": {},
     "output_type": "execute_result"
    }
   ],
   "source": [
    "query('1+1=')"
   ]
  },
  {
   "cell_type": "code",
   "execution_count": 78,
   "id": "9d303bd7",
   "metadata": {},
   "outputs": [],
   "source": [
    "overviewForStoryPrompt = \"\"\" /* Generate an outline for a story\n",
    "\n",
    "type character{{\n",
    "  \"name\": str,\n",
    "  \"profession\": str,\n",
    "  \"age\": int,\n",
    "}}\n",
    "\n",
    "interface outline {{\n",
    "  \"setting\": str, //where the section takes place\n",
    "  \"characters\": character[], //the character names\n",
    "  \"conflict\": str, //what conflict needs to get solved\n",
    "  \"plotTwist\": str, //any plot twists to occur\n",
    "  \"resolution\": str // how the story concludes\n",
    "}}\n",
    "\n",
    "const generatePlot = (theme, genre, style) : outline =>{{\n",
    "    return ai.generatePlot(theme)\n",
    "}}\n",
    "\n",
    "\n",
    "theme = '{}'\n",
    "genre = '{}'\n",
    "style = '{}'\n",
    "//make sure to include the keys in quotes so we can json.parse\n",
    "console.log(\"Out: \" + generatePlot(theme, genre, style))\n",
    "Out:\"\"\""
   ]
  },
  {
   "cell_type": "code",
   "execution_count": 97,
   "id": "c21222b1",
   "metadata": {},
   "outputs": [],
   "source": [
    "theme = \"civil war\"\n",
    "genre = \"movie\"\n",
    "style = \"shakesepear\"\n"
   ]
  },
  {
   "cell_type": "code",
   "execution_count": 98,
   "id": "2968221b",
   "metadata": {},
   "outputs": [],
   "source": [
    "rawOverview = query(overviewForStoryPrompt.format(theme, genre, style), temperature=.5)"
   ]
  },
  {
   "cell_type": "code",
   "execution_count": 99,
   "id": "f88e81fc",
   "metadata": {},
   "outputs": [
    {
     "data": {
      "text/plain": [
       "'{\\n  \"setting\": \"During the civil war\",\\n  \"characters\": [\\n    {\\n      \"name\": \"John\",\\n      \"profession\": \"Soldier\",\\n      \"age\": 22\\n    },\\n    {\\n      \"name\": \"Jane\",\\n      \"profession\": \"Nurse\",\\n      \"age\": 18\\n    },\\n    {\\n      \"name\": \"Jack\",\\n      \"profession\": \"General\",\\n      \"age\": 55\\n    }\\n  ],\\n  \"conflict\": \"John and Jane must decide whether to fight for their side or flee the war\",\\n  \"plotTwist\": \"Jack turns out to be John\\'s father\",\\n  \"resolution\": \"John and Jane decide to flee the war and start a new life together\"\\n}'"
      ]
     },
     "execution_count": 99,
     "metadata": {},
     "output_type": "execute_result"
    }
   ],
   "source": [
    "rawOverview"
   ]
  },
  {
   "cell_type": "code",
   "execution_count": 100,
   "id": "bb44e097",
   "metadata": {},
   "outputs": [],
   "source": [
    "import json"
   ]
  },
  {
   "cell_type": "code",
   "execution_count": 101,
   "id": "d83d02b1",
   "metadata": {},
   "outputs": [],
   "source": [
    "parsedOverview = json.loads(rawOverview)"
   ]
  },
  {
   "cell_type": "code",
   "execution_count": 102,
   "id": "015972ed",
   "metadata": {},
   "outputs": [
    {
     "data": {
      "text/plain": [
       "{'setting': 'During the civil war',\n",
       " 'characters': [{'name': 'John', 'profession': 'Soldier', 'age': 22},\n",
       "  {'name': 'Jane', 'profession': 'Nurse', 'age': 18},\n",
       "  {'name': 'Jack', 'profession': 'General', 'age': 55}],\n",
       " 'conflict': 'John and Jane must decide whether to fight for their side or flee the war',\n",
       " 'plotTwist': \"Jack turns out to be John's father\",\n",
       " 'resolution': 'John and Jane decide to flee the war and start a new life together'}"
      ]
     },
     "execution_count": 102,
     "metadata": {},
     "output_type": "execute_result"
    }
   ],
   "source": [
    "parsedOverview"
   ]
  },
  {
   "cell_type": "code",
   "execution_count": 103,
   "id": "1dda8382",
   "metadata": {},
   "outputs": [],
   "source": [
    "outlineForStoryPrompt = \"\"\" /* Generate an outline for a story\n",
    "\n",
    "type section{{\n",
    "  \"name\": str, // the name of the section\n",
    "  \"description\": str, // a brief overview of what happens in the section\n",
    "}}\n",
    "\n",
    "interface outline {{\n",
    "  \"parts\": section[] //all of the sections in the story\n",
    "}}\n",
    "\n",
    "const generateOutline = (storyOverview) : outline =>{{\n",
    "    return ai.generateOutline(storyOverview)\n",
    "}}\n",
    "\n",
    "overview = '{}'\n",
    "\n",
    "//make sure to include the keys in quotes so we can json.parse\n",
    "console.log(\"Out: \" + generateOutline(overview))\n",
    "Out:\"\"\""
   ]
  },
  {
   "cell_type": "code",
   "execution_count": 104,
   "id": "feae99b2",
   "metadata": {},
   "outputs": [],
   "source": [
    "rawOutline = query(outlineForStoryPrompt.format(rawOverview), temperature=.5)"
   ]
  },
  {
   "cell_type": "code",
   "execution_count": 105,
   "id": "85144c68",
   "metadata": {},
   "outputs": [
    {
     "data": {
      "text/plain": [
       "'{\\n  \"parts\": [\\n    {\\n      \"name\": \"Introduction\",\\n      \"description\": \"Introduce the setting, characters, and conflict of the story.\"\\n    },\\n    {\\n      \"name\": \"Rising Action\",\\n      \"description\": \"John and Julia must work together to save the Union from destruction.\"\\n    },\\n    {\\n      \"name\": \"Plot Twist\",\\n      \"description\": \"Julia is revealed to be a Confederate spy, but John convinces her to switch sides.\"\\n    },\\n    {\\n      \"name\": \"Climax\",\\n      \"description\": \"John and Julia lead the Union to victory, ending the Civil War.\"\\n    },\\n    {\\n      \"name\": \"Conclusion\",\\n      \"description\": \"Wrap up the story and reflect on the events that took place.\"\\n    }\\n  ]\\n}'"
      ]
     },
     "execution_count": 105,
     "metadata": {},
     "output_type": "execute_result"
    }
   ],
   "source": [
    "rawOutline"
   ]
  },
  {
   "cell_type": "code",
   "execution_count": 106,
   "id": "856ab6b4",
   "metadata": {},
   "outputs": [],
   "source": [
    "parsedOutline = json.loads(rawOutline)"
   ]
  },
  {
   "cell_type": "code",
   "execution_count": 107,
   "id": "8906375d",
   "metadata": {},
   "outputs": [
    {
     "data": {
      "text/plain": [
       "{'parts': [{'name': 'Introduction',\n",
       "   'description': 'Introduce the setting, characters, and conflict of the story.'},\n",
       "  {'name': 'Rising Action',\n",
       "   'description': 'John and Julia must work together to save the Union from destruction.'},\n",
       "  {'name': 'Plot Twist',\n",
       "   'description': 'Julia is revealed to be a Confederate spy, but John convinces her to switch sides.'},\n",
       "  {'name': 'Climax',\n",
       "   'description': 'John and Julia lead the Union to victory, ending the Civil War.'},\n",
       "  {'name': 'Conclusion',\n",
       "   'description': 'Wrap up the story and reflect on the events that took place.'}]}"
      ]
     },
     "execution_count": 107,
     "metadata": {},
     "output_type": "execute_result"
    }
   ],
   "source": [
    "parsedOutline"
   ]
  },
  {
   "cell_type": "markdown",
   "id": "ffcf25d0",
   "metadata": {},
   "source": [
    "config file is an object, inputs and outputs\n",
    "\n",
    "for each input, that's on the bottom, each output on the top\n",
    "\n",
    "# WE STARTED TO WRITE THIS THEN REALIZED WE SKIPPING AHEAD"
   ]
  },
  {
   "cell_type": "code",
   "execution_count": 111,
   "id": "fa91c756",
   "metadata": {},
   "outputs": [],
   "source": [
    "promptGenerator = \"\"\"Generate typescript files to perform a function, e.g.\n",
    "\n",
    "Purpose: generate a poem\n",
    "{{\n",
    "  \"description\": \"generate a poem\",\n",
    "  \"shortName\": \"generatePoem\",\n",
    "  \"inputs\": [\n",
    "  {{\"style\": \"shakespearean\",\n",
    "    \"interpretationOfStyle\": \"the author type to emultae\"\n",
    "  }}\n",
    "  ],\n",
    "  \"outputs\": [\n",
    "    {{\n",
    "      \"poem\": \"O Romeo, Romeo, wherefore art thou Romeo?\\nDeny thy father and refuse thy name.\"\n",
    "    }}\n",
    "  ]\n",
    "}}\n",
    "\n",
    "Purpose: {}\n",
    "\"\"\""
   ]
  },
  {
   "cell_type": "code",
   "execution_count": 112,
   "id": "d74cfdbc",
   "metadata": {},
   "outputs": [
    {
     "data": {
      "text/plain": [
       "'{\\n  \"description\": \"generate a paragraph\",\\n  \"shortName\": \"generateParagraph\",\\n  \"inputs\": [\\n    {\\n      \"style\": \"informative\",\\n      \"interpretationOfStyle\": \"the type of information to include\"\\n    }\\n  ],\\n  \"outputs\": [\\n    {\\n      \"paragraph\": \"The human brain is an incredibly complex organ, capable of processing vast amounts of information and making decisions in a fraction of a second. It is composed of billions of neurons, which communicate with each other through electrical and chemical signals. The brain is responsible for controlling all of the body\\'s functions, from breathing and digestion to movement and emotion.\"\\n    }\\n  ]\\n}'"
      ]
     },
     "execution_count": 112,
     "metadata": {},
     "output_type": "execute_result"
    }
   ],
   "source": [
    "query(promptGenerator.format('generate a paragraph'))"
   ]
  },
  {
   "cell_type": "code",
   "execution_count": 123,
   "id": "e2c6a14a",
   "metadata": {},
   "outputs": [],
   "source": [
    "fillOutlinePrompt = \"\"\" /* Write the next paragraph in a story for a given purpose\n",
    "\n",
    "fullOverview = '{}'\n",
    "fullOutline = '{}'\n",
    "priorStory = '{}'\n",
    "\n",
    "const generateNextParagraph = (instructions, currentOutlineSection) : str =>{{\n",
    "    return ai.write()\n",
    "}}\n",
    "\n",
    "instructions = '{}'\n",
    "currentOutlineSection = '{}'\n",
    "\n",
    "//make sure to include the keys in quotes so we can json.parse\n",
    "console.log(\"Out: \" + generateNextParagraph(instructions, currentOutlineSection))\n",
    "Out:\"\"\""
   ]
  },
  {
   "cell_type": "code",
   "execution_count": 117,
   "id": "49937363",
   "metadata": {},
   "outputs": [],
   "source": [
    "story = \"\"\n",
    "currentRawOverview = rawOverview\n",
    "currentRawOutline = rawOutline"
   ]
  },
  {
   "cell_type": "code",
   "execution_count": 121,
   "id": "8df140e9",
   "metadata": {},
   "outputs": [
    {
     "data": {
      "text/plain": [
       "'Introduction'"
      ]
     },
     "execution_count": 121,
     "metadata": {},
     "output_type": "execute_result"
    }
   ],
   "source": [
    "parsedOutline['parts'][0]['name']"
   ]
  },
  {
   "cell_type": "code",
   "execution_count": 127,
   "id": "91e809a8",
   "metadata": {},
   "outputs": [
    {
     "name": "stdout",
     "output_type": "stream",
     "text": [
      " /* Write the next paragraph in a story for a given purpose\n",
      "\n",
      "fullOverview = '{\n",
      "  \"setting\": \"During the civil war\",\n",
      "  \"characters\": [\n",
      "    {\n",
      "      \"name\": \"John\",\n",
      "      \"profession\": \"Soldier\",\n",
      "      \"age\": 22\n",
      "    },\n",
      "    {\n",
      "      \"name\": \"Jane\",\n",
      "      \"profession\": \"Nurse\",\n",
      "      \"age\": 18\n",
      "    },\n",
      "    {\n",
      "      \"name\": \"Jack\",\n",
      "      \"profession\": \"General\",\n",
      "      \"age\": 55\n",
      "    }\n",
      "  ],\n",
      "  \"conflict\": \"John and Jane must decide whether to fight for their side or flee the war\",\n",
      "  \"plotTwist\": \"Jack turns out to be John's father\",\n",
      "  \"resolution\": \"John and Jane decide to flee the war and start a new life together\"\n",
      "}'\n",
      "fullOutline = '{\n",
      "  \"parts\": [\n",
      "    {\n",
      "      \"name\": \"Introduction\",\n",
      "      \"description\": \"Introduce the setting, characters, and conflict of the story.\"\n",
      "    },\n",
      "    {\n",
      "      \"name\": \"Rising Action\",\n",
      "      \"description\": \"John and Julia must work together to save the Union from destruction.\"\n",
      "    },\n",
      "    {\n",
      "      \"name\": \"Plot Twist\",\n",
      "      \"description\": \"Julia is revealed to be a Confederate spy, but John convinces her to switch sides.\"\n",
      "    },\n",
      "    {\n",
      "      \"name\": \"Climax\",\n",
      "      \"description\": \"John and Julia lead the Union to victory, ending the Civil War.\"\n",
      "    },\n",
      "    {\n",
      "      \"name\": \"Conclusion\",\n",
      "      \"description\": \"Wrap up the story and reflect on the events that took place.\"\n",
      "    }\n",
      "  ]\n",
      "}'\n",
      "priorStory = ''\n",
      "\n",
      "const generateNextParagraph = (instructions, currentOutlineSection) : str =>{\n",
      "    return ai.write()\n",
      "}\n",
      "\n",
      "instructions = 'build the setting'\n",
      "currentOutlineSection = 'Introduction'\n",
      "\n",
      "//make sure to include the keys in quotes so we can json.parse\n",
      "console.log(\"Out: \" + generateNextParagraph(instructions, currentOutlineSection))\n",
      "Out:\n"
     ]
    }
   ],
   "source": [
    "curPrompt = fillOutlinePrompt.format(rawOverview, rawOutline, story, \"build the setting\", parsedOutline['parts'][0]['name'])\n",
    "print(curPrompt)\n"
   ]
  },
  {
   "cell_type": "code",
   "execution_count": 130,
   "id": "4024d321",
   "metadata": {},
   "outputs": [
    {
     "data": {
      "text/plain": [
       "\"John and Jane were soldiers in the Civil War, fighting for their respective sides. Jane was a nurse, 18 years old, while John was a soldier, 22 years old. They were both caught up in the conflict and had to make a difficult decision - fight for their side or flee the war. Little did they know that a plot twist was about to unfold - Jack, the Union general, turns out to be John's father. With this knowledge, John and Jane make the difficult decision to flee the war and start a new life together.\""
      ]
     },
     "execution_count": 130,
     "metadata": {},
     "output_type": "execute_result"
    }
   ],
   "source": [
    "curPrompt = fillOutlinePrompt.format(rawOverview, rawOutline, story, \"intro\", parsedOutline['parts'][0]['name'])\n",
    "\n",
    "query(curPrompt, temperature=.7)"
   ]
  },
  {
   "cell_type": "code",
   "execution_count": 168,
   "id": "323bed78",
   "metadata": {},
   "outputs": [],
   "source": [
    "def createPrompt(overview, outline, story, fnName, currentSection):\n",
    "    fillOutlinePrompt = \"\"\" /* Write the next paragraph in a story for a given purpose\n",
    "\n",
    "    //the overview of the entire story\n",
    "    fullOverview = {}\n",
    "    \n",
    "    //the outline that the story should follow\n",
    "    fullOutline = {}\n",
    "    \n",
    "    //the paragraphs of the story so far\n",
    "    storySoFar = {}\n",
    "\n",
    "    const {} = (instructions, currentOutlineSection) : str =>{{\n",
    "        return ai.write()\n",
    "    }}\n",
    "\n",
    "    currentOutlineSection = {}\n",
    "\n",
    "    console.log(\"Out: \" + {}(currentOutlineSection))\n",
    "    Out:\"\"\".format(overview, outline, story, fnName, currentSection, fnName)\n",
    "    \n",
    "    return fillOutlinePrompt"
   ]
  },
  {
   "cell_type": "code",
   "execution_count": 169,
   "id": "7d47e6a7",
   "metadata": {},
   "outputs": [
    {
     "name": "stdout",
     "output_type": "stream",
     "text": [
      " /* Write the next paragraph in a story for a given purpose\n",
      "\n",
      "    //the overview of the entire story\n",
      "    fullOverview = {\n",
      "  \"setting\": \"During the civil war\",\n",
      "  \"characters\": [\n",
      "    {\n",
      "      \"name\": \"John\",\n",
      "      \"profession\": \"Soldier\",\n",
      "      \"age\": 22\n",
      "    },\n",
      "    {\n",
      "      \"name\": \"Jane\",\n",
      "      \"profession\": \"Nurse\",\n",
      "      \"age\": 18\n",
      "    },\n",
      "    {\n",
      "      \"name\": \"Jack\",\n",
      "      \"profession\": \"General\",\n",
      "      \"age\": 55\n",
      "    }\n",
      "  ],\n",
      "  \"conflict\": \"John and Jane must decide whether to fight for their side or flee the war\",\n",
      "  \"plotTwist\": \"Jack turns out to be John's father\",\n",
      "  \"resolution\": \"John and Jane decide to flee the war and start a new life together\"\n",
      "}\n",
      "    \n",
      "    //the outline that the story should follow\n",
      "    fullOutline = {\n",
      "  \"parts\": [\n",
      "    {\n",
      "      \"name\": \"Introduction\",\n",
      "      \"description\": \"Introduce the setting, characters, and conflict of the story.\"\n",
      "    },\n",
      "    {\n",
      "      \"name\": \"Rising Action\",\n",
      "      \"description\": \"John and Julia must work together to save the Union from destruction.\"\n",
      "    },\n",
      "    {\n",
      "      \"name\": \"Plot Twist\",\n",
      "      \"description\": \"Julia is revealed to be a Confederate spy, but John convinces her to switch sides.\"\n",
      "    },\n",
      "    {\n",
      "      \"name\": \"Climax\",\n",
      "      \"description\": \"John and Julia lead the Union to victory, ending the Civil War.\"\n",
      "    },\n",
      "    {\n",
      "      \"name\": \"Conclusion\",\n",
      "      \"description\": \"Wrap up the story and reflect on the events that took place.\"\n",
      "    }\n",
      "  ]\n",
      "}\n",
      "    \n",
      "    //the paragraphs of the story so far\n",
      "    storySoFar = []\n",
      "\n",
      "    const generateIntroduction = (instructions, currentOutlineSection) : str =>{\n",
      "        return ai.write()\n",
      "    }\n",
      "\n",
      "    currentOutlineSection = Introduction\n",
      "\n",
      "    console.log(\"Out: \" + generateIntroduction(currentOutlineSection))\n",
      "    Out:\n"
     ]
    }
   ],
   "source": [
    "print(createPrompt(rawOverview, rawOutline, story, 'generateIntroduction', parsedOutline['parts'][0]['name']))\n",
    "\n"
   ]
  },
  {
   "cell_type": "code",
   "execution_count": 183,
   "id": "71b77fae",
   "metadata": {},
   "outputs": [],
   "source": [
    "r = query(createPrompt(rawOverview, rawOutline, story, 'generateIntroduction', parsedOutline['parts'][0]['name']))"
   ]
  },
  {
   "cell_type": "code",
   "execution_count": 184,
   "id": "6bb7667e",
   "metadata": {},
   "outputs": [
    {
     "name": "stdout",
     "output_type": "stream",
     "text": [
      "John and Jane were two brave souls in the midst of a tumultuous time. As the Civil War raged on, they were determined to do whatever it took to save their side from destruction. Little did they know, however, that their fates were intertwined with that of Jack, a 55-year-old general who had a secret connection to John. With the fate of the Union in their hands, John and Jane must decide whether to fight for their side or flee the war.\n"
     ]
    }
   ],
   "source": [
    "print(r)"
   ]
  },
  {
   "cell_type": "code",
   "execution_count": 185,
   "id": "95210cde",
   "metadata": {},
   "outputs": [],
   "source": [
    "story = [r]"
   ]
  },
  {
   "cell_type": "code",
   "execution_count": 179,
   "id": "a220b2d9",
   "metadata": {},
   "outputs": [],
   "source": [
    "r = query(createPrompt(rawOverview, rawOutline, story, 'generateNextParagraph', parsedOutline['parts'][0]['name']))\n",
    "story.push(r)"
   ]
  },
  {
   "cell_type": "code",
   "execution_count": 181,
   "id": "6fe17e5c",
   "metadata": {},
   "outputs": [
    {
     "name": "stdout",
     "output_type": "stream",
     "text": [
      "It was the height of the Civil War, and the Union was in dire straits. John, a 22-year-old soldier, and Jane, an 18-year-old nurse, were determined to do whatever it took to save their side from destruction. Little did they know, however, that their fates were intertwined with that of Jack, a 55-year-old general who had a secret connection to John. With the fate of the Union in their hands, John and Jane must decide whether to fight for their side or flee the war.\n",
      "John and Jane had no idea what was in store for them. As they prepared for battle, they were unaware of the danger that lurked in the shadows. Little did they know that Jack, the Union's most experienced general, was actually John's father. With the fate of the Union in their hands, John and Jane must decide whether to fight for their side or flee the war.\n"
     ]
    },
    {
     "data": {
      "text/plain": [
       "[None, None]"
      ]
     },
     "execution_count": 181,
     "metadata": {},
     "output_type": "execute_result"
    }
   ],
   "source": [
    "[print(x) for x in story]"
   ]
  },
  {
   "cell_type": "code",
   "execution_count": null,
   "id": "6bd296a8",
   "metadata": {},
   "outputs": [],
   "source": [
    "class Story:\n",
    "    def __init__(self, theme):\n",
    "        self.theme = theme\n",
    "\n",
    "    def doOutline(self):\n",
    "        self.outline = overviewForStoryPrompt.format(theme), temperature=.5)\n",
    "\n",
    "\n",
    "        \n",
    "    def generateNextParagraph(self):\n",
    "        r = query(self.prompt)\n",
    "        self.story.append(r)\n",
    "        self.currentSection = self.outline['parts'][len(self.story)]['name']\n",
    "        self.prompt = createPrompt(self.overview, self.outline, self.story, self.currentSection)\n",
    "        return r\n",
    "    \n",
    "    def __str__(self):\n",
    "        return '\\n'.join(self.story)"
   ]
  }
 ],
 "metadata": {
  "kernelspec": {
   "display_name": "base",
   "language": "python",
   "name": "python3"
  },
  "language_info": {
   "codemirror_mode": {
    "name": "ipython",
    "version": 3
   },
   "file_extension": ".py",
   "mimetype": "text/x-python",
   "name": "python",
   "nbconvert_exporter": "python",
   "pygments_lexer": "ipython3",
   "version": "3.9.12"
  },
  "vscode": {
   "interpreter": {
    "hash": "230465a67f968560cbadbe9266958ba79a37944744e257da8b63a5bddd2e3c12"
   }
  }
 },
 "nbformat": 4,
 "nbformat_minor": 5
}
