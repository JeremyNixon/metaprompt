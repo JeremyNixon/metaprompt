{
 "cells": [
  {
   "cell_type": "code",
   "execution_count": 4,
   "id": "2157ec4b",
   "metadata": {},
   "outputs": [],
   "source": [
    "import openai, os"
   ]
  },
  {
   "cell_type": "code",
   "execution_count": 5,
   "id": "c122d5f4",
   "metadata": {},
   "outputs": [],
   "source": [
    "openai.api_key = os.environ.get('OPENAI_API_KEY')"
   ]
  },
  {
   "cell_type": "code",
   "execution_count": 6,
   "id": "e34fe8dc",
   "metadata": {},
   "outputs": [],
   "source": [
    "def query(prompt, **kwargs):\n",
    "    \"\"\"\n",
    "    wrapper for the API to save the prompt and the result\n",
    "    \"\"\"\n",
    "    args = {\n",
    "    \"engine\":\"text-davinci-003\",\n",
    "    \"temperature\":0,\n",
    "    \"max_tokens\":400,\n",
    "    \"stop\":\"END\",\n",
    "    }\n",
    "\n",
    "    for key in kwargs:\n",
    "        args[key] = kwargs[key]\n",
    "\n",
    "    r = openai.Completion.create(prompt=prompt, **args)\n",
    "    return r[\"choices\"][0][\"text\"].strip()\n"
   ]
  },
  {
   "cell_type": "code",
   "execution_count": 7,
   "id": "11227bc6",
   "metadata": {},
   "outputs": [
    {
     "data": {
      "text/plain": [
       "'2\\n\\n2+2=4'"
      ]
     },
     "execution_count": 7,
     "metadata": {},
     "output_type": "execute_result"
    }
   ],
   "source": [
    "query('1+1=')"
   ]
  },
  {
   "cell_type": "code",
   "execution_count": 8,
   "id": "9d303bd7",
   "metadata": {},
   "outputs": [],
   "source": [
    "overviewForStoryPrompt = \"\"\" /* Generate an outline for a story\n",
    "\n",
    "type character{{\n",
    "  \"name\": str,\n",
    "  \"profession\": str,\n",
    "  \"age\": int,\n",
    "}}\n",
    "\n",
    "interface outline {{\n",
    "  \"setting\": str, //where the section takes place\n",
    "  \"characters\": character[], //the character names\n",
    "  \"conflict\": str, //what conflict needs to get solved\n",
    "  \"plotTwist\": str, //any plot twists to occur\n",
    "  \"resolution\": str // how the story concludes\n",
    "}}\n",
    "\n",
    "const generatePlot = (theme, genre, style) : outline =>{{\n",
    "    return ai.generatePlot(theme)\n",
    "}}\n",
    "\n",
    "\n",
    "theme = '{}'\n",
    "genre = '{}'\n",
    "style = '{}'\n",
    "//make sure to include the keys in quotes so we can json.parse\n",
    "console.log(\"Out: \" + generatePlot(theme, genre, style))\n",
    "Out:\"\"\""
   ]
  },
  {
   "cell_type": "code",
   "execution_count": 9,
   "id": "c21222b1",
   "metadata": {},
   "outputs": [],
   "source": [
    "theme = \"civil war\"\n",
    "genre = \"movie\"\n",
    "style = \"shakesepear\"\n"
   ]
  },
  {
   "cell_type": "code",
   "execution_count": 10,
   "id": "2968221b",
   "metadata": {},
   "outputs": [],
   "source": [
    "rawOverview = query(overviewForStoryPrompt.format(theme, genre, style), temperature=.5)"
   ]
  },
  {
   "cell_type": "code",
   "execution_count": 11,
   "id": "f88e81fc",
   "metadata": {},
   "outputs": [
    {
     "data": {
      "text/plain": [
       "'{\\n    \"setting\": \"A battlefield during the civil war\",\\n    \"characters\": [\\n        {\\n            \"name\": \"John\",\\n            \"profession\": \"Soldier\",\\n            \"age\": 25\\n        },\\n        {\\n            \"name\": \"Jane\",\\n            \"profession\": \"Nurse\",\\n            \"age\": 20\\n        }\\n    ],\\n    \"conflict\": \"John and Jane must find a way to survive the war and find love in the midst of chaos.\",\\n    \"plotTwist\": \"John and Jane discover they are on opposite sides of the war.\",\\n    \"resolution\": \"Despite their differences, John and Jane find a way to survive the war and be together.\"\\n}'"
      ]
     },
     "execution_count": 11,
     "metadata": {},
     "output_type": "execute_result"
    }
   ],
   "source": [
    "rawOverview"
   ]
  },
  {
   "cell_type": "code",
   "execution_count": 12,
   "id": "bb44e097",
   "metadata": {},
   "outputs": [],
   "source": [
    "import json"
   ]
  },
  {
   "cell_type": "code",
   "execution_count": 13,
   "id": "d83d02b1",
   "metadata": {},
   "outputs": [],
   "source": [
    "parsedOverview = json.loads(rawOverview)"
   ]
  },
  {
   "cell_type": "code",
   "execution_count": 14,
   "id": "015972ed",
   "metadata": {},
   "outputs": [
    {
     "data": {
      "text/plain": [
       "{'setting': 'A battlefield during the civil war',\n",
       " 'characters': [{'name': 'John', 'profession': 'Soldier', 'age': 25},\n",
       "  {'name': 'Jane', 'profession': 'Nurse', 'age': 20}],\n",
       " 'conflict': 'John and Jane must find a way to survive the war and find love in the midst of chaos.',\n",
       " 'plotTwist': 'John and Jane discover they are on opposite sides of the war.',\n",
       " 'resolution': 'Despite their differences, John and Jane find a way to survive the war and be together.'}"
      ]
     },
     "execution_count": 14,
     "metadata": {},
     "output_type": "execute_result"
    }
   ],
   "source": [
    "parsedOverview"
   ]
  },
  {
   "cell_type": "code",
   "execution_count": 15,
   "id": "1dda8382",
   "metadata": {},
   "outputs": [],
   "source": [
    "outlineForStoryPrompt = \"\"\" /* Generate an outline for a story\n",
    "\n",
    "type section{{\n",
    "  \"name\": str, // the name of the section\n",
    "  \"description\": str, // a brief overview of what happens in the section\n",
    "}}\n",
    "\n",
    "interface outline {{\n",
    "  \"parts\": section[] //all of the sections in the story\n",
    "}}\n",
    "\n",
    "const generateOutline = (storyOverview) : outline =>{{\n",
    "    return ai.generateOutline(storyOverview)\n",
    "}}\n",
    "\n",
    "overview = '{}'\n",
    "\n",
    "//make sure to include the keys in quotes so we can json.parse\n",
    "console.log(\"Out: \" + generateOutline(overview))\n",
    "Out:\"\"\""
   ]
  },
  {
   "cell_type": "code",
   "execution_count": 16,
   "id": "feae99b2",
   "metadata": {},
   "outputs": [],
   "source": [
    "rawOutline = query(outlineForStoryPrompt.format(rawOverview), temperature=.5)"
   ]
  },
  {
   "cell_type": "code",
   "execution_count": 17,
   "id": "85144c68",
   "metadata": {},
   "outputs": [
    {
     "data": {
      "text/plain": [
       "'{\\n  \"parts\": [\\n    {\\n      \"name\": \"Introduction\",\\n      \"description\": \"The story introduces the setting, characters, and the main conflict.\"\\n    },\\n    {\\n      \"name\": \"Rising Action\",\\n      \"description\": \"John and Jane face obstacles as they try to survive the war and find love.\"\\n    },\\n    {\\n      \"name\": \"Plot Twist\",\\n      \"description\": \"John and Jane discover they are on opposite sides of the war.\"\\n    },\\n    {\\n      \"name\": \"Climax\",\\n      \"description\": \"John and Jane must find a way to overcome their differences and survive the war.\"\\n    },\\n    {\\n      \"name\": \"Resolution\",\\n      \"description\": \"John and Jane find a way to survive the war and be together.\"\\n    }\\n  ]\\n}'"
      ]
     },
     "execution_count": 17,
     "metadata": {},
     "output_type": "execute_result"
    }
   ],
   "source": [
    "rawOutline"
   ]
  },
  {
   "cell_type": "code",
   "execution_count": 18,
   "id": "856ab6b4",
   "metadata": {},
   "outputs": [],
   "source": [
    "parsedOutline = json.loads(rawOutline)"
   ]
  },
  {
   "cell_type": "code",
   "execution_count": 19,
   "id": "8906375d",
   "metadata": {},
   "outputs": [
    {
     "data": {
      "text/plain": [
       "{'parts': [{'name': 'Introduction',\n",
       "   'description': 'The story introduces the setting, characters, and the main conflict.'},\n",
       "  {'name': 'Rising Action',\n",
       "   'description': 'John and Jane face obstacles as they try to survive the war and find love.'},\n",
       "  {'name': 'Plot Twist',\n",
       "   'description': 'John and Jane discover they are on opposite sides of the war.'},\n",
       "  {'name': 'Climax',\n",
       "   'description': 'John and Jane must find a way to overcome their differences and survive the war.'},\n",
       "  {'name': 'Resolution',\n",
       "   'description': 'John and Jane find a way to survive the war and be together.'}]}"
      ]
     },
     "execution_count": 19,
     "metadata": {},
     "output_type": "execute_result"
    }
   ],
   "source": [
    "parsedOutline"
   ]
  },
  {
   "cell_type": "markdown",
   "id": "ffcf25d0",
   "metadata": {},
   "source": [
    "config file is an object, inputs and outputs\n",
    "\n",
    "for each input, that's on the bottom, each output on the top\n",
    "\n",
    "# WE STARTED TO WRITE THIS THEN REALIZED WE SKIPPING AHEAD"
   ]
  },
  {
   "cell_type": "code",
   "execution_count": 111,
   "id": "fa91c756",
   "metadata": {},
   "outputs": [],
   "source": [
    "promptGenerator = \"\"\"Generate typescript files to perform a function, e.g.\n",
    "\n",
    "Purpose: generate a poem\n",
    "{{\n",
    "  \"description\": \"generate a poem\",\n",
    "  \"shortName\": \"generatePoem\",\n",
    "  \"inputs\": [\n",
    "  {{\"style\": \"shakespearean\",\n",
    "    \"interpretationOfStyle\": \"the author type to emultae\"\n",
    "  }}\n",
    "  ],\n",
    "  \"outputs\": [\n",
    "    {{\n",
    "      \"poem\": \"O Romeo, Romeo, wherefore art thou Romeo?\\nDeny thy father and refuse thy name.\"\n",
    "    }}\n",
    "  ]\n",
    "}}\n",
    "\n",
    "Purpose: {}\n",
    "\"\"\""
   ]
  },
  {
   "cell_type": "code",
   "execution_count": 112,
   "id": "d74cfdbc",
   "metadata": {},
   "outputs": [
    {
     "data": {
      "text/plain": [
       "'{\\n  \"description\": \"generate a paragraph\",\\n  \"shortName\": \"generateParagraph\",\\n  \"inputs\": [\\n    {\\n      \"style\": \"informative\",\\n      \"interpretationOfStyle\": \"the type of information to include\"\\n    }\\n  ],\\n  \"outputs\": [\\n    {\\n      \"paragraph\": \"The human brain is an incredibly complex organ, capable of processing vast amounts of information and making decisions in a fraction of a second. It is composed of billions of neurons, which communicate with each other through electrical and chemical signals. The brain is responsible for controlling all of the body\\'s functions, from breathing and digestion to movement and emotion.\"\\n    }\\n  ]\\n}'"
      ]
     },
     "execution_count": 112,
     "metadata": {},
     "output_type": "execute_result"
    }
   ],
   "source": [
    "query(promptGenerator.format('generate a paragraph'))"
   ]
  },
  {
   "cell_type": "code",
   "execution_count": 23,
   "id": "e2c6a14a",
   "metadata": {},
   "outputs": [],
   "source": [
    "fillOutlinePrompt = \"\"\" /* Write the next paragraph in a story for a given purpose\n",
    "\n",
    "fullOverview = '{}'\n",
    "fullOutline = '{}'\n",
    "priorStory = '{}'\n",
    "\n",
    "const generateNextParagraph = (instructions, currentOutlineSection) : str =>{{\n",
    "    return ai.write()\n",
    "}}\n",
    "\n",
    "instructions = '{}'\n",
    "currentOutlineSection = '{}'\n",
    "\n",
    "//make sure to include the keys in quotes so we can json.parse\n",
    "console.log(\"Out: \" + generateNextParagraph(instructions, currentOutlineSection))\n",
    "Out:\"\"\""
   ]
  },
  {
   "cell_type": "code",
   "execution_count": 24,
   "id": "49937363",
   "metadata": {},
   "outputs": [],
   "source": [
    "story = \"\"\n",
    "currentRawOverview = rawOverview\n",
    "currentRawOutline = rawOutline"
   ]
  },
  {
   "cell_type": "code",
   "execution_count": 25,
   "id": "8df140e9",
   "metadata": {},
   "outputs": [
    {
     "data": {
      "text/plain": [
       "'Introduction'"
      ]
     },
     "execution_count": 25,
     "metadata": {},
     "output_type": "execute_result"
    }
   ],
   "source": [
    "parsedOutline['parts'][0]['name']"
   ]
  },
  {
   "cell_type": "code",
   "execution_count": 26,
   "id": "91e809a8",
   "metadata": {},
   "outputs": [
    {
     "name": "stdout",
     "output_type": "stream",
     "text": [
      " /* Write the next paragraph in a story for a given purpose\n",
      "\n",
      "fullOverview = '{\n",
      "    \"setting\": \"A battlefield during the civil war\",\n",
      "    \"characters\": [\n",
      "        {\n",
      "            \"name\": \"John\",\n",
      "            \"profession\": \"Soldier\",\n",
      "            \"age\": 25\n",
      "        },\n",
      "        {\n",
      "            \"name\": \"Jane\",\n",
      "            \"profession\": \"Nurse\",\n",
      "            \"age\": 20\n",
      "        }\n",
      "    ],\n",
      "    \"conflict\": \"John and Jane must find a way to survive the war and find love in the midst of chaos.\",\n",
      "    \"plotTwist\": \"John and Jane discover they are on opposite sides of the war.\",\n",
      "    \"resolution\": \"Despite their differences, John and Jane find a way to survive the war and be together.\"\n",
      "}'\n",
      "fullOutline = '{\n",
      "  \"parts\": [\n",
      "    {\n",
      "      \"name\": \"Introduction\",\n",
      "      \"description\": \"The story introduces the setting, characters, and the main conflict.\"\n",
      "    },\n",
      "    {\n",
      "      \"name\": \"Rising Action\",\n",
      "      \"description\": \"John and Jane face obstacles as they try to survive the war and find love.\"\n",
      "    },\n",
      "    {\n",
      "      \"name\": \"Plot Twist\",\n",
      "      \"description\": \"John and Jane discover they are on opposite sides of the war.\"\n",
      "    },\n",
      "    {\n",
      "      \"name\": \"Climax\",\n",
      "      \"description\": \"John and Jane must find a way to overcome their differences and survive the war.\"\n",
      "    },\n",
      "    {\n",
      "      \"name\": \"Resolution\",\n",
      "      \"description\": \"John and Jane find a way to survive the war and be together.\"\n",
      "    }\n",
      "  ]\n",
      "}'\n",
      "priorStory = ''\n",
      "\n",
      "const generateNextParagraph = (instructions, currentOutlineSection) : str =>{\n",
      "    return ai.write()\n",
      "}\n",
      "\n",
      "instructions = 'build the setting'\n",
      "currentOutlineSection = 'Introduction'\n",
      "\n",
      "//make sure to include the keys in quotes so we can json.parse\n",
      "console.log(\"Out: \" + generateNextParagraph(instructions, currentOutlineSection))\n",
      "Out:\n"
     ]
    }
   ],
   "source": [
    "curPrompt = fillOutlinePrompt.format(rawOverview, rawOutline, story, \"build the setting\", parsedOutline['parts'][0]['name'])\n",
    "print(curPrompt)\n"
   ]
  },
  {
   "cell_type": "code",
   "execution_count": 27,
   "id": "4024d321",
   "metadata": {},
   "outputs": [
    {
     "data": {
      "text/plain": [
       "'\"John and Jane were two young individuals thrown head first into a war that had been raging for years. John, a soldier, was 25 years old and Jane, a nurse, was 20. They were both on the same battlefield, but their paths had yet to cross. However, the two were soon to be connected by a common goal: survival. Despite the chaos of war, they both had to find a way to survive and maybe even find love.\"'"
      ]
     },
     "execution_count": 27,
     "metadata": {},
     "output_type": "execute_result"
    }
   ],
   "source": [
    "curPrompt = fillOutlinePrompt.format(rawOverview, rawOutline, story, \"intro\", parsedOutline['parts'][0]['name'])\n",
    "\n",
    "query(curPrompt, temperature=.7)"
   ]
  },
  {
   "cell_type": "code",
   "execution_count": 28,
   "id": "323bed78",
   "metadata": {},
   "outputs": [],
   "source": [
    "def createPrompt(overview, outline, story, fnName, currentSection):\n",
    "    fillOutlinePrompt = \"\"\" /* Write the next paragraph in a story for a given purpose\n",
    "\n",
    "    //the overview of the entire story\n",
    "    fullOverview = {}\n",
    "    \n",
    "    //the outline that the story should follow\n",
    "    fullOutline = {}\n",
    "    \n",
    "    //the paragraphs of the story so far\n",
    "    storySoFar = {}\n",
    "\n",
    "    const {} = (instructions, currentOutlineSection) : str =>{{\n",
    "        return ai.write()\n",
    "    }}\n",
    "\n",
    "    currentOutlineSection = {}\n",
    "\n",
    "    console.log(\"Out: \" + {}(currentOutlineSection))\n",
    "    Out:\"\"\".format(overview, outline, story, fnName, currentSection, fnName)\n",
    "    \n",
    "    return fillOutlinePrompt"
   ]
  },
  {
   "cell_type": "code",
   "execution_count": 29,
   "id": "7d47e6a7",
   "metadata": {},
   "outputs": [
    {
     "name": "stdout",
     "output_type": "stream",
     "text": [
      " /* Write the next paragraph in a story for a given purpose\n",
      "\n",
      "    //the overview of the entire story\n",
      "    fullOverview = {\n",
      "    \"setting\": \"A battlefield during the civil war\",\n",
      "    \"characters\": [\n",
      "        {\n",
      "            \"name\": \"John\",\n",
      "            \"profession\": \"Soldier\",\n",
      "            \"age\": 25\n",
      "        },\n",
      "        {\n",
      "            \"name\": \"Jane\",\n",
      "            \"profession\": \"Nurse\",\n",
      "            \"age\": 20\n",
      "        }\n",
      "    ],\n",
      "    \"conflict\": \"John and Jane must find a way to survive the war and find love in the midst of chaos.\",\n",
      "    \"plotTwist\": \"John and Jane discover they are on opposite sides of the war.\",\n",
      "    \"resolution\": \"Despite their differences, John and Jane find a way to survive the war and be together.\"\n",
      "}\n",
      "    \n",
      "    //the outline that the story should follow\n",
      "    fullOutline = {\n",
      "  \"parts\": [\n",
      "    {\n",
      "      \"name\": \"Introduction\",\n",
      "      \"description\": \"The story introduces the setting, characters, and the main conflict.\"\n",
      "    },\n",
      "    {\n",
      "      \"name\": \"Rising Action\",\n",
      "      \"description\": \"John and Jane face obstacles as they try to survive the war and find love.\"\n",
      "    },\n",
      "    {\n",
      "      \"name\": \"Plot Twist\",\n",
      "      \"description\": \"John and Jane discover they are on opposite sides of the war.\"\n",
      "    },\n",
      "    {\n",
      "      \"name\": \"Climax\",\n",
      "      \"description\": \"John and Jane must find a way to overcome their differences and survive the war.\"\n",
      "    },\n",
      "    {\n",
      "      \"name\": \"Resolution\",\n",
      "      \"description\": \"John and Jane find a way to survive the war and be together.\"\n",
      "    }\n",
      "  ]\n",
      "}\n",
      "    \n",
      "    //the paragraphs of the story so far\n",
      "    storySoFar = \n",
      "\n",
      "    const generateIntroduction = (instructions, currentOutlineSection) : str =>{\n",
      "        return ai.write()\n",
      "    }\n",
      "\n",
      "    currentOutlineSection = Introduction\n",
      "\n",
      "    console.log(\"Out: \" + generateIntroduction(currentOutlineSection))\n",
      "    Out:\n"
     ]
    }
   ],
   "source": [
    "print(createPrompt(rawOverview, rawOutline, story, 'generateIntroduction', parsedOutline['parts'][0]['name']))\n",
    "\n"
   ]
  },
  {
   "cell_type": "code",
   "execution_count": 30,
   "id": "71b77fae",
   "metadata": {},
   "outputs": [],
   "source": [
    "r = query(createPrompt(rawOverview, rawOutline, story, 'generateIntroduction', parsedOutline['parts'][0]['name']))"
   ]
  },
  {
   "cell_type": "code",
   "execution_count": 31,
   "id": "6bb7667e",
   "metadata": {},
   "outputs": [
    {
     "name": "stdout",
     "output_type": "stream",
     "text": [
      "It was a chaotic time in history. The civil war had been raging for years, and the battlefield was a dangerous place. Amidst the chaos, two people met - John, a 25 year old soldier, and Jane, a 20 year old nurse. Despite their differences, they found a connection in the midst of the war. But their love was not without its obstacles - John and Jane had to find a way to survive the war and be together.\n"
     ]
    }
   ],
   "source": [
    "print(r)"
   ]
  },
  {
   "cell_type": "code",
   "execution_count": 32,
   "id": "95210cde",
   "metadata": {},
   "outputs": [],
   "source": [
    "story = [r]"
   ]
  },
  {
   "cell_type": "code",
   "execution_count": 33,
   "id": "a220b2d9",
   "metadata": {},
   "outputs": [],
   "source": [
    "r = query(createPrompt(rawOverview, rawOutline, story, 'generateNextParagraph', parsedOutline['parts'][0]['name']))\n",
    "story.append(r)"
   ]
  },
  {
   "cell_type": "code",
   "execution_count": 34,
   "id": "6fe17e5c",
   "metadata": {},
   "outputs": [
    {
     "name": "stdout",
     "output_type": "stream",
     "text": [
      "It was a chaotic time in history. The civil war had been raging for years, and the battlefield was a dangerous place. Amidst the chaos, two people met - John, a 25 year old soldier, and Jane, a 20 year old nurse. Despite their differences, they found a connection in the midst of the war. But their love was not without its obstacles - John and Jane had to find a way to survive the war and be together.\n",
      "As they got to know each other, John and Jane quickly realized that they were on opposite sides of the war. Despite this, they still found a way to connect and support each other. They both knew that they had to find a way to survive the war and be together, no matter what.\n"
     ]
    }
   ],
   "source": [
    "print('\\n'.join(story))"
   ]
  },
  {
   "cell_type": "code",
   "execution_count": 35,
   "id": "6bd296a8",
   "metadata": {},
   "outputs": [],
   "source": [
    "def generateNextStep (rawOverview, rawOutline, story):\n",
    "    prompt = \"\"\"//storyRouter.js Generate the name of the function and the inputs and outputs that it will take\n",
    "\n",
    "\n",
    "story.rawOverview = {}\n",
    "\n",
    "story.rawOutline = {}\n",
    "\n",
    "story.current = {}\n",
    "\n",
    "\n",
    "\n",
    "interface move{{\n",
    "    \"currentStatus\": str, //the current status of the story, e.g. \"building setting\", \"building characters\", \"writing story\"\n",
    "    \"storyDirection\": str, //the direction the story is going, e.g.\"building setting\", \"building down\", \"building to a climax\"\n",
    "    //the AI is capable of performing any task\n",
    "    \"nextFunction\": str, //the name of the function to call, e.g. if building setting it would be \"buildSetting\", if writing story it would be \"writeStory\"\n",
    "    \"functionInputs\": str, //the inputs the next function will need, e.g. {{character: \"Romeo\", emotion: \"sad\"}}; be creative\n",
    "}}\n",
    "\n",
    "const generateNextMove = () : move =>{{\n",
    "    return ai.generateNextMove()\n",
    "}}\n",
    "    \n",
    "console.log('Out: ' + generateNextMove())\n",
    "//return \n",
    "Out:\"\"\".format(rawOverview, rawOutline, story)\n",
    "    return prompt\n",
    "    "
   ]
  },
  {
   "cell_type": "code",
   "execution_count": 36,
   "id": "47877608",
   "metadata": {},
   "outputs": [],
   "source": [
    "r = query(generateNextStep(rawOverview, rawOutline, story), temperature=.5)"
   ]
  },
  {
   "cell_type": "code",
   "execution_count": 37,
   "id": "495abb60",
   "metadata": {},
   "outputs": [],
   "source": [
    "instr = json.loads(r)"
   ]
  },
  {
   "cell_type": "code",
   "execution_count": 38,
   "id": "aab09987",
   "metadata": {},
   "outputs": [
    {
     "data": {
      "text/plain": [
       "{'currentStatus': 'building setting',\n",
       " 'storyDirection': 'building up',\n",
       " 'nextFunction': 'buildSetting',\n",
       " 'functionInputs': {'setting': 'A battlefield during the civil war'}}"
      ]
     },
     "execution_count": 38,
     "metadata": {},
     "output_type": "execute_result"
    }
   ],
   "source": [
    "instr"
   ]
  },
  {
   "cell_type": "code",
   "execution_count": 39,
   "id": "3400901b",
   "metadata": {},
   "outputs": [],
   "source": [
    "def createPromptV2(overview, outline, story, fnName, currentSection, props):\n",
    "    fillOutlinePrompt = \"\"\" /* Write the next paragraph in a story for a given purpose\n",
    "\n",
    "    //the overview of the entire story\n",
    "    fullOverview = {}\n",
    "    \n",
    "    //the outline that the story should follow\n",
    "    fullOutline = {}\n",
    "    \n",
    "    //the paragraphs of the story so far\n",
    "    storySoFar = {}\n",
    "\n",
    "    const {} = (props) : str =>{{\n",
    "        return ai.write()\n",
    "    }}\n",
    "\n",
    "    currentOutlineSection = {}\n",
    "\n",
    "    console.log(\"Out: \" + {}({}))\n",
    "    Out:\"\"\".format(overview, outline, story, fnName, currentSection, fnName, props)\n",
    "    \n",
    "    return fillOutlinePrompt"
   ]
  },
  {
   "cell_type": "code",
   "execution_count": 40,
   "id": "9da073b3",
   "metadata": {},
   "outputs": [
    {
     "name": "stdout",
     "output_type": "stream",
     "text": [
      " /* Write the next paragraph in a story for a given purpose\n",
      "\n",
      "    //the overview of the entire story\n",
      "    fullOverview = {\n",
      "    \"setting\": \"A battlefield during the civil war\",\n",
      "    \"characters\": [\n",
      "        {\n",
      "            \"name\": \"John\",\n",
      "            \"profession\": \"Soldier\",\n",
      "            \"age\": 25\n",
      "        },\n",
      "        {\n",
      "            \"name\": \"Jane\",\n",
      "            \"profession\": \"Nurse\",\n",
      "            \"age\": 20\n",
      "        }\n",
      "    ],\n",
      "    \"conflict\": \"John and Jane must find a way to survive the war and find love in the midst of chaos.\",\n",
      "    \"plotTwist\": \"John and Jane discover they are on opposite sides of the war.\",\n",
      "    \"resolution\": \"Despite their differences, John and Jane find a way to survive the war and be together.\"\n",
      "}\n",
      "    \n",
      "    //the outline that the story should follow\n",
      "    fullOutline = {\n",
      "  \"parts\": [\n",
      "    {\n",
      "      \"name\": \"Introduction\",\n",
      "      \"description\": \"The story introduces the setting, characters, and the main conflict.\"\n",
      "    },\n",
      "    {\n",
      "      \"name\": \"Rising Action\",\n",
      "      \"description\": \"John and Jane face obstacles as they try to survive the war and find love.\"\n",
      "    },\n",
      "    {\n",
      "      \"name\": \"Plot Twist\",\n",
      "      \"description\": \"John and Jane discover they are on opposite sides of the war.\"\n",
      "    },\n",
      "    {\n",
      "      \"name\": \"Climax\",\n",
      "      \"description\": \"John and Jane must find a way to overcome their differences and survive the war.\"\n",
      "    },\n",
      "    {\n",
      "      \"name\": \"Resolution\",\n",
      "      \"description\": \"John and Jane find a way to survive the war and be together.\"\n",
      "    }\n",
      "  ]\n",
      "}\n",
      "    \n",
      "    //the paragraphs of the story so far\n",
      "    storySoFar = ['It was a chaotic time in history. The civil war had been raging for years, and the battlefield was a dangerous place. Amidst the chaos, two people met - John, a 25 year old soldier, and Jane, a 20 year old nurse. Despite their differences, they found a connection in the midst of the war. But their love was not without its obstacles - John and Jane had to find a way to survive the war and be together.', 'As they got to know each other, John and Jane quickly realized that they were on opposite sides of the war. Despite this, they still found a way to connect and support each other. They both knew that they had to find a way to survive the war and be together, no matter what.']\n",
      "\n",
      "    const buildSetting = (props) : str =>{\n",
      "        return ai.write()\n",
      "    }\n",
      "\n",
      "    currentOutlineSection = Introduction\n",
      "\n",
      "    console.log(\"Out: \" + buildSetting({\"currentStatus\": \"building setting\", \"storyDirection\": \"building up\", \"nextFunction\": \"buildSetting\", \"functionInputs\": {\"setting\": \"A battlefield during the civil war\"}}))\n",
      "    Out:\n"
     ]
    },
    {
     "data": {
      "text/plain": [
       "'The battlefield was a chaotic place. The civil war had been raging for years, and the sound of gunfire and explosions filled the air. Amidst the chaos, two people met - John, a 25 year old soldier, and Jane, a 20 year old nurse. Despite their differences, they found a connection in the midst of the war.'"
      ]
     },
     "execution_count": 40,
     "metadata": {},
     "output_type": "execute_result"
    }
   ],
   "source": [
    "q = createPromptV2(rawOverview, rawOutline, story, instr['nextFunction'], parsedOutline['parts'][0]['name'], json.dumps(instr))\n",
    "print(q)\n",
    "query(q)"
   ]
  },
  {
   "cell_type": "code",
   "execution_count": 41,
   "id": "25e5b0af",
   "metadata": {},
   "outputs": [
    {
     "data": {
      "text/plain": [
       "['It was a chaotic time in history. The civil war had been raging for years, and the battlefield was a dangerous place. Amidst the chaos, two people met - John, a 25 year old soldier, and Jane, a 20 year old nurse. Despite their differences, they found a connection in the midst of the war. But their love was not without its obstacles - John and Jane had to find a way to survive the war and be together.',\n",
       " 'As they got to know each other, John and Jane quickly realized that they were on opposite sides of the war. Despite this, they still found a way to connect and support each other. They both knew that they had to find a way to survive the war and be together, no matter what.']"
      ]
     },
     "execution_count": 41,
     "metadata": {},
     "output_type": "execute_result"
    }
   ],
   "source": [
    "story"
   ]
  },
  {
   "cell_type": "code",
   "execution_count": 42,
   "id": "3230379b",
   "metadata": {},
   "outputs": [],
   "source": [
    "def iterateStory(rawOverview, rawOutline, story):\n",
    "    rawNextStep = query(generateNextStep(rawOverview, rawOutline, story), temperature=.5)\n",
    "    print('rawNextStep: ', rawNextStep)\n",
    "    instr = json.loads(rawNextStep)\n",
    "    q = createPromptV2(rawOverview, rawOutline, story, instr['nextFunction'], parsedOutline['parts'][0]['name'], json.dumps(instr))\n",
    "    nextPara = query(q)\n",
    "    story = story + [nextPara]\n",
    "    print('=====================')\n",
    "    print('STORY: ', '\\n'.join(story))\n",
    "    print('=====================')\n",
    "    return story"
   ]
  },
  {
   "cell_type": "code",
   "execution_count": 44,
   "id": "53589a85",
   "metadata": {},
   "outputs": [
    {
     "name": "stdout",
     "output_type": "stream",
     "text": [
      "rawNextStep:  {\n",
      "    \"currentStatus\": \"building setting\",\n",
      "    \"storyDirection\": \"building up\",\n",
      "    \"nextFunction\": \"buildSetting\",\n",
      "    \"functionInputs\": {\n",
      "        \"setting\": \"A battlefield during the civil war\"\n",
      "    }\n",
      "}\n",
      "=====================\n",
      "STORY:  It was a chaotic time in history. The civil war had been raging for years, and the battlefield was a dangerous place. Amidst the chaos, two people met - John, a 25 year old soldier, and Jane, a 20 year old nurse. Despite their differences, they found a connection in the midst of the war. But their love was not without its obstacles - John and Jane had to find a way to survive the war and be together.\n",
      "As they got to know each other, John and Jane quickly realized that they were on opposite sides of the war. Despite this, they still found a way to connect and support each other. They both knew that they had to find a way to survive the war and be together, no matter what.\n",
      "The battlefield was a chaotic place. The civil war had been raging for years, and the sound of gunfire and explosions filled the air. Amidst the chaos, two people met - John, a 25 year old soldier, and Jane, a 20 year old nurse. Despite their differences, they found a connection in the midst of the war.\n",
      "=====================\n"
     ]
    }
   ],
   "source": [
    "story = iterateStory(rawOverview, rawOutline, story)"
   ]
  },
  {
   "cell_type": "code",
   "execution_count": 45,
   "id": "d32f08a1",
   "metadata": {},
   "outputs": [
    {
     "name": "stdout",
     "output_type": "stream",
     "text": [
      "rawNextStep:  {\n",
      "    \"currentStatus\": \"building setting\",\n",
      "    \"storyDirection\": \"building up\",\n",
      "    \"nextFunction\": \"buildSetting\",\n",
      "    \"functionInputs\": {\n",
      "        \"setting\": \"A battlefield during the civil war\"\n",
      "    }\n",
      "}\n",
      "=====================\n",
      "STORY:  It was a chaotic time in history. The civil war had been raging for years, and the battlefield was a dangerous place. Amidst the chaos, two people met - John, a 25 year old soldier, and Jane, a 20 year old nurse. Despite their differences, they found a connection in the midst of the war. But their love was not without its obstacles - John and Jane had to find a way to survive the war and be together.\n",
      "As they got to know each other, John and Jane quickly realized that they were on opposite sides of the war. Despite this, they still found a way to connect and support each other. They both knew that they had to find a way to survive the war and be together, no matter what.\n",
      "The battlefield was a chaotic place. The civil war had been raging for years, and the sound of gunfire and explosions filled the air. Amidst the chaos, two people met - John, a 25 year old soldier, and Jane, a 20 year old nurse. Despite their differences, they found a connection in the midst of the war.\n",
      "The battlefield was a chaotic place. The civil war had been raging for years, and the sound of gunfire and explosions filled the air. Amidst the chaos, two people met - John, a 25 year old soldier, and Jane, a 20 year old nurse. Despite their differences, they found a connection in the midst of the war.\n",
      "=====================\n",
      "rawNextStep:  {\n",
      "    \"currentStatus\": \"building setting\",\n",
      "    \"storyDirection\": \"building to a climax\",\n",
      "    \"nextFunction\": \"buildSetting\",\n",
      "    \"functionInputs\": {setting: \"A battlefield during the civil war\"}\n",
      "}\n",
      "rawNextStep:  {\n",
      "    \"currentStatus\": \"building setting\", \n",
      "    \"storyDirection\": \"building down\", \n",
      "    \"nextFunction\": \"buildSetting\", \n",
      "    \"functionInputs\": {\n",
      "        \"setting\": \"A battlefield during the civil war\"\n",
      "    }\n",
      "}\n",
      "=====================\n",
      "STORY:  It was a chaotic time in history. The civil war had been raging for years, and the battlefield was a dangerous place. Amidst the chaos, two people met - John, a 25 year old soldier, and Jane, a 20 year old nurse. Despite their differences, they found a connection in the midst of the war. But their love was not without its obstacles - John and Jane had to find a way to survive the war and be together.\n",
      "As they got to know each other, John and Jane quickly realized that they were on opposite sides of the war. Despite this, they still found a way to connect and support each other. They both knew that they had to find a way to survive the war and be together, no matter what.\n",
      "The battlefield was a chaotic place. The civil war had been raging for years, and the sound of gunfire and explosions filled the air. Amidst the chaos, two people met - John, a 25 year old soldier, and Jane, a 20 year old nurse. Despite their differences, they found a connection in the midst of the war.\n",
      "The battlefield was a chaotic place. The civil war had been raging for years, and the sound of gunfire and explosions filled the air. Amidst the chaos, two people met - John, a 25 year old soldier, and Jane, a 20 year old nurse. Despite their differences, they found a connection in the midst of the war.\n",
      "The battlefield was a chaotic place. The civil war had been raging for years, and the sound of gunfire and explosions filled the air. Amidst the chaos, two people met - John, a 25 year old soldier, and Jane, a 20 year old nurse. Despite their differences, they found a connection in the midst of the war.\n",
      "=====================\n",
      "rawNextStep:  {\n",
      "    currentStatus: \"building setting\",\n",
      "    storyDirection: \"building up\",\n",
      "    nextFunction: \"buildSetting\",\n",
      "    functionInputs: {setting: \"A battlefield during the civil war\"}\n",
      "}\n",
      "rawNextStep:  {\n",
      "    \"currentStatus\": \"writing story\",\n",
      "    \"storyDirection\": \"building to a climax\",\n",
      "    \"nextFunction\": \"writeStory\",\n",
      "    \"functionInputs\": {\n",
      "        \"characters\": [\n",
      "            {\n",
      "                \"name\": \"John\",\n",
      "                \"profession\": \"Soldier\",\n",
      "                \"age\": 25\n",
      "            },\n",
      "            {\n",
      "                \"name\": \"Jane\",\n",
      "                \"profession\": \"Nurse\",\n",
      "                \"age\": 20\n",
      "            }\n",
      "        ],\n",
      "        \"conflict\": \"John and Jane must find a way to survive the war and find love in the midst of chaos.\",\n",
      "        \"plotTwist\": \"John and Jane discover they are on opposite sides of the war.\",\n",
      "        \"resolution\": \"Despite their differences, John and Jane find a way to survive the war and be together.\"\n",
      "    }\n",
      "}\n",
      "=====================\n",
      "STORY:  It was a chaotic time in history. The civil war had been raging for years, and the battlefield was a dangerous place. Amidst the chaos, two people met - John, a 25 year old soldier, and Jane, a 20 year old nurse. Despite their differences, they found a connection in the midst of the war. But their love was not without its obstacles - John and Jane had to find a way to survive the war and be together.\n",
      "As they got to know each other, John and Jane quickly realized that they were on opposite sides of the war. Despite this, they still found a way to connect and support each other. They both knew that they had to find a way to survive the war and be together, no matter what.\n",
      "The battlefield was a chaotic place. The civil war had been raging for years, and the sound of gunfire and explosions filled the air. Amidst the chaos, two people met - John, a 25 year old soldier, and Jane, a 20 year old nurse. Despite their differences, they found a connection in the midst of the war.\n",
      "The battlefield was a chaotic place. The civil war had been raging for years, and the sound of gunfire and explosions filled the air. Amidst the chaos, two people met - John, a 25 year old soldier, and Jane, a 20 year old nurse. Despite their differences, they found a connection in the midst of the war.\n",
      "The battlefield was a chaotic place. The civil war had been raging for years, and the sound of gunfire and explosions filled the air. Amidst the chaos, two people met - John, a 25 year old soldier, and Jane, a 20 year old nurse. Despite their differences, they found a connection in the midst of the war.\n",
      "John and Jane had found each other in the midst of the chaos of the civil war. Despite their differences, they had formed a connection in the midst of the war. John was a 25 year old soldier, and Jane was a 20 year old nurse. They both knew that they had to find a way to survive the war and be together, no matter what. But they soon realized that they were on opposite sides of the war. This posed a challenge for them, as they had to find a way to overcome their differences and survive the war.\n",
      "=====================\n",
      "rawNextStep:  {\n",
      "    \"currentStatus\": \"writing story\",\n",
      "    \"storyDirection\": \"building to a climax\",\n",
      "    \"nextFunction\": \"writeStory\",\n",
      "    \"functionInputs\": {\n",
      "        \"characters\": [\n",
      "            {\n",
      "                \"name\": \"John\",\n",
      "                \"profession\": \"Soldier\",\n",
      "                \"age\": 25\n",
      "            },\n",
      "            {\n",
      "                \"name\": \"Jane\",\n",
      "                \"profession\": \"Nurse\",\n",
      "                \"age\": 20\n",
      "            }\n",
      "        ],\n",
      "        \"conflict\": \"John and Jane must find a way to survive the war and find love in the midst of chaos.\",\n",
      "        \"plotTwist\": \"John and Jane discover they are on opposite sides of the war.\",\n",
      "        \"resolution\": \"Despite their differences, John and Jane find a way to survive the war and be together.\",\n",
      "        \"current\": [\n",
      "            //...\n",
      "        ]\n",
      "    }\n",
      "}\n",
      "rawNextStep:  {\n",
      "    \"currentStatus\": \"building setting\",\n",
      "    \"storyDirection\": \"building up\",\n",
      "    \"nextFunction\": \"buildSetting\",\n",
      "    \"functionInputs\": {\n",
      "        \"setting\": \"A battlefield during the civil war\"\n",
      "    }\n",
      "}\n",
      "=====================\n",
      "STORY:  It was a chaotic time in history. The civil war had been raging for years, and the battlefield was a dangerous place. Amidst the chaos, two people met - John, a 25 year old soldier, and Jane, a 20 year old nurse. Despite their differences, they found a connection in the midst of the war. But their love was not without its obstacles - John and Jane had to find a way to survive the war and be together.\n",
      "As they got to know each other, John and Jane quickly realized that they were on opposite sides of the war. Despite this, they still found a way to connect and support each other. They both knew that they had to find a way to survive the war and be together, no matter what.\n",
      "The battlefield was a chaotic place. The civil war had been raging for years, and the sound of gunfire and explosions filled the air. Amidst the chaos, two people met - John, a 25 year old soldier, and Jane, a 20 year old nurse. Despite their differences, they found a connection in the midst of the war.\n",
      "The battlefield was a chaotic place. The civil war had been raging for years, and the sound of gunfire and explosions filled the air. Amidst the chaos, two people met - John, a 25 year old soldier, and Jane, a 20 year old nurse. Despite their differences, they found a connection in the midst of the war.\n",
      "The battlefield was a chaotic place. The civil war had been raging for years, and the sound of gunfire and explosions filled the air. Amidst the chaos, two people met - John, a 25 year old soldier, and Jane, a 20 year old nurse. Despite their differences, they found a connection in the midst of the war.\n",
      "John and Jane had found each other in the midst of the chaos of the civil war. Despite their differences, they had formed a connection in the midst of the war. John was a 25 year old soldier, and Jane was a 20 year old nurse. They both knew that they had to find a way to survive the war and be together, no matter what. But they soon realized that they were on opposite sides of the war. This posed a challenge for them, as they had to find a way to overcome their differences and survive the war.\n",
      "The battlefield was a chaotic place. The civil war had been raging for years, and the sound of gunfire and explosions filled the air. Amidst the chaos, two people met - John, a 25 year old soldier, and Jane, a 20 year old nurse. Despite their differences, they found a connection in the midst of the war.\n",
      "=====================\n",
      "rawNextStep:  {\n",
      "    \"currentStatus\": \"building setting\",\n",
      "    \"storyDirection\": \"building up\",\n",
      "    \"nextFunction\": \"buildSetting\",\n",
      "    \"functionInputs\": {\n",
      "        \"setting\": \"A battlefield during the civil war\"\n",
      "    }\n",
      "}\n",
      "=====================\n",
      "STORY:  It was a chaotic time in history. The civil war had been raging for years, and the battlefield was a dangerous place. Amidst the chaos, two people met - John, a 25 year old soldier, and Jane, a 20 year old nurse. Despite their differences, they found a connection in the midst of the war. But their love was not without its obstacles - John and Jane had to find a way to survive the war and be together.\n",
      "As they got to know each other, John and Jane quickly realized that they were on opposite sides of the war. Despite this, they still found a way to connect and support each other. They both knew that they had to find a way to survive the war and be together, no matter what.\n",
      "The battlefield was a chaotic place. The civil war had been raging for years, and the sound of gunfire and explosions filled the air. Amidst the chaos, two people met - John, a 25 year old soldier, and Jane, a 20 year old nurse. Despite their differences, they found a connection in the midst of the war.\n",
      "The battlefield was a chaotic place. The civil war had been raging for years, and the sound of gunfire and explosions filled the air. Amidst the chaos, two people met - John, a 25 year old soldier, and Jane, a 20 year old nurse. Despite their differences, they found a connection in the midst of the war.\n",
      "The battlefield was a chaotic place. The civil war had been raging for years, and the sound of gunfire and explosions filled the air. Amidst the chaos, two people met - John, a 25 year old soldier, and Jane, a 20 year old nurse. Despite their differences, they found a connection in the midst of the war.\n",
      "John and Jane had found each other in the midst of the chaos of the civil war. Despite their differences, they had formed a connection in the midst of the war. John was a 25 year old soldier, and Jane was a 20 year old nurse. They both knew that they had to find a way to survive the war and be together, no matter what. But they soon realized that they were on opposite sides of the war. This posed a challenge for them, as they had to find a way to overcome their differences and survive the war.\n",
      "The battlefield was a chaotic place. The civil war had been raging for years, and the sound of gunfire and explosions filled the air. Amidst the chaos, two people met - John, a 25 year old soldier, and Jane, a 20 year old nurse. Despite their differences, they found a connection in the midst of the war.\n",
      "The battlefield was a chaotic place. The civil war had been raging for years, and the sound of gunfire and explosions filled the air. Amidst the chaos, two people met - John, a 25 year old soldier, and Jane, a 20 year old nurse. Despite their differences, they found a connection in the midst of the war.\n",
      "=====================\n",
      "rawNextStep:  {\n",
      "    \"currentStatus\": \"building setting\",\n",
      "    \"storyDirection\": \"building setting\",\n",
      "    \"nextFunction\": \"buildSetting\",\n",
      "    \"functionInputs\": {\n",
      "        \"setting\": \"A battlefield during the civil war\"\n",
      "    }\n",
      "}\n",
      "=====================\n",
      "STORY:  It was a chaotic time in history. The civil war had been raging for years, and the battlefield was a dangerous place. Amidst the chaos, two people met - John, a 25 year old soldier, and Jane, a 20 year old nurse. Despite their differences, they found a connection in the midst of the war. But their love was not without its obstacles - John and Jane had to find a way to survive the war and be together.\n",
      "As they got to know each other, John and Jane quickly realized that they were on opposite sides of the war. Despite this, they still found a way to connect and support each other. They both knew that they had to find a way to survive the war and be together, no matter what.\n",
      "The battlefield was a chaotic place. The civil war had been raging for years, and the sound of gunfire and explosions filled the air. Amidst the chaos, two people met - John, a 25 year old soldier, and Jane, a 20 year old nurse. Despite their differences, they found a connection in the midst of the war.\n",
      "The battlefield was a chaotic place. The civil war had been raging for years, and the sound of gunfire and explosions filled the air. Amidst the chaos, two people met - John, a 25 year old soldier, and Jane, a 20 year old nurse. Despite their differences, they found a connection in the midst of the war.\n",
      "The battlefield was a chaotic place. The civil war had been raging for years, and the sound of gunfire and explosions filled the air. Amidst the chaos, two people met - John, a 25 year old soldier, and Jane, a 20 year old nurse. Despite their differences, they found a connection in the midst of the war.\n",
      "John and Jane had found each other in the midst of the chaos of the civil war. Despite their differences, they had formed a connection in the midst of the war. John was a 25 year old soldier, and Jane was a 20 year old nurse. They both knew that they had to find a way to survive the war and be together, no matter what. But they soon realized that they were on opposite sides of the war. This posed a challenge for them, as they had to find a way to overcome their differences and survive the war.\n",
      "The battlefield was a chaotic place. The civil war had been raging for years, and the sound of gunfire and explosions filled the air. Amidst the chaos, two people met - John, a 25 year old soldier, and Jane, a 20 year old nurse. Despite their differences, they found a connection in the midst of the war.\n",
      "The battlefield was a chaotic place. The civil war had been raging for years, and the sound of gunfire and explosions filled the air. Amidst the chaos, two people met - John, a 25 year old soldier, and Jane, a 20 year old nurse. Despite their differences, they found a connection in the midst of the war.\n",
      "The battlefield was a chaotic place. The civil war had been raging for years, and the sound of gunfire and explosions filled the air. Amidst the chaos, two people met - John, a 25 year old soldier, and Jane, a 20 year old nurse. Despite their differences, they found a connection in the midst of the war.\n",
      "=====================\n",
      "rawNextStep:  {\n",
      "    currentStatus: \"building setting\",\n",
      "    storyDirection: \"building up\",\n",
      "    nextFunction: \"buildSetting\",\n",
      "    functionInputs: {setting: \"A battlefield during the civil war\"}\n",
      "}\n"
     ]
    }
   ],
   "source": [
    "for i in range(10):\n",
    "    try:\n",
    "        story = iterateStory(rawOverview, rawOutline, story)\n",
    "    except:\n",
    "        pass"
   ]
  },
  {
   "cell_type": "code",
   "execution_count": 46,
   "id": "047f2e6c",
   "metadata": {},
   "outputs": [
    {
     "data": {
      "text/plain": [
       "['It was a chaotic time in history. The civil war had been raging for years, and the battlefield was a dangerous place. Amidst the chaos, two people met - John, a 25 year old soldier, and Jane, a 20 year old nurse. Despite their differences, they found a connection in the midst of the war. But their love was not without its obstacles - John and Jane had to find a way to survive the war and be together.',\n",
       " 'As they got to know each other, John and Jane quickly realized that they were on opposite sides of the war. Despite this, they still found a way to connect and support each other. They both knew that they had to find a way to survive the war and be together, no matter what.',\n",
       " 'The battlefield was a chaotic place. The civil war had been raging for years, and the sound of gunfire and explosions filled the air. Amidst the chaos, two people met - John, a 25 year old soldier, and Jane, a 20 year old nurse. Despite their differences, they found a connection in the midst of the war.',\n",
       " 'The battlefield was a chaotic place. The civil war had been raging for years, and the sound of gunfire and explosions filled the air. Amidst the chaos, two people met - John, a 25 year old soldier, and Jane, a 20 year old nurse. Despite their differences, they found a connection in the midst of the war.',\n",
       " 'The battlefield was a chaotic place. The civil war had been raging for years, and the sound of gunfire and explosions filled the air. Amidst the chaos, two people met - John, a 25 year old soldier, and Jane, a 20 year old nurse. Despite their differences, they found a connection in the midst of the war.',\n",
       " 'John and Jane had found each other in the midst of the chaos of the civil war. Despite their differences, they had formed a connection in the midst of the war. John was a 25 year old soldier, and Jane was a 20 year old nurse. They both knew that they had to find a way to survive the war and be together, no matter what. But they soon realized that they were on opposite sides of the war. This posed a challenge for them, as they had to find a way to overcome their differences and survive the war.',\n",
       " 'The battlefield was a chaotic place. The civil war had been raging for years, and the sound of gunfire and explosions filled the air. Amidst the chaos, two people met - John, a 25 year old soldier, and Jane, a 20 year old nurse. Despite their differences, they found a connection in the midst of the war.',\n",
       " 'The battlefield was a chaotic place. The civil war had been raging for years, and the sound of gunfire and explosions filled the air. Amidst the chaos, two people met - John, a 25 year old soldier, and Jane, a 20 year old nurse. Despite their differences, they found a connection in the midst of the war.',\n",
       " 'The battlefield was a chaotic place. The civil war had been raging for years, and the sound of gunfire and explosions filled the air. Amidst the chaos, two people met - John, a 25 year old soldier, and Jane, a 20 year old nurse. Despite their differences, they found a connection in the midst of the war.']"
      ]
     },
     "execution_count": 46,
     "metadata": {},
     "output_type": "execute_result"
    }
   ],
   "source": [
    "story"
   ]
  },
  {
   "cell_type": "code",
   "execution_count": null,
   "id": "3c05fa44",
   "metadata": {},
   "outputs": [],
   "source": []
  }
 ],
 "metadata": {
  "kernelspec": {
   "display_name": "base",
   "language": "python",
   "name": "python3"
  },
  "language_info": {
   "codemirror_mode": {
    "name": "ipython",
    "version": 3
   },
   "file_extension": ".py",
   "mimetype": "text/x-python",
   "name": "python",
   "nbconvert_exporter": "python",
   "pygments_lexer": "ipython3",
   "version": "3.9.12"
  },
  "vscode": {
   "interpreter": {
    "hash": "230465a67f968560cbadbe9266958ba79a37944744e257da8b63a5bddd2e3c12"
   }
  }
 },
 "nbformat": 4,
 "nbformat_minor": 5
}
