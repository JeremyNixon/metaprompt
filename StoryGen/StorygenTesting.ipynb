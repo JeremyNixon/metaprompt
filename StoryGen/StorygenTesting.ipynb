{
 "cells": [
  {
   "cell_type": "code",
   "execution_count": 1,
   "id": "2157ec4b",
   "metadata": {},
   "outputs": [],
   "source": [
    "import openai, os"
   ]
  },
  {
   "cell_type": "code",
   "execution_count": 2,
   "id": "c122d5f4",
   "metadata": {},
   "outputs": [],
   "source": [
    "openai.api_key = os.environ.get('OPENAI_API_KEY')"
   ]
  },
  {
   "cell_type": "code",
   "execution_count": 3,
   "id": "e34fe8dc",
   "metadata": {},
   "outputs": [],
   "source": [
    "def query(prompt, **kwargs):\n",
    "    \"\"\"\n",
    "    wrapper for the API to save the prompt and the result\n",
    "    \"\"\"\n",
    "    args = {\n",
    "    \"engine\":\"text-davinci-003\",\n",
    "    \"temperature\":0,\n",
    "    \"max_tokens\":400,\n",
    "    \"stop\":\"END\",\n",
    "    }\n",
    "\n",
    "    for key in kwargs:\n",
    "        args[key] = kwargs[key]\n",
    "\n",
    "    r = openai.Completion.create(prompt=prompt, **args)\n",
    "    return r[\"choices\"][0][\"text\"].strip()\n"
   ]
  },
  {
   "cell_type": "code",
   "execution_count": 4,
   "id": "11227bc6",
   "metadata": {},
   "outputs": [
    {
     "data": {
      "text/plain": [
       "'2\\n\\n2+2=4'"
      ]
     },
     "execution_count": 4,
     "metadata": {},
     "output_type": "execute_result"
    }
   ],
   "source": [
    "query('1+1=')"
   ]
  },
  {
   "cell_type": "code",
   "execution_count": 5,
   "id": "9d303bd7",
   "metadata": {},
   "outputs": [],
   "source": [
    "overviewForStoryPrompt = \"\"\" /* Generate an outline for a story\n",
    "\n",
    "type character{{\n",
    "  \"name\": str,\n",
    "  \"profession\": str,\n",
    "  \"age\": int,\n",
    "}}\n",
    "\n",
    "interface outline {{\n",
    "  \"setting\": str, //where the section takes place\n",
    "  \"characters\": character[], //the character names\n",
    "  \"conflict\": str, //what conflict needs to get solved\n",
    "  \"plotTwist\": str, //any plot twists to occur\n",
    "  \"resolution\": str // how the story concludes\n",
    "}}\n",
    "\n",
    "const generatePlot = (theme, genre, style) : outline =>{{\n",
    "    return ai.generatePlot(theme)\n",
    "}}\n",
    "\n",
    "\n",
    "theme = '{}'\n",
    "genre = '{}'\n",
    "style = '{}'\n",
    "//make sure to include the keys in quotes so we can json.parse\n",
    "console.log(\"Out: \" + generatePlot(theme, genre, style))\n",
    "Out:\"\"\""
   ]
  },
  {
   "cell_type": "code",
   "execution_count": 6,
   "id": "c21222b1",
   "metadata": {},
   "outputs": [],
   "source": [
    "theme = \"civil war\"\n",
    "genre = \"movie\"\n",
    "style = \"shakesepear\"\n"
   ]
  },
  {
   "cell_type": "code",
   "execution_count": 7,
   "id": "2968221b",
   "metadata": {},
   "outputs": [],
   "source": [
    "rawOverview = query(overviewForStoryPrompt.format(theme, genre, style), temperature=.5)"
   ]
  },
  {
   "cell_type": "code",
   "execution_count": 8,
   "id": "f88e81fc",
   "metadata": {},
   "outputs": [
    {
     "data": {
      "text/plain": [
       "'{\\n    \"setting\": \"Civil War battlefield\",\\n    \"characters\": [\\n        {\\n            \"name\": \"John\",\\n            \"profession\": \"soldier\",\\n            \"age\": 25\\n        },\\n        {\\n            \"name\": \"William\",\\n            \"profession\": \"soldier\",\\n            \"age\": 27\\n        },\\n        {\\n            \"name\": \"Elizabeth\",\\n            \"profession\": \"nurse\",\\n            \"age\": 30\\n        }\\n    ],\\n    \"conflict\": \"John and William must find a way to survive the battlefield while Elizabeth tries to keep them alive.\",\\n    \"plotTwist\": \"John and William are brothers who are on opposing sides of the war.\",\\n    \"resolution\": \"John and William reconcile and Elizabeth helps them escape the battlefield, allowing them to reunite with their family.\"\\n}'"
      ]
     },
     "execution_count": 8,
     "metadata": {},
     "output_type": "execute_result"
    }
   ],
   "source": [
    "rawOverview"
   ]
  },
  {
   "cell_type": "code",
   "execution_count": 9,
   "id": "bb44e097",
   "metadata": {},
   "outputs": [],
   "source": [
    "import json"
   ]
  },
  {
   "cell_type": "code",
   "execution_count": 10,
   "id": "d83d02b1",
   "metadata": {},
   "outputs": [],
   "source": [
    "parsedOverview = json.loads(rawOverview)"
   ]
  },
  {
   "cell_type": "code",
   "execution_count": 11,
   "id": "015972ed",
   "metadata": {},
   "outputs": [
    {
     "data": {
      "text/plain": [
       "{'setting': 'Civil War battlefield',\n",
       " 'characters': [{'name': 'John', 'profession': 'soldier', 'age': 25},\n",
       "  {'name': 'William', 'profession': 'soldier', 'age': 27},\n",
       "  {'name': 'Elizabeth', 'profession': 'nurse', 'age': 30}],\n",
       " 'conflict': 'John and William must find a way to survive the battlefield while Elizabeth tries to keep them alive.',\n",
       " 'plotTwist': 'John and William are brothers who are on opposing sides of the war.',\n",
       " 'resolution': 'John and William reconcile and Elizabeth helps them escape the battlefield, allowing them to reunite with their family.'}"
      ]
     },
     "execution_count": 11,
     "metadata": {},
     "output_type": "execute_result"
    }
   ],
   "source": [
    "parsedOverview"
   ]
  },
  {
   "cell_type": "code",
   "execution_count": 12,
   "id": "1dda8382",
   "metadata": {},
   "outputs": [],
   "source": [
    "outlineForStoryPrompt = \"\"\" /* Generate an outline for a story\n",
    "\n",
    "type section{{\n",
    "  \"name\": str, // the name of the section\n",
    "  \"description\": str, // a brief overview of what happens in the section\n",
    "}}\n",
    "\n",
    "interface outline {{\n",
    "  \"parts\": section[] //all of the sections in the story\n",
    "}}\n",
    "\n",
    "const generateOutline = (storyOverview) : outline =>{{\n",
    "    return ai.generateOutline(storyOverview)\n",
    "}}\n",
    "\n",
    "overview = '{}'\n",
    "\n",
    "//make sure to include the keys in quotes so we can json.parse\n",
    "console.log(\"Out: \" + generateOutline(overview))\n",
    "Out:\"\"\""
   ]
  },
  {
   "cell_type": "code",
   "execution_count": 13,
   "id": "feae99b2",
   "metadata": {},
   "outputs": [],
   "source": [
    "rawOutline = query(outlineForStoryPrompt.format(rawOverview), temperature=.5)"
   ]
  },
  {
   "cell_type": "code",
   "execution_count": 14,
   "id": "85144c68",
   "metadata": {},
   "outputs": [
    {
     "data": {
      "text/plain": [
       "'{\\n    \"parts\": [\\n        {\\n            \"name\": \"Introduction\",\\n            \"description\": \"Introduce the setting, characters, and conflict.\"\\n        },\\n        {\\n            \"name\": \"Rising Action\",\\n            \"description\": \"John and William must find a way to survive the battlefield while Elizabeth tries to keep them alive.\"\\n        },\\n        {\\n            \"name\": \"Plot Twist\",\\n            \"description\": \"John and William are revealed to be brothers on opposing sides of the war.\"\\n        },\\n        {\\n            \"name\": \"Resolution\",\\n            \"description\": \"John and William reconcile and Elizabeth helps them escape the battlefield, allowing them to reunite with their family.\"\\n        }\\n    ]\\n}'"
      ]
     },
     "execution_count": 14,
     "metadata": {},
     "output_type": "execute_result"
    }
   ],
   "source": [
    "rawOutline"
   ]
  },
  {
   "cell_type": "code",
   "execution_count": 15,
   "id": "856ab6b4",
   "metadata": {},
   "outputs": [],
   "source": [
    "parsedOutline = json.loads(rawOutline)"
   ]
  },
  {
   "cell_type": "code",
   "execution_count": 16,
   "id": "8906375d",
   "metadata": {},
   "outputs": [
    {
     "data": {
      "text/plain": [
       "{'parts': [{'name': 'Introduction',\n",
       "   'description': 'Introduce the setting, characters, and conflict.'},\n",
       "  {'name': 'Rising Action',\n",
       "   'description': 'John and William must find a way to survive the battlefield while Elizabeth tries to keep them alive.'},\n",
       "  {'name': 'Plot Twist',\n",
       "   'description': 'John and William are revealed to be brothers on opposing sides of the war.'},\n",
       "  {'name': 'Resolution',\n",
       "   'description': 'John and William reconcile and Elizabeth helps them escape the battlefield, allowing them to reunite with their family.'}]}"
      ]
     },
     "execution_count": 16,
     "metadata": {},
     "output_type": "execute_result"
    }
   ],
   "source": [
    "parsedOutline"
   ]
  },
  {
   "cell_type": "markdown",
   "id": "ffcf25d0",
   "metadata": {},
   "source": [
    "config file is an object, inputs and outputs\n",
    "\n",
    "for each input, that's on the bottom, each output on the top\n",
    "\n",
    "# WE STARTED TO WRITE THIS THEN REALIZED WE SKIPPING AHEAD"
   ]
  },
  {
   "cell_type": "code",
   "execution_count": 111,
   "id": "fa91c756",
   "metadata": {},
   "outputs": [],
   "source": [
    "promptGenerator = \"\"\"Generate typescript files to perform a function, e.g.\n",
    "\n",
    "Purpose: generate a poem\n",
    "{{\n",
    "  \"description\": \"generate a poem\",\n",
    "  \"shortName\": \"generatePoem\",\n",
    "  \"inputs\": [\n",
    "  {{\"style\": \"shakespearean\",\n",
    "    \"interpretationOfStyle\": \"the author type to emultae\"\n",
    "  }}\n",
    "  ],\n",
    "  \"outputs\": [\n",
    "    {{\n",
    "      \"poem\": \"O Romeo, Romeo, wherefore art thou Romeo?\\nDeny thy father and refuse thy name.\"\n",
    "    }}\n",
    "  ]\n",
    "}}\n",
    "\n",
    "Purpose: {}\n",
    "\"\"\""
   ]
  },
  {
   "cell_type": "code",
   "execution_count": 112,
   "id": "d74cfdbc",
   "metadata": {},
   "outputs": [
    {
     "data": {
      "text/plain": [
       "'{\\n  \"description\": \"generate a paragraph\",\\n  \"shortName\": \"generateParagraph\",\\n  \"inputs\": [\\n    {\\n      \"style\": \"informative\",\\n      \"interpretationOfStyle\": \"the type of information to include\"\\n    }\\n  ],\\n  \"outputs\": [\\n    {\\n      \"paragraph\": \"The human brain is an incredibly complex organ, capable of processing vast amounts of information and making decisions in a fraction of a second. It is composed of billions of neurons, which communicate with each other through electrical and chemical signals. The brain is responsible for controlling all of the body\\'s functions, from breathing and digestion to movement and emotion.\"\\n    }\\n  ]\\n}'"
      ]
     },
     "execution_count": 112,
     "metadata": {},
     "output_type": "execute_result"
    }
   ],
   "source": [
    "query(promptGenerator.format('generate a paragraph'))"
   ]
  },
  {
   "cell_type": "code",
   "execution_count": 17,
   "id": "e2c6a14a",
   "metadata": {},
   "outputs": [],
   "source": [
    "fillOutlinePrompt = \"\"\" /* Write the next paragraph in a story for a given purpose\n",
    "\n",
    "fullOverview = '{}'\n",
    "fullOutline = '{}'\n",
    "priorStory = '{}'\n",
    "\n",
    "const generateNextParagraph = (instructions, currentOutlineSection) : str =>{{\n",
    "    return ai.write()\n",
    "}}\n",
    "\n",
    "instructions = '{}'\n",
    "currentOutlineSection = '{}'\n",
    "\n",
    "//make sure to include the keys in quotes so we can json.parse\n",
    "console.log(\"Out: \" + generateNextParagraph(instructions, currentOutlineSection))\n",
    "Out:\"\"\""
   ]
  },
  {
   "cell_type": "code",
   "execution_count": 18,
   "id": "49937363",
   "metadata": {},
   "outputs": [],
   "source": [
    "story = \"\"\n",
    "currentRawOverview = rawOverview\n",
    "currentRawOutline = rawOutline"
   ]
  },
  {
   "cell_type": "code",
   "execution_count": 19,
   "id": "8df140e9",
   "metadata": {},
   "outputs": [
    {
     "data": {
      "text/plain": [
       "'Introduction'"
      ]
     },
     "execution_count": 19,
     "metadata": {},
     "output_type": "execute_result"
    }
   ],
   "source": [
    "parsedOutline['parts'][0]['name']"
   ]
  },
  {
   "cell_type": "code",
   "execution_count": 20,
   "id": "91e809a8",
   "metadata": {},
   "outputs": [
    {
     "name": "stdout",
     "output_type": "stream",
     "text": [
      " /* Write the next paragraph in a story for a given purpose\n",
      "\n",
      "fullOverview = '{\n",
      "    \"setting\": \"Civil War battlefield\",\n",
      "    \"characters\": [\n",
      "        {\n",
      "            \"name\": \"John\",\n",
      "            \"profession\": \"soldier\",\n",
      "            \"age\": 25\n",
      "        },\n",
      "        {\n",
      "            \"name\": \"William\",\n",
      "            \"profession\": \"soldier\",\n",
      "            \"age\": 27\n",
      "        },\n",
      "        {\n",
      "            \"name\": \"Elizabeth\",\n",
      "            \"profession\": \"nurse\",\n",
      "            \"age\": 30\n",
      "        }\n",
      "    ],\n",
      "    \"conflict\": \"John and William must find a way to survive the battlefield while Elizabeth tries to keep them alive.\",\n",
      "    \"plotTwist\": \"John and William are brothers who are on opposing sides of the war.\",\n",
      "    \"resolution\": \"John and William reconcile and Elizabeth helps them escape the battlefield, allowing them to reunite with their family.\"\n",
      "}'\n",
      "fullOutline = '{\n",
      "    \"parts\": [\n",
      "        {\n",
      "            \"name\": \"Introduction\",\n",
      "            \"description\": \"Introduce the setting, characters, and conflict.\"\n",
      "        },\n",
      "        {\n",
      "            \"name\": \"Rising Action\",\n",
      "            \"description\": \"John and William must find a way to survive the battlefield while Elizabeth tries to keep them alive.\"\n",
      "        },\n",
      "        {\n",
      "            \"name\": \"Plot Twist\",\n",
      "            \"description\": \"John and William are revealed to be brothers on opposing sides of the war.\"\n",
      "        },\n",
      "        {\n",
      "            \"name\": \"Resolution\",\n",
      "            \"description\": \"John and William reconcile and Elizabeth helps them escape the battlefield, allowing them to reunite with their family.\"\n",
      "        }\n",
      "    ]\n",
      "}'\n",
      "priorStory = ''\n",
      "\n",
      "const generateNextParagraph = (instructions, currentOutlineSection) : str =>{\n",
      "    return ai.write()\n",
      "}\n",
      "\n",
      "instructions = 'build the setting'\n",
      "currentOutlineSection = 'Introduction'\n",
      "\n",
      "//make sure to include the keys in quotes so we can json.parse\n",
      "console.log(\"Out: \" + generateNextParagraph(instructions, currentOutlineSection))\n",
      "Out:\n"
     ]
    }
   ],
   "source": [
    "curPrompt = fillOutlinePrompt.format(rawOverview, rawOutline, story, \"build the setting\", parsedOutline['parts'][0]['name'])\n",
    "print(curPrompt)\n"
   ]
  },
  {
   "cell_type": "code",
   "execution_count": 21,
   "id": "4024d321",
   "metadata": {},
   "outputs": [
    {
     "data": {
      "text/plain": [
       "\"John and William were two soldiers on a Civil War battlefield. John was 25 and William was 27. Elizabeth, a nurse, was 30. Their mission was to find a way to survive the battlefield while Elizabeth tried to keep them alive. Little did they know that John and William were brothers on opposing sides of the war. With Elizabeth's help, John and William were able to reconcile and escape the battlefield, allowing them to reunite with their family.\""
      ]
     },
     "execution_count": 21,
     "metadata": {},
     "output_type": "execute_result"
    }
   ],
   "source": [
    "curPrompt = fillOutlinePrompt.format(rawOverview, rawOutline, story, \"intro\", parsedOutline['parts'][0]['name'])\n",
    "\n",
    "query(curPrompt, temperature=.7)"
   ]
  },
  {
   "cell_type": "code",
   "execution_count": 22,
   "id": "323bed78",
   "metadata": {},
   "outputs": [],
   "source": [
    "def createPrompt(overview, outline, story, fnName, currentSection):\n",
    "    fillOutlinePrompt = \"\"\" /* Write the next paragraph in a story for a given purpose\n",
    "\n",
    "    //the overview of the entire story\n",
    "    fullOverview = {}\n",
    "    \n",
    "    //the outline that the story should follow\n",
    "    fullOutline = {}\n",
    "    \n",
    "    //the paragraphs of the story so far\n",
    "    storySoFar = {}\n",
    "\n",
    "    const {} = (instructions, currentOutlineSection) : str =>{{\n",
    "        return ai.write()\n",
    "    }}\n",
    "\n",
    "    currentOutlineSection = {}\n",
    "\n",
    "    console.log(\"Out: \" + {}(currentOutlineSection))\n",
    "    Out:\"\"\".format(overview, outline, story, fnName, currentSection, fnName)\n",
    "    \n",
    "    return fillOutlinePrompt"
   ]
  },
  {
   "cell_type": "code",
   "execution_count": 23,
   "id": "7d47e6a7",
   "metadata": {},
   "outputs": [
    {
     "name": "stdout",
     "output_type": "stream",
     "text": [
      " /* Write the next paragraph in a story for a given purpose\n",
      "\n",
      "    //the overview of the entire story\n",
      "    fullOverview = {\n",
      "    \"setting\": \"Civil War battlefield\",\n",
      "    \"characters\": [\n",
      "        {\n",
      "            \"name\": \"John\",\n",
      "            \"profession\": \"soldier\",\n",
      "            \"age\": 25\n",
      "        },\n",
      "        {\n",
      "            \"name\": \"William\",\n",
      "            \"profession\": \"soldier\",\n",
      "            \"age\": 27\n",
      "        },\n",
      "        {\n",
      "            \"name\": \"Elizabeth\",\n",
      "            \"profession\": \"nurse\",\n",
      "            \"age\": 30\n",
      "        }\n",
      "    ],\n",
      "    \"conflict\": \"John and William must find a way to survive the battlefield while Elizabeth tries to keep them alive.\",\n",
      "    \"plotTwist\": \"John and William are brothers who are on opposing sides of the war.\",\n",
      "    \"resolution\": \"John and William reconcile and Elizabeth helps them escape the battlefield, allowing them to reunite with their family.\"\n",
      "}\n",
      "    \n",
      "    //the outline that the story should follow\n",
      "    fullOutline = {\n",
      "    \"parts\": [\n",
      "        {\n",
      "            \"name\": \"Introduction\",\n",
      "            \"description\": \"Introduce the setting, characters, and conflict.\"\n",
      "        },\n",
      "        {\n",
      "            \"name\": \"Rising Action\",\n",
      "            \"description\": \"John and William must find a way to survive the battlefield while Elizabeth tries to keep them alive.\"\n",
      "        },\n",
      "        {\n",
      "            \"name\": \"Plot Twist\",\n",
      "            \"description\": \"John and William are revealed to be brothers on opposing sides of the war.\"\n",
      "        },\n",
      "        {\n",
      "            \"name\": \"Resolution\",\n",
      "            \"description\": \"John and William reconcile and Elizabeth helps them escape the battlefield, allowing them to reunite with their family.\"\n",
      "        }\n",
      "    ]\n",
      "}\n",
      "    \n",
      "    //the paragraphs of the story so far\n",
      "    storySoFar = \n",
      "\n",
      "    const generateIntroduction = (instructions, currentOutlineSection) : str =>{\n",
      "        return ai.write()\n",
      "    }\n",
      "\n",
      "    currentOutlineSection = Introduction\n",
      "\n",
      "    console.log(\"Out: \" + generateIntroduction(currentOutlineSection))\n",
      "    Out:\n"
     ]
    }
   ],
   "source": [
    "print(createPrompt(rawOverview, rawOutline, story, 'generateIntroduction', parsedOutline['parts'][0]['name']))\n",
    "\n"
   ]
  },
  {
   "cell_type": "code",
   "execution_count": 24,
   "id": "71b77fae",
   "metadata": {},
   "outputs": [],
   "source": [
    "r = query(createPrompt(rawOverview, rawOutline, story, 'generateIntroduction', parsedOutline['parts'][0]['name']))"
   ]
  },
  {
   "cell_type": "code",
   "execution_count": 25,
   "id": "6bb7667e",
   "metadata": {},
   "outputs": [
    {
     "name": "stdout",
     "output_type": "stream",
     "text": [
      "It was a chaotic scene on the Civil War battlefield. John, a 25 year old soldier, and William, a 27 year old soldier, were desperately trying to survive the onslaught of bullets and explosions. Elizabeth, a 30 year old nurse, was doing her best to keep them alive. The conflict was clear: John and William had to find a way to survive the battlefield while Elizabeth tried to keep them alive.\n"
     ]
    }
   ],
   "source": [
    "print(r)"
   ]
  },
  {
   "cell_type": "code",
   "execution_count": 26,
   "id": "95210cde",
   "metadata": {},
   "outputs": [],
   "source": [
    "story = [r]"
   ]
  },
  {
   "cell_type": "code",
   "execution_count": 28,
   "id": "a220b2d9",
   "metadata": {},
   "outputs": [],
   "source": [
    "r = query(createPrompt(rawOverview, rawOutline, story, 'generateNextParagraph', parsedOutline['parts'][0]['name']))\n",
    "story.append(r)"
   ]
  },
  {
   "cell_type": "code",
   "execution_count": 31,
   "id": "6fe17e5c",
   "metadata": {},
   "outputs": [
    {
     "name": "stdout",
     "output_type": "stream",
     "text": [
      "It was a chaotic scene on the Civil War battlefield. John, a 25 year old soldier, and William, a 27 year old soldier, were desperately trying to survive the onslaught of bullets and explosions. Elizabeth, a 30 year old nurse, was doing her best to keep them alive. The conflict was clear: John and William had to find a way to survive the battlefield while Elizabeth tried to keep them alive.\n",
      "Little did they know, John and William were brothers on opposing sides of the war. Elizabeth had been trying to keep them both alive, unaware of their familial connection. As the battle raged on, the trio had to find a way to survive and reconcile their differences.\n"
     ]
    }
   ],
   "source": [
    "print('\\n'.join(story))"
   ]
  },
  {
   "cell_type": "code",
   "execution_count": 48,
   "id": "6bd296a8",
   "metadata": {},
   "outputs": [],
   "source": [
    "def generateNextStep (rawOverview, rawOutline, story):\n",
    "    prompt = \"\"\"//storyRouter.js Generate the name of the function and the inputs and outputs that it will take\n",
    "\n",
    "\n",
    "story.rawOverview = {}\n",
    "\n",
    "story.rawOutline = {}\n",
    "\n",
    "story.current = {}\n",
    "\n",
    "\n",
    "\n",
    "interface move{{\n",
    "    \"currentStatus\": str, //the current status of the story, e.g. \"building setting\", \"building characters\", \"writing story\"\n",
    "    \"storyDirection\": str, //the direction the story is going, e.g.\"building setting\", \"building down\", \"building to a climax\"\n",
    "    //the AI is capable of performing any task\n",
    "    \"nextFunction\": str, //the name of the function to call, e.g. if building setting it would be \"buildSetting\", if writing story it would be \"writeStory\"\n",
    "    \"functionInputs\": str, //the inputs the next function will need, e.g. {{character: \"Romeo\", emotion: \"sad\"}}; be creative\n",
    "}}\n",
    "\n",
    "const generateNextMove = () : move =>{{\n",
    "    return ai.generateNextMove()\n",
    "}}\n",
    "    \n",
    "console.log('Out: ' + generateNextMove())\n",
    "//return \n",
    "Out:\"\"\".format(rawOverview, rawOutline, story)\n",
    "    return prompt\n",
    "    "
   ]
  },
  {
   "cell_type": "code",
   "execution_count": 49,
   "id": "47877608",
   "metadata": {},
   "outputs": [
    {
     "data": {
      "text/plain": [
       "'{\\n    \"currentStatus\": \"building setting\",\\n    \"storyDirection\": \"building up\",\\n    \"nextFunction\": \"buildSetting\",\\n    \"functionInputs\": {\\n        \"setting\": \"Civil War battlefield\",\\n        \"characters\": [\\n            {\\n                \"name\": \"John\",\\n                \"profession\": \"soldier\",\\n                \"age\": 25\\n            },\\n            {\\n                \"name\": \"William\",\\n                \"profession\": \"soldier\",\\n                \"age\": 27\\n            },\\n            {\\n                \"name\": \"Elizabeth\",\\n                \"profession\": \"nurse\",\\n                \"age\": 30\\n            }\\n        ]\\n    }\\n}'"
      ]
     },
     "execution_count": 49,
     "metadata": {},
     "output_type": "execute_result"
    }
   ],
   "source": [
    "query(generateNextStep(rawOverview, rawOutline, story), temperature=.5)"
   ]
  },
  {
   "cell_type": "code",
   "execution_count": 50,
   "id": "495abb60",
   "metadata": {},
   "outputs": [
    {
     "data": {
      "text/plain": [
       "['It was a chaotic scene on the Civil War battlefield. John, a 25 year old soldier, and William, a 27 year old soldier, were desperately trying to survive the onslaught of bullets and explosions. Elizabeth, a 30 year old nurse, was doing her best to keep them alive. The conflict was clear: John and William had to find a way to survive the battlefield while Elizabeth tried to keep them alive.',\n",
       " 'Little did they know, John and William were brothers on opposing sides of the war. Elizabeth had been trying to keep them both alive, unaware of their familial connection. As the battle raged on, the trio had to find a way to survive and reconcile their differences.']"
      ]
     },
     "execution_count": 50,
     "metadata": {},
     "output_type": "execute_result"
    }
   ],
   "source": [
    "story"
   ]
  },
  {
   "cell_type": "code",
   "execution_count": null,
   "id": "f7290d03",
   "metadata": {},
   "outputs": [],
   "source": [
    "def createPromptV2(overview, outline, story, fnName, currentSection):\n",
    "    fillOutlinePrompt = \"\"\" /* Write the next paragraph in a story for a given purpose\n",
    "\n",
    "    //the overview of the entire story\n",
    "    fullOverview = {}\n",
    "    \n",
    "    //the outline that the story should follow\n",
    "    fullOutline = {}\n",
    "    \n",
    "    //the paragraphs of the story so far\n",
    "    storySoFar = {}\n",
    "\n",
    "    const {} = (props) : str =>{{\n",
    "        return ai.write()\n",
    "    }}\n",
    "\n",
    "    currentOutlineSection = {}\n",
    "\n",
    "    console.log(\"Out: \" + {}(currentOutlineSection))\n",
    "    Out:\"\"\".format(overview, outline, story, fnName, currentSection, fnName)\n",
    "    \n",
    "    return fillOutlinePrompt"
   ]
  }
 ],
 "metadata": {
  "kernelspec": {
   "display_name": "base",
   "language": "python",
   "name": "python3"
  },
  "language_info": {
   "codemirror_mode": {
    "name": "ipython",
    "version": 3
   },
   "file_extension": ".py",
   "mimetype": "text/x-python",
   "name": "python",
   "nbconvert_exporter": "python",
   "pygments_lexer": "ipython3",
   "version": "3.9.12"
  },
  "vscode": {
   "interpreter": {
    "hash": "230465a67f968560cbadbe9266958ba79a37944744e257da8b63a5bddd2e3c12"
   }
  }
 },
 "nbformat": 4,
 "nbformat_minor": 5
}
