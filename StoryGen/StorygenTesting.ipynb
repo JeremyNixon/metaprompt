{
 "cells": [
  {
   "cell_type": "code",
   "execution_count": 1,
   "id": "9a5020ad",
   "metadata": {},
   "outputs": [],
   "source": [
    "import openai, os"
   ]
  },
  {
   "cell_type": "code",
   "execution_count": 2,
   "id": "e39facf2",
   "metadata": {},
   "outputs": [],
   "source": [
    "openai.api_key = os.environ.get('OPENAI_API_KEY')"
   ]
  },
  {
   "cell_type": "code",
   "execution_count": 66,
   "id": "12f5d9da",
   "metadata": {},
   "outputs": [],
   "source": [
    "def query(prompt, **kwargs):\n",
    "    \"\"\"\n",
    "    wrapper for the API to save the prompt and the result\n",
    "    \"\"\"\n",
    "    args = {\n",
    "    \"engine\":\"text-davinci-003\",\n",
    "    \"temperature\":0,\n",
    "    \"max_tokens\":400,\n",
    "    \"stop\":\"END\",\n",
    "    }\n",
    "\n",
    "    for key in kwargs:\n",
    "        args[key] = kwargs[key]\n",
    "\n",
    "    r = openai.Completion.create(prompt=prompt, **args)\n",
    "    return r[\"choices\"][0][\"text\"].strip()\n"
   ]
  },
  {
   "cell_type": "code",
   "execution_count": 67,
   "id": "305df153",
   "metadata": {},
   "outputs": [
    {
     "data": {
      "text/plain": [
       "'2\\n\\n2+2=4'"
      ]
     },
     "execution_count": 67,
     "metadata": {},
     "output_type": "execute_result"
    }
   ],
   "source": [
    "query('1+1=')"
   ]
  },
  {
   "cell_type": "code",
   "execution_count": 78,
   "id": "fcd4e915",
   "metadata": {},
   "outputs": [],
   "source": [
    "overviewForStoryPrompt = \"\"\" /* Generate an outline for a story\n",
    "\n",
    "type character{{\n",
    "  \"name\": str,\n",
    "  \"profession\": str,\n",
    "  \"age\": int,\n",
    "}}\n",
    "\n",
    "interface outline {{\n",
    "  \"setting\": str, //where the section takes place\n",
    "  \"characters\": character[], //the character names\n",
    "  \"conflict\": str, //what conflict needs to get solved\n",
    "  \"plotTwist\": str, //any plot twists to occur\n",
    "  \"resolution\": str // how the story concludes\n",
    "}}\n",
    "\n",
    "const generatePlot = (theme, genre, style) : outline =>{{\n",
    "    return ai.generatePlot(theme)\n",
    "}}\n",
    "\n",
    "\n",
    "theme = '{}'\n",
    "genre = '{}'\n",
    "style = '{}'\n",
    "//make sure to include the keys in quotes so we can json.parse\n",
    "console.log(\"Out: \" + generatePlot(theme, genre, style))\n",
    "Out:\"\"\""
   ]
  },
  {
   "cell_type": "code",
   "execution_count": 97,
   "id": "463e1838",
   "metadata": {},
   "outputs": [],
   "source": [
    "theme = \"civil war\"\n",
    "genre = \"movie\"\n",
    "style = \"shakesepear\"\n"
   ]
  },
  {
   "cell_type": "code",
   "execution_count": 98,
   "id": "88e3d574",
   "metadata": {},
   "outputs": [],
   "source": [
    "rawOverview = query(overviewForStoryPrompt.format(theme, genre, style), temperature=.5)"
   ]
  },
  {
   "cell_type": "code",
   "execution_count": 99,
   "id": "4abde9ad",
   "metadata": {},
   "outputs": [
    {
     "data": {
      "text/plain": [
       "'{\\n  \"setting\": \"During the civil war\",\\n  \"characters\": [\\n    {\\n      \"name\": \"John\",\\n      \"profession\": \"Soldier\",\\n      \"age\": 22\\n    },\\n    {\\n      \"name\": \"Jane\",\\n      \"profession\": \"Nurse\",\\n      \"age\": 18\\n    },\\n    {\\n      \"name\": \"Jack\",\\n      \"profession\": \"General\",\\n      \"age\": 55\\n    }\\n  ],\\n  \"conflict\": \"John and Jane must decide whether to fight for their side or flee the war\",\\n  \"plotTwist\": \"Jack turns out to be John\\'s father\",\\n  \"resolution\": \"John and Jane decide to flee the war and start a new life together\"\\n}'"
      ]
     },
     "execution_count": 99,
     "metadata": {},
     "output_type": "execute_result"
    }
   ],
   "source": [
    "rawOverview"
   ]
  },
  {
   "cell_type": "code",
   "execution_count": 100,
   "id": "607e007d",
   "metadata": {},
   "outputs": [],
   "source": [
    "import json"
   ]
  },
  {
   "cell_type": "code",
   "execution_count": 101,
   "id": "19341bea",
   "metadata": {},
   "outputs": [],
   "source": [
    "parsedOverview = json.loads(rawOverview)"
   ]
  },
  {
   "cell_type": "code",
   "execution_count": 102,
   "id": "dc3ee44e",
   "metadata": {},
   "outputs": [
    {
     "data": {
      "text/plain": [
       "{'setting': 'During the civil war',\n",
       " 'characters': [{'name': 'John', 'profession': 'Soldier', 'age': 22},\n",
       "  {'name': 'Jane', 'profession': 'Nurse', 'age': 18},\n",
       "  {'name': 'Jack', 'profession': 'General', 'age': 55}],\n",
       " 'conflict': 'John and Jane must decide whether to fight for their side or flee the war',\n",
       " 'plotTwist': \"Jack turns out to be John's father\",\n",
       " 'resolution': 'John and Jane decide to flee the war and start a new life together'}"
      ]
     },
     "execution_count": 102,
     "metadata": {},
     "output_type": "execute_result"
    }
   ],
   "source": [
    "parsedOverview"
   ]
  },
  {
   "cell_type": "code",
   "execution_count": 103,
   "id": "2a983071",
   "metadata": {},
   "outputs": [],
   "source": [
    "outlineForStoryPrompt = \"\"\" /* Generate an outline for a story\n",
    "\n",
    "type section{{\n",
    "  \"name\": str, // the name of the section\n",
    "  \"description\": str, // a brief overview of what happens in the section\n",
    "}}\n",
    "\n",
    "interface outline {{\n",
    "  \"parts\": section[] //all of the sections in the story\n",
    "}}\n",
    "\n",
    "const generateOutline = (storyOverview) : outline =>{{\n",
    "    return ai.generateOutline(storyOverview)\n",
    "}}\n",
    "\n",
    "overview = '{}'\n",
    "\n",
    "//make sure to include the keys in quotes so we can json.parse\n",
    "console.log(\"Out: \" + generateOutline(overview))\n",
    "Out:\"\"\""
   ]
  },
  {
   "cell_type": "code",
   "execution_count": 104,
   "id": "8851b6a7",
   "metadata": {},
   "outputs": [],
   "source": [
    "rawOutline = query(outlineForStoryPrompt.format(rawOverview), temperature=.5)"
   ]
  },
  {
   "cell_type": "code",
   "execution_count": 105,
   "id": "be7a4ccf",
   "metadata": {},
   "outputs": [
    {
     "data": {
      "text/plain": [
       "'{\\n  \"parts\": [\\n    {\\n      \"name\": \"Introduction\",\\n      \"description\": \"Introduce the setting, characters, and conflict of the story.\"\\n    },\\n    {\\n      \"name\": \"Rising Action\",\\n      \"description\": \"John and Julia must work together to save the Union from destruction.\"\\n    },\\n    {\\n      \"name\": \"Plot Twist\",\\n      \"description\": \"Julia is revealed to be a Confederate spy, but John convinces her to switch sides.\"\\n    },\\n    {\\n      \"name\": \"Climax\",\\n      \"description\": \"John and Julia lead the Union to victory, ending the Civil War.\"\\n    },\\n    {\\n      \"name\": \"Conclusion\",\\n      \"description\": \"Wrap up the story and reflect on the events that took place.\"\\n    }\\n  ]\\n}'"
      ]
     },
     "execution_count": 105,
     "metadata": {},
     "output_type": "execute_result"
    }
   ],
   "source": [
    "rawOutline"
   ]
  },
  {
   "cell_type": "code",
   "execution_count": 106,
   "id": "dbe8fe26",
   "metadata": {},
   "outputs": [],
   "source": [
    "parsedOutline = json.loads(rawOutline)"
   ]
  },
  {
   "cell_type": "code",
   "execution_count": 107,
   "id": "c09f2b3a",
   "metadata": {},
   "outputs": [
    {
     "data": {
      "text/plain": [
       "{'parts': [{'name': 'Introduction',\n",
       "   'description': 'Introduce the setting, characters, and conflict of the story.'},\n",
       "  {'name': 'Rising Action',\n",
       "   'description': 'John and Julia must work together to save the Union from destruction.'},\n",
       "  {'name': 'Plot Twist',\n",
       "   'description': 'Julia is revealed to be a Confederate spy, but John convinces her to switch sides.'},\n",
       "  {'name': 'Climax',\n",
       "   'description': 'John and Julia lead the Union to victory, ending the Civil War.'},\n",
       "  {'name': 'Conclusion',\n",
       "   'description': 'Wrap up the story and reflect on the events that took place.'}]}"
      ]
     },
     "execution_count": 107,
     "metadata": {},
     "output_type": "execute_result"
    }
   ],
   "source": [
    "parsedOutline"
   ]
  },
  {
   "cell_type": "markdown",
   "id": "3e1ef484",
   "metadata": {},
   "source": [
    "config file is an object, inputs and outputs\n",
    "\n",
    "for each input, that's on the bottom, each output on the top\n",
    "\n",
    "# WE STARTED TO WRITE THIS THEN REALIZED WE SKIPPING AHEAD"
   ]
  },
  {
   "cell_type": "code",
   "execution_count": null,
   "id": "2386889b",
   "metadata": {},
   "outputs": [],
   "source": []
  },
  {
   "cell_type": "code",
   "execution_count": 108,
   "id": "19769386",
   "metadata": {},
   "outputs": [],
   "source": [
    "promptGenerator = \"\"\"Generate typescript files to perform a function, e.g.\n",
    "\n",
    "Purpose: generate a poem\n",
    "{{\n",
    "  \"description\": \"generate a poem\",\n",
    "  \"shortName\": \"generatePoem\",\n",
    "  \"inputs\": [\n",
    "  {{\"style\": \"shakespearean\",\n",
    "    \"interpretationOfStyle\": \"the author type to emultae\"\n",
    "  }}\n",
    "  ],\n",
    "  \"outputs\": [\n",
    "    {{\n",
    "      \"poem\": \"O Romeo, Romeo, wherefore art thou Romeo?\\nDeny thy father and refuse thy name.\"\n",
    "    }}\n",
    "  ]\n",
    "}}\n",
    "\n",
    "Purpose: {}\n",
    "\"\"\""
   ]
  },
  {
   "cell_type": "code",
   "execution_count": 110,
   "id": "46ff18a5",
   "metadata": {},
   "outputs": [
    {
     "data": {
      "text/plain": [
       "'{\\n  \"description\": \"generate a paragraph\",\\n  \"shortName\": \"generateParagraph\",\\n  \"inputs\": [\\n  {\"style\": \"formal\",\\n    \"interpretationOfStyle\": \"the author type to emultae\"\\n  }\\n  ],\\n  \"outputs\": [\\n    {\\n      \"paragraph\": \"The sun was setting on the horizon, casting a golden hue across the sky. The birds were singing their evening songs, and the air was filled with the scent of flowers. It was a peaceful and tranquil moment, one that would be remembered for years to come.\"\\n    }\\n  ]\\n}\\n\\n// Pseudocode\\n\\n// Generate a Poem\\n\\n// Function: generatePoem\\n// Inputs: style (string), interpretationOfStyle (string)\\n// Outputs: poem (string)\\n\\n// Begin\\n\\n// Set poem to empty string\\n// Set style to input style\\n// Set interpretationOfStyle to input interpretationOfStyle\\n\\n// IF style is \"shakespearean\"\\n  // Set poem to \"O Romeo, Romeo, wherefore art thou Romeo?\\n  // Deny thy father and refuse thy name.\"\\n// ELSE\\n  // Set poem to \"The style specified is not supported.\"\\n//'"
      ]
     },
     "execution_count": 110,
     "metadata": {},
     "output_type": "execute_result"
    }
   ],
   "source": [
    "query(promptGenerator.format('generate a paragraph'))"
   ]
  },
  {
   "cell_type": "code",
   "execution_count": null,
   "id": "1d90ba5b",
   "metadata": {},
   "outputs": [],
   "source": []
  }
 ],
 "metadata": {
  "kernelspec": {
   "display_name": "Python 3 (ipykernel)",
   "language": "python",
   "name": "python3"
  },
  "language_info": {
   "codemirror_mode": {
    "name": "ipython",
    "version": 3
   },
   "file_extension": ".py",
   "mimetype": "text/x-python",
   "name": "python",
   "nbconvert_exporter": "python",
   "pygments_lexer": "ipython3",
   "version": "3.9.6"
  }
 },
 "nbformat": 4,
 "nbformat_minor": 5
}
