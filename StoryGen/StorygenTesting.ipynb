{
 "cells": [
  {
   "cell_type": "code",
   "execution_count": 1,
   "id": "6afda863",
   "metadata": {},
   "outputs": [],
   "source": [
    "import openai, os"
   ]
  },
  {
   "cell_type": "code",
   "execution_count": 2,
   "id": "23d5242c",
   "metadata": {},
   "outputs": [],
   "source": [
    "openai.api_key = os.environ.get('OPENAI_API_KEY')"
   ]
  },
  {
   "cell_type": "code",
   "execution_count": 3,
   "id": "d09388bc",
   "metadata": {},
   "outputs": [],
   "source": []
  },
  {
   "cell_type": "code",
   "execution_count": 5,
   "id": "91b4a2d9",
   "metadata": {},
   "outputs": [],
   "source": [
    "def query(prompt, **kwargs):\n",
    "    \"\"\"\n",
    "    wrapper for the API to save the prompt and the result\n",
    "    \"\"\"\n",
    "    args = {\n",
    "    \"engine\":\"text-davinci-003\",\n",
    "    \"temperature\":0,\n",
    "    \"max_tokens\":200,\n",
    "    \"stop\":\"}\",\n",
    "    }\n",
    "\n",
    "    for key in kwargs:\n",
    "        args[key] = kwargs[key]\n",
    "\n",
    "    r = openai.Completion.create(prompt=prompt, **args)\n",
    "    return r[\"choices\"][0][\"text\"].strip()\n"
   ]
  },
  {
   "cell_type": "code",
   "execution_count": 6,
   "id": "5feed754",
   "metadata": {},
   "outputs": [
    {
     "data": {
      "text/plain": [
       "'2\\n\\n2+2=4'"
      ]
     },
     "execution_count": 6,
     "metadata": {},
     "output_type": "execute_result"
    }
   ],
   "source": [
    "query('1+1=')"
   ]
  },
  {
   "cell_type": "code",
   "execution_count": null,
   "id": "ca856cff",
   "metadata": {},
   "outputs": [],
   "source": []
  }
 ],
 "metadata": {
  "kernelspec": {
   "display_name": "Python 3 (ipykernel)",
   "language": "python",
   "name": "python3"
  },
  "language_info": {
   "codemirror_mode": {
    "name": "ipython",
    "version": 3
   },
   "file_extension": ".py",
   "mimetype": "text/x-python",
   "name": "python",
   "nbconvert_exporter": "python",
   "pygments_lexer": "ipython3",
   "version": "3.9.6"
  }
 },
 "nbformat": 4,
 "nbformat_minor": 5
}
