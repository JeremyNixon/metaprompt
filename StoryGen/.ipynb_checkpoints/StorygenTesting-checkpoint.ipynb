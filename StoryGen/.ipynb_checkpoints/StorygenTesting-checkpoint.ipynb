{
 "cells": [
  {
   "cell_type": "code",
   "execution_count": 1,
   "id": "0208d092",
   "metadata": {},
   "outputs": [],
   "source": [
    "import openai, os"
   ]
  },
  {
   "cell_type": "code",
   "execution_count": 2,
   "id": "0dfcc6ed",
   "metadata": {},
   "outputs": [],
   "source": [
    "openai.api_key = os.environ.get('OPENAI_API_KEY')"
   ]
  },
  {
   "cell_type": "code",
   "execution_count": 66,
   "id": "9d2727aa",
   "metadata": {},
   "outputs": [],
   "source": [
    "def query(prompt, **kwargs):\n",
    "    \"\"\"\n",
    "    wrapper for the API to save the prompt and the result\n",
    "    \"\"\"\n",
    "    args = {\n",
    "    \"engine\":\"text-davinci-003\",\n",
    "    \"temperature\":0,\n",
    "    \"max_tokens\":400,\n",
    "    \"stop\":\"END\",\n",
    "    }\n",
    "\n",
    "    for key in kwargs:\n",
    "        args[key] = kwargs[key]\n",
    "\n",
    "    r = openai.Completion.create(prompt=prompt, **args)\n",
    "    return r[\"choices\"][0][\"text\"].strip()\n"
   ]
  },
  {
   "cell_type": "code",
   "execution_count": 67,
   "id": "a83ea543",
   "metadata": {},
   "outputs": [
    {
     "data": {
      "text/plain": [
       "'2\\n\\n2+2=4'"
      ]
     },
     "execution_count": 67,
     "metadata": {},
     "output_type": "execute_result"
    }
   ],
   "source": [
    "query('1+1=')"
   ]
  },
  {
   "cell_type": "code",
   "execution_count": 78,
   "id": "70b69eed",
   "metadata": {},
   "outputs": [],
   "source": [
    "overviewForStoryPrompt = \"\"\" /* Generate an outline for a story\n",
    "\n",
    "type character{{\n",
    "  \"name\": str,\n",
    "  \"profession\": str,\n",
    "  \"age\": int,\n",
    "}}\n",
    "\n",
    "interface outline {{\n",
    "  \"setting\": str, //where the section takes place\n",
    "  \"characters\": character[], //the character names\n",
    "  \"conflict\": str, //what conflict needs to get solved\n",
    "  \"plotTwist\": str, //any plot twists to occur\n",
    "  \"resolution\": str // how the story concludes\n",
    "}}\n",
    "\n",
    "const generatePlot = (theme, genre, style) : outline =>{{\n",
    "    return ai.generatePlot(theme)\n",
    "}}\n",
    "\n",
    "\n",
    "theme = '{}'\n",
    "genre = '{}'\n",
    "style = '{}'\n",
    "//make sure to include the keys in quotes so we can json.parse\n",
    "console.log(\"Out: \" + generatePlot(theme, genre, style))\n",
    "Out:\"\"\""
   ]
  },
  {
   "cell_type": "code",
   "execution_count": 97,
   "id": "5f78d883",
   "metadata": {},
   "outputs": [],
   "source": [
    "theme = \"civil war\"\n",
    "genre = \"movie\"\n",
    "style = \"shakesepear\"\n"
   ]
  },
  {
   "cell_type": "code",
   "execution_count": 98,
   "id": "303dabc3",
   "metadata": {},
   "outputs": [],
   "source": [
    "rawOverview = query(overviewForStoryPrompt.format(theme, genre, style), temperature=.5)"
   ]
  },
  {
   "cell_type": "code",
   "execution_count": 99,
   "id": "5e948890",
   "metadata": {},
   "outputs": [
    {
     "data": {
      "text/plain": [
       "'{\\n  \"setting\": \"During the civil war\",\\n  \"characters\": [\\n    {\\n      \"name\": \"John\",\\n      \"profession\": \"Soldier\",\\n      \"age\": 22\\n    },\\n    {\\n      \"name\": \"Jane\",\\n      \"profession\": \"Nurse\",\\n      \"age\": 18\\n    },\\n    {\\n      \"name\": \"Jack\",\\n      \"profession\": \"General\",\\n      \"age\": 55\\n    }\\n  ],\\n  \"conflict\": \"John and Jane must decide whether to fight for their side or flee the war\",\\n  \"plotTwist\": \"Jack turns out to be John\\'s father\",\\n  \"resolution\": \"John and Jane decide to flee the war and start a new life together\"\\n}'"
      ]
     },
     "execution_count": 99,
     "metadata": {},
     "output_type": "execute_result"
    }
   ],
   "source": [
    "rawOverview"
   ]
  },
  {
   "cell_type": "code",
   "execution_count": 100,
   "id": "8e6b777f",
   "metadata": {},
   "outputs": [],
   "source": [
    "import json"
   ]
  },
  {
   "cell_type": "code",
   "execution_count": 101,
   "id": "676f6d15",
   "metadata": {},
   "outputs": [],
   "source": [
    "parsedOverview = json.loads(rawOverview)"
   ]
  },
  {
   "cell_type": "code",
   "execution_count": 102,
   "id": "0593c88c",
   "metadata": {},
   "outputs": [
    {
     "data": {
      "text/plain": [
       "{'setting': 'During the civil war',\n",
       " 'characters': [{'name': 'John', 'profession': 'Soldier', 'age': 22},\n",
       "  {'name': 'Jane', 'profession': 'Nurse', 'age': 18},\n",
       "  {'name': 'Jack', 'profession': 'General', 'age': 55}],\n",
       " 'conflict': 'John and Jane must decide whether to fight for their side or flee the war',\n",
       " 'plotTwist': \"Jack turns out to be John's father\",\n",
       " 'resolution': 'John and Jane decide to flee the war and start a new life together'}"
      ]
     },
     "execution_count": 102,
     "metadata": {},
     "output_type": "execute_result"
    }
   ],
   "source": [
    "parsedOverview"
   ]
  },
  {
   "cell_type": "code",
   "execution_count": 103,
   "id": "1644205f",
   "metadata": {},
   "outputs": [],
   "source": [
    "outlineForStoryPrompt = \"\"\" /* Generate an outline for a story\n",
    "\n",
    "type section{{\n",
    "  \"name\": str, // the name of the section\n",
    "  \"description\": str, // a brief overview of what happens in the section\n",
    "}}\n",
    "\n",
    "interface outline {{\n",
    "  \"parts\": section[] //all of the sections in the story\n",
    "}}\n",
    "\n",
    "const generateOutline = (storyOverview) : outline =>{{\n",
    "    return ai.generateOutline(storyOverview)\n",
    "}}\n",
    "\n",
    "overview = '{}'\n",
    "\n",
    "//make sure to include the keys in quotes so we can json.parse\n",
    "console.log(\"Out: \" + generateOutline(overview))\n",
    "Out:\"\"\""
   ]
  },
  {
   "cell_type": "code",
   "execution_count": 104,
   "id": "c9a7069e",
   "metadata": {},
   "outputs": [],
   "source": [
    "rawOutline = query(outlineForStoryPrompt.format(rawOverview), temperature=.5)"
   ]
  },
  {
   "cell_type": "code",
   "execution_count": 105,
   "id": "6ad28fbc",
   "metadata": {},
   "outputs": [
    {
     "data": {
      "text/plain": [
       "'{\\n  \"parts\": [\\n    {\\n      \"name\": \"Introduction\",\\n      \"description\": \"Introduce the setting, characters, and conflict of the story.\"\\n    },\\n    {\\n      \"name\": \"Rising Action\",\\n      \"description\": \"John and Julia must work together to save the Union from destruction.\"\\n    },\\n    {\\n      \"name\": \"Plot Twist\",\\n      \"description\": \"Julia is revealed to be a Confederate spy, but John convinces her to switch sides.\"\\n    },\\n    {\\n      \"name\": \"Climax\",\\n      \"description\": \"John and Julia lead the Union to victory, ending the Civil War.\"\\n    },\\n    {\\n      \"name\": \"Conclusion\",\\n      \"description\": \"Wrap up the story and reflect on the events that took place.\"\\n    }\\n  ]\\n}'"
      ]
     },
     "execution_count": 105,
     "metadata": {},
     "output_type": "execute_result"
    }
   ],
   "source": [
    "rawOutline"
   ]
  },
  {
   "cell_type": "code",
   "execution_count": 106,
   "id": "f1d9ef99",
   "metadata": {},
   "outputs": [],
   "source": [
    "parsedOutline = json.loads(rawOutline)"
   ]
  },
  {
   "cell_type": "code",
   "execution_count": 107,
   "id": "0d04fbc0",
   "metadata": {},
   "outputs": [
    {
     "data": {
      "text/plain": [
       "{'parts': [{'name': 'Introduction',\n",
       "   'description': 'Introduce the setting, characters, and conflict of the story.'},\n",
       "  {'name': 'Rising Action',\n",
       "   'description': 'John and Julia must work together to save the Union from destruction.'},\n",
       "  {'name': 'Plot Twist',\n",
       "   'description': 'Julia is revealed to be a Confederate spy, but John convinces her to switch sides.'},\n",
       "  {'name': 'Climax',\n",
       "   'description': 'John and Julia lead the Union to victory, ending the Civil War.'},\n",
       "  {'name': 'Conclusion',\n",
       "   'description': 'Wrap up the story and reflect on the events that took place.'}]}"
      ]
     },
     "execution_count": 107,
     "metadata": {},
     "output_type": "execute_result"
    }
   ],
   "source": [
    "parsedOutline"
   ]
  },
  {
   "cell_type": "markdown",
   "id": "d8007810",
   "metadata": {},
   "source": [
    "config file is an object, inputs and outputs\n",
    "\n",
    "for each input, that's on the bottom, each output on the top\n",
    "\n",
    "# WE STARTED TO WRITE THIS THEN REALIZED WE SKIPPING AHEAD"
   ]
  },
  {
   "cell_type": "code",
   "execution_count": 111,
   "id": "8d06904c",
   "metadata": {},
   "outputs": [],
   "source": [
    "promptGenerator = \"\"\"Generate typescript files to perform a function, e.g.\n",
    "\n",
    "Purpose: generate a poem\n",
    "{{\n",
    "  \"description\": \"generate a poem\",\n",
    "  \"shortName\": \"generatePoem\",\n",
    "  \"inputs\": [\n",
    "  {{\"style\": \"shakespearean\",\n",
    "    \"interpretationOfStyle\": \"the author type to emultae\"\n",
    "  }}\n",
    "  ],\n",
    "  \"outputs\": [\n",
    "    {{\n",
    "      \"poem\": \"O Romeo, Romeo, wherefore art thou Romeo?\\nDeny thy father and refuse thy name.\"\n",
    "    }}\n",
    "  ]\n",
    "}}\n",
    "\n",
    "Purpose: {}\n",
    "\"\"\""
   ]
  },
  {
   "cell_type": "code",
   "execution_count": 112,
   "id": "a1e18b6d",
   "metadata": {},
   "outputs": [
    {
     "data": {
      "text/plain": [
       "'{\\n  \"description\": \"generate a paragraph\",\\n  \"shortName\": \"generateParagraph\",\\n  \"inputs\": [\\n    {\\n      \"style\": \"informative\",\\n      \"interpretationOfStyle\": \"the type of information to include\"\\n    }\\n  ],\\n  \"outputs\": [\\n    {\\n      \"paragraph\": \"The human brain is an incredibly complex organ, capable of processing vast amounts of information and making decisions in a fraction of a second. It is composed of billions of neurons, which communicate with each other through electrical and chemical signals. The brain is responsible for controlling all of the body\\'s functions, from breathing and digestion to movement and emotion.\"\\n    }\\n  ]\\n}'"
      ]
     },
     "execution_count": 112,
     "metadata": {},
     "output_type": "execute_result"
    }
   ],
   "source": [
    "query(promptGenerator.format('generate a paragraph'))"
   ]
  },
  {
   "cell_type": "code",
   "execution_count": 123,
   "id": "a1602169",
   "metadata": {},
   "outputs": [],
   "source": [
    "fillOutlinePrompt = \"\"\" /* Write the next paragraph in a story for a given purpose\n",
    "\n",
    "fullOverview = '{}'\n",
    "fullOutline = '{}'\n",
    "priorStory = '{}'\n",
    "\n",
    "const generateNextParagraph = (instructions, currentOutlineSection) : str =>{{\n",
    "    return ai.write()\n",
    "}}\n",
    "\n",
    "instructions = '{}'\n",
    "currentOutlineSection = '{}'\n",
    "\n",
    "//make sure to include the keys in quotes so we can json.parse\n",
    "console.log(\"Out: \" + generateNextParagraph(instructions, currentOutlineSection))\n",
    "Out:\"\"\""
   ]
  },
  {
   "cell_type": "code",
   "execution_count": 117,
   "id": "e75800b2",
   "metadata": {},
   "outputs": [],
   "source": [
    "story = \"\"\n",
    "currentRawOverview = rawOverview\n",
    "currentRawOutline = rawOutline"
   ]
  },
  {
   "cell_type": "code",
   "execution_count": 121,
   "id": "12c34037",
   "metadata": {},
   "outputs": [
    {
     "data": {
      "text/plain": [
       "'Introduction'"
      ]
     },
     "execution_count": 121,
     "metadata": {},
     "output_type": "execute_result"
    }
   ],
   "source": [
    "parsedOutline['parts'][0]['name']"
   ]
  },
  {
   "cell_type": "code",
   "execution_count": 127,
   "id": "66bb6130",
   "metadata": {},
   "outputs": [
    {
     "name": "stdout",
     "output_type": "stream",
     "text": [
      " /* Write the next paragraph in a story for a given purpose\n",
      "\n",
      "fullOverview = '{\n",
      "  \"setting\": \"During the civil war\",\n",
      "  \"characters\": [\n",
      "    {\n",
      "      \"name\": \"John\",\n",
      "      \"profession\": \"Soldier\",\n",
      "      \"age\": 22\n",
      "    },\n",
      "    {\n",
      "      \"name\": \"Jane\",\n",
      "      \"profession\": \"Nurse\",\n",
      "      \"age\": 18\n",
      "    },\n",
      "    {\n",
      "      \"name\": \"Jack\",\n",
      "      \"profession\": \"General\",\n",
      "      \"age\": 55\n",
      "    }\n",
      "  ],\n",
      "  \"conflict\": \"John and Jane must decide whether to fight for their side or flee the war\",\n",
      "  \"plotTwist\": \"Jack turns out to be John's father\",\n",
      "  \"resolution\": \"John and Jane decide to flee the war and start a new life together\"\n",
      "}'\n",
      "fullOutline = '{\n",
      "  \"parts\": [\n",
      "    {\n",
      "      \"name\": \"Introduction\",\n",
      "      \"description\": \"Introduce the setting, characters, and conflict of the story.\"\n",
      "    },\n",
      "    {\n",
      "      \"name\": \"Rising Action\",\n",
      "      \"description\": \"John and Julia must work together to save the Union from destruction.\"\n",
      "    },\n",
      "    {\n",
      "      \"name\": \"Plot Twist\",\n",
      "      \"description\": \"Julia is revealed to be a Confederate spy, but John convinces her to switch sides.\"\n",
      "    },\n",
      "    {\n",
      "      \"name\": \"Climax\",\n",
      "      \"description\": \"John and Julia lead the Union to victory, ending the Civil War.\"\n",
      "    },\n",
      "    {\n",
      "      \"name\": \"Conclusion\",\n",
      "      \"description\": \"Wrap up the story and reflect on the events that took place.\"\n",
      "    }\n",
      "  ]\n",
      "}'\n",
      "priorStory = ''\n",
      "\n",
      "const generateNextParagraph = (instructions, currentOutlineSection) : str =>{\n",
      "    return ai.write()\n",
      "}\n",
      "\n",
      "instructions = 'build the setting'\n",
      "currentOutlineSection = 'Introduction'\n",
      "\n",
      "//make sure to include the keys in quotes so we can json.parse\n",
      "console.log(\"Out: \" + generateNextParagraph(instructions, currentOutlineSection))\n",
      "Out:\n"
     ]
    }
   ],
   "source": [
    "curPrompt = fillOutlinePrompt.format(rawOverview, rawOutline, story, \"build the setting\", parsedOutline['parts'][0]['name'])\n",
    "print(curPrompt)\n"
   ]
  },
  {
   "cell_type": "code",
   "execution_count": 130,
   "id": "37355a2c",
   "metadata": {},
   "outputs": [
    {
     "data": {
      "text/plain": [
       "\"John and Jane were soldiers in the Civil War, fighting for their respective sides. Jane was a nurse, 18 years old, while John was a soldier, 22 years old. They were both caught up in the conflict and had to make a difficult decision - fight for their side or flee the war. Little did they know that a plot twist was about to unfold - Jack, the Union general, turns out to be John's father. With this knowledge, John and Jane make the difficult decision to flee the war and start a new life together.\""
      ]
     },
     "execution_count": 130,
     "metadata": {},
     "output_type": "execute_result"
    }
   ],
   "source": [
    "curPrompt = fillOutlinePrompt.format(rawOverview, rawOutline, story, \"intro\", parsedOutline['parts'][0]['name'])\n",
    "\n",
    "query(curPrompt, temperature=.7)"
   ]
  },
  {
   "cell_type": "code",
   "execution_count": 168,
   "id": "419dcd57",
   "metadata": {},
   "outputs": [],
   "source": [
    "def createPrompt(overview, outline, story, fnName, currentSection):\n",
    "    fillOutlinePrompt = \"\"\" /* Write the next paragraph in a story for a given purpose\n",
    "\n",
    "    //the overview of the entire story\n",
    "    fullOverview = {}\n",
    "    \n",
    "    //the outline that the story should follow\n",
    "    fullOutline = {}\n",
    "    \n",
    "    //the paragraphs of the story so far\n",
    "    storySoFar = {}\n",
    "\n",
    "    const {} = (instructions, currentOutlineSection) : str =>{{\n",
    "        return ai.write()\n",
    "    }}\n",
    "\n",
    "    currentOutlineSection = {}\n",
    "\n",
    "    console.log(\"Out: \" + {}(currentOutlineSection))\n",
    "    Out:\"\"\".format(overview, outline, story, fnName, currentSection, fnName)\n",
    "    \n",
    "    return fillOutlinePrompt"
   ]
  },
  {
   "cell_type": "code",
   "execution_count": 169,
   "id": "f1ee6a92",
   "metadata": {},
   "outputs": [
    {
     "name": "stdout",
     "output_type": "stream",
     "text": [
      " /* Write the next paragraph in a story for a given purpose\n",
      "\n",
      "    //the overview of the entire story\n",
      "    fullOverview = {\n",
      "  \"setting\": \"During the civil war\",\n",
      "  \"characters\": [\n",
      "    {\n",
      "      \"name\": \"John\",\n",
      "      \"profession\": \"Soldier\",\n",
      "      \"age\": 22\n",
      "    },\n",
      "    {\n",
      "      \"name\": \"Jane\",\n",
      "      \"profession\": \"Nurse\",\n",
      "      \"age\": 18\n",
      "    },\n",
      "    {\n",
      "      \"name\": \"Jack\",\n",
      "      \"profession\": \"General\",\n",
      "      \"age\": 55\n",
      "    }\n",
      "  ],\n",
      "  \"conflict\": \"John and Jane must decide whether to fight for their side or flee the war\",\n",
      "  \"plotTwist\": \"Jack turns out to be John's father\",\n",
      "  \"resolution\": \"John and Jane decide to flee the war and start a new life together\"\n",
      "}\n",
      "    \n",
      "    //the outline that the story should follow\n",
      "    fullOutline = {\n",
      "  \"parts\": [\n",
      "    {\n",
      "      \"name\": \"Introduction\",\n",
      "      \"description\": \"Introduce the setting, characters, and conflict of the story.\"\n",
      "    },\n",
      "    {\n",
      "      \"name\": \"Rising Action\",\n",
      "      \"description\": \"John and Julia must work together to save the Union from destruction.\"\n",
      "    },\n",
      "    {\n",
      "      \"name\": \"Plot Twist\",\n",
      "      \"description\": \"Julia is revealed to be a Confederate spy, but John convinces her to switch sides.\"\n",
      "    },\n",
      "    {\n",
      "      \"name\": \"Climax\",\n",
      "      \"description\": \"John and Julia lead the Union to victory, ending the Civil War.\"\n",
      "    },\n",
      "    {\n",
      "      \"name\": \"Conclusion\",\n",
      "      \"description\": \"Wrap up the story and reflect on the events that took place.\"\n",
      "    }\n",
      "  ]\n",
      "}\n",
      "    \n",
      "    //the paragraphs of the story so far\n",
      "    storySoFar = []\n",
      "\n",
      "    const generateIntroduction = (instructions, currentOutlineSection) : str =>{\n",
      "        return ai.write()\n",
      "    }\n",
      "\n",
      "    currentOutlineSection = Introduction\n",
      "\n",
      "    console.log(\"Out: \" + generateIntroduction(currentOutlineSection))\n",
      "    Out:\n"
     ]
    }
   ],
   "source": [
    "print(createPrompt(rawOverview, rawOutline, story, 'generateIntroduction', parsedOutline['parts'][0]['name']))\n",
    "\n"
   ]
  },
  {
   "cell_type": "code",
   "execution_count": 170,
   "id": "922004fd",
   "metadata": {},
   "outputs": [],
   "source": [
    "r = query(createPrompt(rawOverview, rawOutline, story, 'generateIntroduction', parsedOutline['parts'][0]['name']))"
   ]
  },
  {
   "cell_type": "code",
   "execution_count": 171,
   "id": "2bcdc2ab",
   "metadata": {},
   "outputs": [
    {
     "name": "stdout",
     "output_type": "stream",
     "text": [
      "It was the height of the Civil War, and the Union was in dire straits. John, a 22-year-old soldier, and Jane, an 18-year-old nurse, were determined to do whatever it took to save their side from destruction. Little did they know, however, that their fates were intertwined with that of Jack, a 55-year-old general who had a secret connection to John. With the fate of the Union in their hands, John and Jane must decide whether to fight for their side or flee the war.\n"
     ]
    }
   ],
   "source": [
    "print(r)"
   ]
  },
  {
   "cell_type": "code",
   "execution_count": 174,
   "id": "da3a97b1",
   "metadata": {},
   "outputs": [],
   "source": [
    "story = [r]"
   ]
  },
  {
   "cell_type": "code",
   "execution_count": 175,
   "id": "a49adaff",
   "metadata": {},
   "outputs": [
    {
     "data": {
      "text/plain": [
       "'[\"It was the height of the Civil War, and the Union was in dire straits. John, a 22-year-old soldier, and Jane, an 18-year-old nurse, were determined to do whatever it took to save their side from destruction. Little did they know, however, that their fates were intertwined with that of Jack, a 55-year-old general who had a secret connection to John. With the fate of the Union in their hands, John and Jane must decide whether to fight for their side or flee the war.\"]'"
      ]
     },
     "execution_count": 175,
     "metadata": {},
     "output_type": "execute_result"
    }
   ],
   "source": [
    "json.dumps(story)"
   ]
  },
  {
   "cell_type": "code",
   "execution_count": null,
   "id": "eb3f0e60",
   "metadata": {},
   "outputs": [],
   "source": [
    "r = query(createPrompt(rawOverview, rawOutline, story, 'generateNextParagraph', parsedOutline['parts'][0]['name']))\n",
    "story = story + [r]"
   ]
  },
  {
   "cell_type": "code",
   "execution_count": 148,
   "id": "7e2d4218",
   "metadata": {},
   "outputs": [
    {
     "name": "stdout",
     "output_type": "stream",
     "text": [
      "John and Jane were two young people living during the civil war. John was a soldier, 22 years old, and Jane was a nurse, 18 years old. They were both loyal to their side, but were faced with a difficult decision: fight for their side or flee the war. Little did they know, Jack, the 55 year old general, was John's father. With the stakes so high, John and Jane had to make a decision that would shape their future.\n",
      "\n",
      "John and Jane were two young people living during the civil war. John was a soldier, 22 years old, and Jane was a nurse, 18 years old. They were both loyal to their side, but were faced with a difficult decision: fight for their side or flee the war. Jack, the 55 year old general, was John's father, unbeknownst to them. The stakes were high, and John and Jane had to make a decision that would shape their future.\n"
     ]
    }
   ],
   "source": [
    "print(story)"
   ]
  },
  {
   "cell_type": "code",
   "execution_count": null,
   "id": "a28cff45",
   "metadata": {},
   "outputs": [],
   "source": []
  }
 ],
 "metadata": {
  "kernelspec": {
   "display_name": "Python 3 (ipykernel)",
   "language": "python",
   "name": "python3"
  },
  "language_info": {
   "codemirror_mode": {
    "name": "ipython",
    "version": 3
   },
   "file_extension": ".py",
   "mimetype": "text/x-python",
   "name": "python",
   "nbconvert_exporter": "python",
   "pygments_lexer": "ipython3",
   "version": "3.9.6"
  }
 },
 "nbformat": 4,
 "nbformat_minor": 5
}
