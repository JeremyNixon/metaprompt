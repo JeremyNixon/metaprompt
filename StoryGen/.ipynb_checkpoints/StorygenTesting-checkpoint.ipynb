{
 "cells": [
  {
   "cell_type": "code",
   "execution_count": 1,
   "id": "a18006f5",
   "metadata": {},
   "outputs": [],
   "source": [
    "import openai, os"
   ]
  },
  {
   "cell_type": "code",
   "execution_count": 2,
   "id": "890539b9",
   "metadata": {},
   "outputs": [],
   "source": [
    "openai.api_key = os.environ.get('OPENAI_API_KEY')"
   ]
  },
  {
   "cell_type": "code",
   "execution_count": 39,
   "id": "2f1dcd0b",
   "metadata": {},
   "outputs": [],
   "source": [
    "def query(prompt, **kwargs):\n",
    "    \"\"\"\n",
    "    wrapper for the API to save the prompt and the result\n",
    "    \"\"\"\n",
    "    args = {\n",
    "    \"engine\":\"text-davinci-003\",\n",
    "    \"temperature\":0,\n",
    "    \"max_tokens\":200,\n",
    "    \"stop\":\"END\",\n",
    "    }\n",
    "\n",
    "    for key in kwargs:\n",
    "        args[key] = kwargs[key]\n",
    "\n",
    "    r = openai.Completion.create(prompt=prompt, **args)\n",
    "    return r[\"choices\"][0][\"text\"].strip()\n"
   ]
  },
  {
   "cell_type": "code",
   "execution_count": 40,
   "id": "e6f94023",
   "metadata": {},
   "outputs": [
    {
     "data": {
      "text/plain": [
       "'2\\n\\n2+2=4'"
      ]
     },
     "execution_count": 40,
     "metadata": {},
     "output_type": "execute_result"
    }
   ],
   "source": [
    "query('1+1=')"
   ]
  },
  {
   "cell_type": "code",
   "execution_count": 60,
   "id": "75a13f71",
   "metadata": {},
   "outputs": [],
   "source": [
    "outlineForStoryPrompt = \"\"\" /* Generate an outline for a story\n",
    "\n",
    "type character{{\n",
    "  \"name\": str,\n",
    "  \"profession\": str,\n",
    "  \"age\": int,\n",
    "}}\n",
    "\n",
    "interface outline {{\n",
    "  \"setting\": str, //where the section takes place\n",
    "  \"characters\": character[], //the character names\n",
    "  \"conflict\": str, //what conflict needs to get solved\n",
    "  \"plotTwist\": str, //any plot twists to occur\n",
    "  \"resolution\": str // how the story concludes\n",
    "}}\n",
    "\n",
    "const generatePlot = (theme, genre, style) : outline =>{{\n",
    "    return ai.generatePlot(theme)\n",
    "}}\n",
    "\n",
    "\n",
    "theme = '{}'\n",
    "genre = '{}'\n",
    "style = '{}'\n",
    "//make sure to include the keys in quotes so we can json.parse\n",
    "console.log(\"Out: \" + generatePlot(theme, genre, style))\n",
    "Out:\"\"\""
   ]
  },
  {
   "cell_type": "code",
   "execution_count": 61,
   "id": "6567433c",
   "metadata": {},
   "outputs": [],
   "source": [
    "theme = \"civil war\"\n",
    "genre = \"movie\"\n",
    "style = \"shakesepear\"\n"
   ]
  },
  {
   "cell_type": "code",
   "execution_count": null,
   "id": "2f135521",
   "metadata": {},
   "outputs": [],
   "source": [
    "r = query(outlineForStoryPrompt.format(theme, genre, style), temperature=.5)"
   ]
  },
  {
   "cell_type": "code",
   "execution_count": null,
   "id": "97d14f9d",
   "metadata": {},
   "outputs": [],
   "source": [
    "r"
   ]
  },
  {
   "cell_type": "code",
   "execution_count": null,
   "id": "e72915d9",
   "metadata": {},
   "outputs": [],
   "source": [
    "import json"
   ]
  },
  {
   "cell_type": "code",
   "execution_count": null,
   "id": "5a5e1ae6",
   "metadata": {},
   "outputs": [],
   "source": [
    "json.loads(r)"
   ]
  },
  {
   "cell_type": "code",
   "execution_count": null,
   "id": "4f2154dc",
   "metadata": {},
   "outputs": [],
   "source": []
  }
 ],
 "metadata": {
  "kernelspec": {
   "display_name": "Python 3 (ipykernel)",
   "language": "python",
   "name": "python3"
  },
  "language_info": {
   "codemirror_mode": {
    "name": "ipython",
    "version": 3
   },
   "file_extension": ".py",
   "mimetype": "text/x-python",
   "name": "python",
   "nbconvert_exporter": "python",
   "pygments_lexer": "ipython3",
   "version": "3.9.6"
  }
 },
 "nbformat": 4,
 "nbformat_minor": 5
}
