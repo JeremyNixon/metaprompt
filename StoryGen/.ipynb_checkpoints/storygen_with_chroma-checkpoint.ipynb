{
 "cells": [
  {
   "cell_type": "code",
   "execution_count": 1,
   "id": "b9f94891",
   "metadata": {},
   "outputs": [
    {
     "name": "stderr",
     "output_type": "stream",
     "text": [
      "/var/folders/xv/pg7jcv095h320xy06ql1jm8c0000gn/T/ipykernel_20101/1511673327.py:2: DeprecationWarning: Importing display from IPython.core.display is deprecated since IPython 7.14, please import from IPython display\n",
      "  from IPython.core.display import display, HTML\n"
     ]
    },
    {
     "data": {
      "text/html": [
       "<style>.container { width:100% !important; }</style>"
      ],
      "text/plain": [
       "<IPython.core.display.HTML object>"
      ]
     },
     "metadata": {},
     "output_type": "display_data"
    },
    {
     "data": {
      "text/html": [
       "<style>pre { white-space: pre !important; }</style>"
      ],
      "text/plain": [
       "<IPython.core.display.HTML object>"
      ]
     },
     "metadata": {},
     "output_type": "display_data"
    },
    {
     "ename": "ModuleNotFoundError",
     "evalue": "No module named 'qgrid'",
     "output_type": "error",
     "traceback": [
      "\u001b[0;31m---------------------------------------------------------------------------\u001b[0m",
      "\u001b[0;31mModuleNotFoundError\u001b[0m                       Traceback (most recent call last)",
      "Cell \u001b[0;32mIn[1], line 6\u001b[0m\n\u001b[1;32m      4\u001b[0m display(HTML(\u001b[38;5;124m\"\u001b[39m\u001b[38;5;124m<style>.container \u001b[39m\u001b[38;5;124m{\u001b[39m\u001b[38;5;124m width:100\u001b[39m\u001b[38;5;124m%\u001b[39m\u001b[38;5;124m !important; }</style>\u001b[39m\u001b[38;5;124m\"\u001b[39m))\n\u001b[1;32m      5\u001b[0m display(HTML(\u001b[38;5;124m\"\u001b[39m\u001b[38;5;124m<style>pre \u001b[39m\u001b[38;5;124m{\u001b[39m\u001b[38;5;124m white-space: pre !important; }</style>\u001b[39m\u001b[38;5;124m\"\u001b[39m))\n\u001b[0;32m----> 6\u001b[0m \u001b[38;5;28;01mimport\u001b[39;00m \u001b[38;5;21;01mqgrid\u001b[39;00m\n\u001b[1;32m      7\u001b[0m qgrid\u001b[38;5;241m.\u001b[39menable()\n\u001b[1;32m      8\u001b[0m qgrid\u001b[38;5;241m.\u001b[39mset_grid_option(\u001b[38;5;124m'\u001b[39m\u001b[38;5;124mforceFitColumns\u001b[39m\u001b[38;5;124m'\u001b[39m, \u001b[38;5;28;01mFalse\u001b[39;00m)\n",
      "\u001b[0;31mModuleNotFoundError\u001b[0m: No module named 'qgrid'"
     ]
    }
   ],
   "source": []
  },
  {
   "cell_type": "code",
   "execution_count": 5,
   "id": "c6a3c127",
   "metadata": {},
   "outputs": [],
   "source": [
    "import openai, os\n",
    "\n",
    "openai.api_key = os.environ.get('OPENAI_API_KEY')"
   ]
  },
  {
   "cell_type": "code",
   "execution_count": 7,
   "id": "f8969687",
   "metadata": {},
   "outputs": [],
   "source": [
    "import json\n"
   ]
  },
  {
   "cell_type": "code",
   "execution_count": 8,
   "id": "da3dc8a5",
   "metadata": {},
   "outputs": [],
   "source": [
    "def query(prompt, **kwargs):\n",
    "    \"\"\"\n",
    "    wrapper for the API to save the prompt and the result\n",
    "    \"\"\"\n",
    "    args = {\n",
    "    \"engine\":\"text-davinci-003\",\n",
    "    \"temperature\":0,\n",
    "    \"max_tokens\":1000,\n",
    "    \"stop\":\"END\",\n",
    "    }\n",
    "\n",
    "    for key in kwargs:\n",
    "        args[key] = kwargs[key]\n",
    "\n",
    "    r = openai.Completion.create(prompt=prompt, **args)\n",
    "    return r[\"choices\"][0][\"text\"].strip()"
   ]
  },
  {
   "cell_type": "code",
   "execution_count": 9,
   "id": "a53f6ed1",
   "metadata": {},
   "outputs": [],
   "source": [
    "theme = \"dystopian universe\""
   ]
  },
  {
   "cell_type": "code",
   "execution_count": 10,
   "id": "da015c38",
   "metadata": {},
   "outputs": [],
   "source": [
    "generatePlotPrompt = \"\"\" /* Generate an Plot for a movie\n",
    "\n",
    "type character{{\n",
    "  \"name\": str,\n",
    "  \"background\": str\n",
    "}}\n",
    "\n",
    "interface overview {{\n",
    "  \"setting\": str, //where the section takes place\n",
    "  \"characters\": character[], //the character names\n",
    "  \"conflict\": str, //what conflict needs to get solved\n",
    "  \"plotTwist\": str, //any plot twists to occur\n",
    "  \"resolution\": str // how this plot concludes\n",
    "}}\n",
    "\n",
    "const generatePlot = (theme) : outline => {{\n",
    "    return ai.generatePlot(theme)\n",
    "}}\n",
    "\n",
    "\n",
    "theme = '{}'\n",
    "//make sure to include the keys in quotes so we can json.parse\n",
    "console.log(\"Out: \" + generatePlot(theme))\n",
    "Out:\"\"\""
   ]
  },
  {
   "cell_type": "code",
   "execution_count": 11,
   "id": "20837470",
   "metadata": {},
   "outputs": [],
   "source": [
    "generateScenesPrompt = \"\"\" /* Generate scenes for a movie\n",
    "\n",
    "type scene{{\n",
    "  \"name\": str, // the name of the scene\n",
    "  \"summary\": str, // a detailed description with specifics of what happens in this scene\n",
    "}}\n",
    "\n",
    "const generateScenes = (plot) : scene[] =>{{\n",
    "    return ai.generateScenes(plot)\n",
    "}}\n",
    "\n",
    "plot = '{}'\n",
    "\n",
    "//make sure to include the keys in quotes so we can json.parse\n",
    "console.log(\"Out: \" + generatePlot(plot))\n",
    "Out:\"\"\""
   ]
  },
  {
   "cell_type": "code",
   "execution_count": 12,
   "id": "a9ed92ee",
   "metadata": {},
   "outputs": [],
   "source": [
    "generateDialoguesPrompt = \"\"\" /* Write the next set of dialogues in the given scene of the movie\n",
    "\n",
    "//the overview of the entire movie\n",
    "movieOverview = {}\n",
    "\n",
    "//the outline that the movie should follow\n",
    "movieOutline = {}\n",
    "\n",
    "//the paragraphs of the movie so far\n",
    "dialoguesSoFar = {}\n",
    "\n",
    "interface scene {{\n",
    "  \"dialogues\": dialogue[] //all of the dialogues in the story\n",
    "}}\n",
    "\n",
    "type dialogue{{\n",
    "  \"name\": str, // the name of the speaker\n",
    "  \"text\": str, // dialogue that speaker says\n",
    "}}\n",
    "\n",
    "//generate multiple longform dialogues for this scene and list them\n",
    "const {} = (currentScene) : dialogues[] =>{{\n",
    "    return ai.write()\n",
    "}}\n",
    "\n",
    "currentSceneDescription = {}\n",
    "\n",
    "//make sure to include the keys in quotes so we can json.parse\n",
    "console.log(\"Out: \" + {}(currentOutlineSection))\n",
    "Out:\"\"\""
   ]
  },
  {
   "cell_type": "code",
   "execution_count": 13,
   "id": "0863351c",
   "metadata": {},
   "outputs": [],
   "source": [
    "generateDialoguesPrompt = \"\"\" /* Write the next set of dialogues in the movie for the given scene\n",
    "\n",
    "//the Plot of the entire movie\n",
    "plot = {}\n",
    "\n",
    "//the outline that the movie should follow\n",
    "allScenes = {}\n",
    "\n",
    "//list of dialogues that have already been spoken\n",
    "dialoguesSoFar = {}\n",
    "\n",
    "type dialogue{{\n",
    "  \"name\": str, // the name of the speaker\n",
    "  \"text\": str, // dialogue that speaker says\n",
    "}}\n",
    "\n",
    "//generate multiple longform dialogues for this scene and list them\n",
    "const {} = (currentScene) : dialogue[] =>{{\n",
    "    return ai.write()\n",
    "}}\n",
    "\n",
    "currentSceneDescription = {}\n",
    "\n",
    "//make sure to include the keys in quotes so we can json.parse\n",
    "console.log(\"Out: \" + {}(currentOutlineSection))\n",
    "Out:\"\"\""
   ]
  },
  {
   "cell_type": "code",
   "execution_count": null,
   "id": "f2da773d",
   "metadata": {},
   "outputs": [
    {
     "name": "stdout",
     "output_type": "stream",
     "text": [
      "Overall Plot\n"
     ]
    },
    {
     "data": {
      "text/plain": [
       "{'setting': 'A dystopian universe in the near future',\n",
       " 'characters': [{'name': 'John',\n",
       "   'background': 'A young man struggling to find his place in the world'},\n",
       "  {'name': 'Samantha', 'background': 'A powerful leader of the resistance'}],\n",
       " 'conflict': \"John must choose between joining Samantha's rebellion or supporting the oppressive regime\",\n",
       " 'plotTwist': 'John discovers that Samantha is his long lost sister',\n",
       " 'resolution': 'John joins the rebellion, and they overthrow the oppressive regime together'}"
      ]
     },
     "metadata": {},
     "output_type": "display_data"
    },
    {
     "name": "stdout",
     "output_type": "stream",
     "text": [
      "Overall Scenes\n"
     ]
    },
    {
     "data": {
      "text/plain": [
       "[{'name': 'Meeting John',\n",
       "  'summary': 'John meets Samantha for the first time and is immediately taken by her strength and courage. He learns about her mission to overthrow the oppressive regime and is intrigued by her cause.'},\n",
       " {'name': \"John's Choice\",\n",
       "  'summary': \"John is faced with a difficult decision - join Samantha's rebellion or stay loyal to the oppressive regime. He is torn between his loyalty and his desire to join the cause of justice.\"},\n",
       " {'name': 'The Reveal',\n",
       "  'summary': 'John discovers that Samantha is actually his long lost sister. He is filled with a newfound sense of purpose and decides to join the rebellion.'},\n",
       " {'name': 'The Final Battle',\n",
       "  'summary': 'John and Samantha lead the rebellion against the oppressive regime. After a long and difficult battle, they are successful in overthrowing the regime and restoring peace and justice to the universe.'}]"
      ]
     },
     "metadata": {},
     "output_type": "display_data"
    },
    {
     "name": "stdout",
     "output_type": "stream",
     "text": [
      "Meeting John: John meets Samantha for the first time and is immediately taken by her strength and courage. He learns about her mission to overthrow the oppressive regime and is intrigued by her cause.\n",
      "\n",
      "Sub Plot\n"
     ]
    },
    {
     "data": {
      "text/plain": [
       "{'setting': 'A small town in a distant land',\n",
       " 'characters': [{'name': 'John',\n",
       "   'background': 'John is a kind-hearted and brave young man who has been searching for a way to make a difference in the world.'},\n",
       "  {'name': 'Samantha',\n",
       "   'background': 'Samantha is a strong and determined woman who is leading a revolution against the oppressive regime.'}],\n",
       " 'conflict': 'John and Samantha must work together to overthrow the oppressive regime and restore freedom to the people.',\n",
       " 'plotTwist': 'John discovers that Samantha is actually the long-lost princess of the kingdom and the rightful heir to the throne.',\n",
       " 'resolution': 'John and Samantha are able to successfully overthrow the oppressive regime and restore freedom to the people. John and Samantha then marry and Samantha becomes the new queen of the kingdom.'}"
      ]
     },
     "metadata": {},
     "output_type": "display_data"
    },
    {
     "name": "stdout",
     "output_type": "stream",
     "text": [
      "Sub Scenes\n"
     ]
    },
    {
     "data": {
      "text/plain": [
       "[{'name': \"John's Arrival\",\n",
       "  'summary': 'John arrives in the small town and discovers the oppressive regime that has taken over. He meets some of the citizens and learns of their plight.'},\n",
       " {'name': 'Meeting Samantha',\n",
       "  'summary': 'John meets Samantha and they quickly become allies in their fight against the oppressive regime. They discuss their plans and make preparations to overthrow the regime.'},\n",
       " {'name': 'The Uprising',\n",
       "  'summary': 'John and Samantha lead a revolt against the oppressive regime. With the help of the citizens, they are able to overthrow the regime and restore freedom to the people.'},\n",
       " {'name': 'The Reveal',\n",
       "  'summary': 'John discovers that Samantha is actually the long-lost princess of the kingdom and the rightful heir to the throne. He shares this revelation with the people and they all rejoice.'},\n",
       " {'name': 'The Coronation',\n",
       "  'summary': 'John and Samantha are married and Samantha is crowned the new queen of the kingdom. The people of the kingdom celebrate their newfound freedom and the wedding of their beloved queen and king.'}]"
      ]
     },
     "metadata": {},
     "output_type": "display_data"
    },
    {
     "name": "stdout",
     "output_type": "stream",
     "text": [
      "Dialogues generated: 4\n",
      "Dialogues generated: 6\n",
      "Dialogues generated: 8\n",
      "Dialogues generated: 10\n",
      "Dialogues generated: 6\n",
      "John: This is a terrible place. I can feel the oppression in the air. I must find a way to help these people.\n",
      "Citizen: You can't do anything. The regime is too powerful. We are all doomed.\n",
      "John: No, I won't accept that. There must be a way to fight back. I will find it.\n",
      "Citizen: You are brave, but it won't be enough. We need a miracle.\n",
      "John: Hello, I'm John. I've heard about the oppressive regime here and I want to help.\n",
      "Samantha: I'm Samantha. I'm leading a revolution against the regime. We need all the help we can get.\n",
      "John: I'm ready to do whatever it takes. What can I do?\n",
      "Samantha: We need to gather more people to join our cause. We need to spread the word and convince people to join us.\n",
      "John: I can do that. I'll start talking to people and see if I can get them to join us.\n",
      "Samantha: That would be great. We need all the help we can get.\n",
      "John: We can do this! We can take back our freedom!\n",
      "Samantha: Yes, we can! We must fight for what is right!\n",
      "Citizen: We will fight with you! We will not be oppressed any longer!\n",
      "John: Let's go! We can do this!\n",
      "Samantha: Yes! We will take back our freedom!\n",
      "Citizen: For freedom! For justice!\n",
      "John: For freedom!\n",
      "Samantha: For justice!\n",
      "John: Samantha, I can't believe it. You're the long-lost princess of the kingdom and the rightful heir to the throne!\n",
      "Samantha: I can't believe it either. I never thought I'd find out the truth about my past.\n",
      "John: This is amazing! We can use this to our advantage. We can use your rightful claim to the throne to overthrow the oppressive regime!\n",
      "Samantha: Yes, we can! We must fight for what is right!\n",
      "Citizen: We will fight with you! We will not be oppressed any longer!\n",
      "John: Let's go! We can do this!\n",
      "Samantha: Yes! We will take back our freedom!\n",
      "Citizen: For freedom! For justice!\n",
      "John: For freedom!\n",
      "Samantha: For justice!\n",
      "John: Today marks a new beginning for our kingdom. We have fought for freedom and justice, and now we have it.\n",
      "Samantha: Yes, we have fought hard and we have won. I am proud to be your queen.\n",
      "Citizen: Long live the queen! Long live the king!\n",
      "John: Thank you all for your support. We will make this kingdom a place of peace and prosperity.\n",
      "Samantha: Yes, together we will make this kingdom a place where everyone can live in harmony.\n",
      "Citizen: Hear, hear! All hail the queen and king!\n",
      "John's Choice: John is faced with a difficult decision - join Samantha's rebellion or stay loyal to the oppressive regime. He is torn between his loyalty and his desire to join the cause of justice.\n",
      "\n",
      "Sub Plot\n"
     ]
    },
    {
     "data": {
      "text/plain": [
       "{'setting': 'A dystopian city ruled by an oppressive regime',\n",
       " 'characters': [{'name': 'John',\n",
       "   'background': 'Loyal to the oppressive regime'},\n",
       "  {'name': 'Samantha',\n",
       "   'background': 'Leading a rebellion against the oppressive regime'}],\n",
       " 'conflict': \"John is faced with a difficult decision - join Samantha's rebellion or stay loyal to the oppressive regime.\",\n",
       " 'plotTwist': 'John discovers that Samantha is his long-lost sister and that his loyalty to the oppressive regime is preventing him from reuniting with her.',\n",
       " 'resolution': \"John ultimately chooses to join Samantha's rebellion, allowing him to reunite with his sister and help bring about a better future for the citizens of the dystopian city.\"}"
      ]
     },
     "metadata": {},
     "output_type": "display_data"
    },
    {
     "name": "stdout",
     "output_type": "stream",
     "text": [
      "Sub Scenes\n"
     ]
    },
    {
     "data": {
      "text/plain": [
       "[{'name': 'John Enters the City',\n",
       "  'summary': 'John enters the dystopian city ruled by an oppressive regime. He is loyal to the regime and determined to uphold its laws and regulations.'},\n",
       " {'name': 'John Meets Samantha',\n",
       "  'summary': \"John meets Samantha, who is leading a rebellion against the oppressive regime. She challenges John's loyalty to the regime, but he stands firm in his beliefs.\"},\n",
       " {'name': \"John Discovers Samantha's Identity\",\n",
       "  'summary': 'John discovers that Samantha is his long-lost sister and realizes that his loyalty to the oppressive regime is preventing him from reuniting with her.'},\n",
       " {'name': 'John Joins the Rebellion',\n",
       "  'summary': \"John ultimately chooses to join Samantha's rebellion, allowing him to reunite with his sister and help bring about a better future for the citizens of the dystopian city.\"}]"
      ]
     },
     "metadata": {},
     "output_type": "display_data"
    },
    {
     "name": "stdout",
     "output_type": "stream",
     "text": [
      "Dialogues generated: 4\n",
      "Dialogues generated: 4\n",
      "Dialogues generated: 6\n",
      "Dialogues generated: 4\n",
      "John: This is a terrible place. I can feel the oppression in the air. I must find a way to help these people.\n",
      "Citizen: You can't do anything. The regime is too powerful. We are all doomed.\n",
      "John: No, I won't accept that. There must be a way to fight back. I will find it.\n",
      "Citizen: You are brave, but it won't be enough. We need a miracle.\n",
      "John: Hello, I'm John. I've heard about the oppressive regime here and I want to help.\n",
      "Samantha: I'm Samantha. I'm leading a revolution against the regime. We need all the help we can get.\n",
      "John: I'm ready to do whatever it takes. What can I do?\n",
      "Samantha: We need to gather more people to join our cause. We need to spread the word and convince people to join us.\n",
      "John: I can do that. I'll start talking to people and see if I can get them to join us.\n",
      "Samantha: That would be great. We need all the help we can get.\n",
      "John: We can do this! We can take back our freedom!\n",
      "Samantha: Yes, we can! We must fight for what is right!\n",
      "Citizen: We will fight with you! We will not be oppressed any longer!\n",
      "John: Let's go! We can do this!\n",
      "Samantha: Yes! We will take back our freedom!\n",
      "Citizen: For freedom! For justice!\n",
      "John: For freedom!\n",
      "Samantha: For justice!\n",
      "John: Samantha, I can't believe it. You're the long-lost princess of the kingdom and the rightful heir to the throne!\n",
      "Samantha: I can't believe it either. I never thought I'd find out the truth about my past.\n",
      "John: This is amazing! We can use this to our advantage. We can use your rightful claim to the throne to overthrow the oppressive regime!\n",
      "Samantha: Yes, we can! We must fight for what is right!\n",
      "Citizen: We will fight with you! We will not be oppressed any longer!\n",
      "John: Let's go! We can do this!\n",
      "Samantha: Yes! We will take back our freedom!\n",
      "Citizen: For freedom! For justice!\n",
      "John: For freedom!\n",
      "Samantha: For justice!\n",
      "John: Today marks a new beginning for our kingdom. We have fought for freedom and justice, and now we have it.\n",
      "Samantha: Yes, we have fought hard and we have won. I am proud to be your queen.\n",
      "Citizen: Long live the queen! Long live the king!\n",
      "John: Thank you all for your support. We will make this kingdom a place of peace and prosperity.\n",
      "Samantha: Yes, together we will make this kingdom a place where everyone can live in harmony.\n",
      "Citizen: Hear, hear! All hail the queen and king!\n",
      "John: I have arrived in this city, and I am determined to uphold the laws and regulations of this oppressive regime.\n",
      "John: I will not waver in my loyalty to this regime, no matter what challenges I may face.\n",
      "John: I will do whatever it takes to ensure that justice is served and that the citizens of this city are safe.\n",
      "John: I will not rest until I have done all I can to protect this city and its people.\n",
      "John: I have come to this city with a purpose. I am determined to uphold the laws and regulations of this oppressive regime, no matter what challenges I may face.\n",
      "Samantha: You may be loyal to this regime, but I am here to challenge it. I am leading a rebellion against the oppressive regime, and I will not rest until justice is served and the citizens of this city are safe.\n",
      "John: I understand your passion, but I cannot join your cause. I must remain loyal to the regime, no matter what.\n",
      "Samantha: You may think you are doing the right thing, but you are only helping to perpetuate the oppression. You must choose a side, and I hope you choose wisely.\n",
      "John: Samantha...you're my sister? I can't believe it. All this time I've been loyal to this oppressive regime, and I never knew that I was preventing myself from reuniting with you.\n",
      "Samantha: Yes, John. I'm your long-lost sister. I'm so glad that I finally found you.\n",
      "John: I'm so sorry for not recognizing you sooner. I never knew that I was standing in the way of us being together.\n",
      "Samantha: It's okay, John. I understand why you were loyal to the regime. But now you have a choice. You can stay loyal to the oppressive regime, or you can join me in my rebellion and help bring about a better future for the citizens of this city.\n",
      "John: I don't know what to do. I want to be with you, but I'm not sure if I can betray the regime that I've been loyal to for so long.\n",
      "Samantha: You don't have to decide right now. Just think about it, and I'm sure you'll make the right decision.\n",
      "John: I've made my decision. I'm joining your rebellion. I want to help bring about a better future for the citizens of this city, and I want to be with you, my sister.\n",
      "Samantha: I'm so glad you made the right decision. Together, we can make a difference and bring about a brighter future for everyone.\n",
      "John: I'm ready to do whatever it takes to make sure that happens. Let's do this.\n",
      "Samantha: Let's do this.\n",
      "The Reveal: John discovers that Samantha is actually his long lost sister. He is filled with a newfound sense of purpose and decides to join the rebellion.\n",
      "\n",
      "Sub Plot\n"
     ]
    },
    {
     "data": {
      "text/plain": [
       "{'setting': \"John's home town\",\n",
       " 'characters': [{'name': 'John', 'background': 'An ordinary person'},\n",
       "  {'name': 'Samantha', 'background': \"John's long lost sister\"}],\n",
       " 'conflict': \"John must uncover the truth about his sister's identity and decide whether or not to join the rebellion.\",\n",
       " 'plotTwist': 'John discovers that Samantha is actually his long lost sister and that she is part of the rebellion.',\n",
       " 'resolution': 'John decides to join the rebellion and fight for justice alongside his sister.'}"
      ]
     },
     "metadata": {},
     "output_type": "display_data"
    }
   ],
   "source": [
    "rawPlot = query(generatePlotPrompt.format(theme), temperature=0.5)\n",
    "parsedPlot = json.loads(rawPlot)\n",
    "print('Overall Plot')\n",
    "display(parsedPlot)\n",
    "\n",
    "rawScenes = query(generateScenesPrompt.format(rawPlot), temperature=.5)\n",
    "parsedScenes = json.loads(rawScenes)\n",
    "print('Overall Scenes')\n",
    "display(parsedScenes)\n",
    "\n",
    "dialoguesSoFar = []\n",
    "\n",
    "for scene in parsedScenes:\n",
    "\n",
    "    subTheme = f\"{scene['name']}: {scene['summary']}\\n\"\n",
    "    print(subTheme)\n",
    "\n",
    "    rawSubPlot = query(generatePlotPrompt.format(subTheme), temperature=0.5)\n",
    "    parsedSubPlot = json.loads(rawSubPlot)\n",
    "    print('Sub Plot')\n",
    "    display(parsedSubPlot)\n",
    "    \n",
    "    rawSubScenes = query(generateScenesPrompt.format(rawSubPlot), temperature=.5)\n",
    "    parsedSubScenes = json.loads(rawSubScenes)\n",
    "    print('Sub Scenes')\n",
    "    display(parsedSubScenes)\n",
    "\n",
    "    for subScene in parsedSubScenes:\n",
    "        try:\n",
    "            rawDialogues = query(generateDialoguesPrompt.format(rawSubPlot, rawSubScenes, dialoguesSoFar[-10:], subScene['name'], subScene['summary'], subScene['name']))\n",
    "            print(f'Dialogues generated: {len(json.loads(rawDialogues))}')\n",
    "            dialoguesSoFar += json.loads(rawDialogues)\n",
    "        except:\n",
    "            try:\n",
    "                print('FAILED, TRYING AGAIN')\n",
    "                rawDialogues = query(generateDialoguesPrompt.format(rawSubPlot, rawSubScenes, dialoguesSoFar[-10:], subScene['name'], subScene['summary'], subScene['name']))\n",
    "                print(f'Dialogues generated: {len(json.loads(rawDialogues))}')\n",
    "                dialoguesSoFar += json.loads(rawDialogues)\n",
    "            except:\n",
    "                pass\n",
    "\n",
    "    for dialogue in dialoguesSoFar:\n",
    "        print(f\"{dialogue['name']}: {dialogue['text']}\")\n"
   ]
  },
  {
   "cell_type": "code",
   "execution_count": 15,
   "id": "5b7a6172",
   "metadata": {},
   "outputs": [
    {
     "name": "stdout",
     "output_type": "stream",
     "text": [
      "John: Hi, I'm John. It's nice to meet you.\n",
      "Jane: Hi, I'm Jane. It's nice to meet you too.\n",
      "John: So, what brings you here?\n",
      "Jane: I'm here to fight for justice and to overthrow the oppressive government.\n",
      "John: Me too! We should join forces and work together to make a difference.\n",
      "Jane: That sounds like a great idea. Let's do it!\n",
      "John: We need to come up with a plan that will help us overthrow the oppressive government.\n",
      "Jane: Yes, we need to be strategic and think of every possible outcome.\n",
      "John: We should start by gathering as much information as we can about the government and their plans.\n",
      "Jane: Good idea. We should also start recruiting people to join our cause.\n",
      "John: Yes, we need to build a strong team if we are going to succeed.\n",
      "Jane: We should also start stockpiling weapons and supplies in case we need them.\n",
      "John: Right, we need to be prepared for anything.\n",
      "Jane: We can do this. We just need to stay focused and keep our eyes on the prize.\n",
      "John: We need to be careful. The government is aware of our plans and is tracking our every move.\n",
      "Jane: We need to find a way to stay one step ahead of them and continue our mission.\n",
      "John: We should start by changing our plans and our tactics. We need to be unpredictable and keep them guessing.\n",
      "Jane: We should also start using code words and secret messages to communicate with each other. That way, the government won't be able to intercept our plans.\n",
      "John: Good idea. We need to be smart and stay vigilant if we are going to succeed.\n",
      "Jane: We can do this. We just need to stay focused and keep our eyes on the prize.\n",
      "John: We've come this far. We can't give up now. We have to keep fighting until we win.\n",
      "Jane: You're right. We have to stay strong and keep pushing forward.\n",
      "John: We can do this. We just need to stay focused and keep our eyes on the prize.\n",
      "Jane: We have to be brave and never give up. We can make a difference if we just keep fighting.\n",
      "John: Yes, we can do this. We just need to stay strong and never give up.\n",
      "Jane: We can do this. We just need to stay focused and keep our eyes on the prize.\n",
      "John: We did it! We finally did it! We overthrew the oppressive government and ushered in a new era of freedom and justice.\n",
      "Jane: Yes, we did it! We are heroes and our revolution will be remembered for generations to come.\n",
      "John: This is only the beginning. We have to keep fighting for justice and never give up.\n",
      "Jane: You're right. We have to stay strong and keep pushing forward. We can make a difference if we just keep fighting.\n",
      "John: Yes, we can do this. We just need to stay focused and keep our eyes on the prize.\n",
      "Jane: We have to be brave and never give up. We can make a difference if we just keep fighting.\n",
      "John: Yes, we can do this. We just need to stay strong and never give up.\n",
      "Jane: We can do this. We just need to stay focused and keep our eyes on the prize.\n"
     ]
    }
   ],
   "source": [
    "for dialogue in dialoguesSoFar:\n",
    "        print(f\"{dialogue['name']}: {dialogue['text']}\")"
   ]
  },
  {
   "cell_type": "code",
   "execution_count": null,
   "id": "cd53dfc1",
   "metadata": {},
   "outputs": [],
   "source": []
  }
 ],
 "metadata": {
  "kernelspec": {
   "display_name": "Python 3 (ipykernel)",
   "language": "python",
   "name": "python3"
  },
  "language_info": {
   "codemirror_mode": {
    "name": "ipython",
    "version": 3
   },
   "file_extension": ".py",
   "mimetype": "text/x-python",
   "name": "python",
   "nbconvert_exporter": "python",
   "pygments_lexer": "ipython3",
   "version": "3.9.6"
  }
 },
 "nbformat": 4,
 "nbformat_minor": 5
}
