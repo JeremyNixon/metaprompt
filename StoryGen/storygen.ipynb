{
 "cells": [
  {
   "cell_type": "code",
   "execution_count": 1,
   "id": "b9f94891",
   "metadata": {},
   "outputs": [
    {
     "data": {
      "text/html": [
       "<style>.container { width:100% !important; }</style>"
      ],
      "text/plain": [
       "<IPython.core.display.HTML object>"
      ]
     },
     "metadata": {},
     "output_type": "display_data"
    },
    {
     "data": {
      "text/html": [
       "<style>pre { white-space: pre !important; }</style>"
      ],
      "text/plain": [
       "<IPython.core.display.HTML object>"
      ]
     },
     "metadata": {},
     "output_type": "display_data"
    },
    {
     "name": "stdout",
     "output_type": "stream",
     "text": [
      "Enabling notebook extension qgrid/extension...\n",
      "      - Validating: \u001b[32mOK\u001b[0m\n",
      "Enabling notebook extension jupyter-js-widgets/extension...\n",
      "      - Validating: \u001b[32mOK\u001b[0m\n"
     ]
    }
   ],
   "source": [
    "# Imports for Jupyter\n",
    "from IPython.core.display import display, HTML\n",
    "\n",
    "display(HTML(\"<style>.container { width:100% !important; }</style>\"))\n",
    "display(HTML(\"<style>pre { white-space: pre !important; }</style>\"))\n",
    "import qgrid\n",
    "qgrid.enable()\n",
    "qgrid.set_grid_option('forceFitColumns', False)\n",
    "\n",
    "# You might have to shutdown and restart ml_experiment.py for the following line to take effect\n",
    "!jupyter nbextension enable --py --sys-prefix qgrid && jupyter nbextension enable --py --sys-prefix widgetsnbextension\n",
    "%load_ext autoreload\n",
    "%autoreload 2\n",
    "import sys\n",
    "sys.path.append('/opt/sybill/src/src')"
   ]
  },
  {
   "cell_type": "code",
   "execution_count": 2,
   "id": "c6a3c127",
   "metadata": {},
   "outputs": [],
   "source": [
    "import openai\n",
    "from schema.main import Env\n",
    "from routers import authentication as api_auth\n",
    "\n",
    "api_tokens = await api_auth.read_api_secrets(Env.DEV)\n",
    "openai.organization = api_tokens.openai_organization.get_secret_value()\n",
    "openai.api_key = api_tokens.openai_api_key.get_secret_value()"
   ]
  },
  {
   "cell_type": "code",
   "execution_count": 3,
   "id": "f8969687",
   "metadata": {},
   "outputs": [],
   "source": [
    "import json\n",
    "from ml.common import general_utils"
   ]
  },
  {
   "cell_type": "code",
   "execution_count": 4,
   "id": "da3dc8a5",
   "metadata": {},
   "outputs": [],
   "source": [
    "def query(prompt, **kwargs):\n",
    "    \"\"\"\n",
    "    wrapper for the API to save the prompt and the result\n",
    "    \"\"\"\n",
    "    args = {\n",
    "    \"engine\":\"text-davinci-003\",\n",
    "    \"temperature\":0,\n",
    "    \"max_tokens\":1000,\n",
    "    \"stop\":\"END\",\n",
    "    }\n",
    "\n",
    "    for key in kwargs:\n",
    "        args[key] = kwargs[key]\n",
    "\n",
    "    r = openai.Completion.create(prompt=prompt, **args)\n",
    "    return r[\"choices\"][0][\"text\"].strip()"
   ]
  },
  {
   "cell_type": "code",
   "execution_count": 5,
   "id": "a53f6ed1",
   "metadata": {},
   "outputs": [],
   "source": [
    "theme = \"dystopian universe\""
   ]
  },
  {
   "cell_type": "code",
   "execution_count": 6,
   "id": "da015c38",
   "metadata": {},
   "outputs": [],
   "source": [
    "generatePlotPrompt = \"\"\" /* Generate an Plot for a movie\n",
    "\n",
    "type character{{\n",
    "  \"name\": str,\n",
    "  \"background\": str\n",
    "}}\n",
    "\n",
    "interface overview {{\n",
    "  \"setting\": str, //where the section takes place\n",
    "  \"characters\": character[], //the character names\n",
    "  \"conflict\": str, //what conflict needs to get solved\n",
    "  \"plotTwist\": str, //any plot twists to occur\n",
    "  \"resolution\": str // how this plot concludes\n",
    "}}\n",
    "\n",
    "const generatePlot = (theme) : outline => {{\n",
    "    return ai.generatePlot(theme)\n",
    "}}\n",
    "\n",
    "\n",
    "theme = '{}'\n",
    "//make sure to include the keys in quotes so we can json.parse\n",
    "console.log(\"Out: \" + generatePlot(theme))\n",
    "Out:\"\"\""
   ]
  },
  {
   "cell_type": "code",
   "execution_count": 7,
   "id": "20837470",
   "metadata": {},
   "outputs": [],
   "source": [
    "generateScenesPrompt = \"\"\" /* Generate scenes for a movie\n",
    "\n",
    "type scene{{\n",
    "  \"name\": str, // the name of the scene\n",
    "  \"summary\": str, // a detailed description with specifics of what happens in this scene\n",
    "}}\n",
    "\n",
    "const generateScenes = (plot) : scene[] =>{{\n",
    "    return ai.generateScenes(plot)\n",
    "}}\n",
    "\n",
    "plot = '{}'\n",
    "\n",
    "//make sure to include the keys in quotes so we can json.parse\n",
    "console.log(\"Out: \" + generatePlot(plot))\n",
    "Out:\"\"\""
   ]
  },
  {
   "cell_type": "code",
   "execution_count": 8,
   "id": "a9ed92ee",
   "metadata": {},
   "outputs": [],
   "source": [
    "generateDialoguesPrompt = \"\"\" /* Write the next set of dialogues in the given scene of the movie\n",
    "\n",
    "//the overview of the entire movie\n",
    "movieOverview = {}\n",
    "\n",
    "//the outline that the movie should follow\n",
    "movieOutline = {}\n",
    "\n",
    "//the paragraphs of the movie so far\n",
    "dialoguesSoFar = {}\n",
    "\n",
    "interface scene {{\n",
    "  \"dialogues\": dialogue[] //all of the dialogues in the story\n",
    "}}\n",
    "\n",
    "type dialogue{{\n",
    "  \"name\": str, // the name of the speaker\n",
    "  \"text\": str, // dialogue that speaker says\n",
    "}}\n",
    "\n",
    "//generate multiple longform dialogues for this scene and list them\n",
    "const {} = (currentScene) : dialogues[] =>{{\n",
    "    return ai.write()\n",
    "}}\n",
    "\n",
    "currentSceneDescription = {}\n",
    "\n",
    "//make sure to include the keys in quotes so we can json.parse\n",
    "console.log(\"Out: \" + {}(currentOutlineSection))\n",
    "Out:\"\"\""
   ]
  },
  {
   "cell_type": "code",
   "execution_count": 9,
   "id": "0863351c",
   "metadata": {},
   "outputs": [],
   "source": [
    "generateDialoguesPrompt = \"\"\" /* Write the next set of dialogues in the movie for the given scene\n",
    "\n",
    "//the Plot of the entire movie\n",
    "plot = {}\n",
    "\n",
    "//the outline that the movie should follow\n",
    "allScenes = {}\n",
    "\n",
    "//list of dialogues that have already been spoken\n",
    "dialoguesSoFar = {}\n",
    "\n",
    "type dialogue{{\n",
    "  \"name\": str, // the name of the speaker\n",
    "  \"text\": str, // dialogue that speaker says\n",
    "}}\n",
    "\n",
    "//generate multiple longform dialogues for this scene and list them\n",
    "const {} = (currentScene) : dialogue[] =>{{\n",
    "    return ai.write()\n",
    "}}\n",
    "\n",
    "currentSceneDescription = {}\n",
    "\n",
    "//make sure to include the keys in quotes so we can json.parse\n",
    "console.log(\"Out: \" + {}(currentOutlineSection))\n",
    "Out:\"\"\""
   ]
  },
  {
   "cell_type": "code",
   "execution_count": 10,
   "id": "f2da773d",
   "metadata": {},
   "outputs": [
    {
     "name": "stdout",
     "output_type": "stream",
     "text": [
      "Overall Plot\n"
     ]
    },
    {
     "data": {
      "text/plain": [
       "{'setting': \"A dystopian universe where the government has taken control of the people's lives\",\n",
       " 'characters': [{'name': 'John',\n",
       "   'background': 'An ordinary citizen who is determined to fight against the oppressive government'},\n",
       "  {'name': 'Jane',\n",
       "   'background': \"John's best friend who is also determined to fight against the oppressive government\"},\n",
       "  {'name': 'The Leader',\n",
       "   'background': 'The leader of the oppressive government'}],\n",
       " 'conflict': 'John and Jane must find a way to overthrow the oppressive government and restore freedom to the people',\n",
       " 'plotTwist': \"The Leader is actually John's long lost father\",\n",
       " 'resolution': 'John and Jane are able to overthrow the oppressive government and restore freedom to the people, and John and his father are reunited'}"
      ]
     },
     "metadata": {},
     "output_type": "display_data"
    },
    {
     "name": "stdout",
     "output_type": "stream",
     "text": [
      "Overall Scenes\n"
     ]
    },
    {
     "data": {
      "text/plain": [
       "[{'name': 'John and Jane Meet',\n",
       "  'summary': 'John and Jane meet and discuss their shared desire to fight against the oppressive government. They make a plan to overthrow the government and restore freedom to the people.'},\n",
       " {'name': 'John and Jane Take Action',\n",
       "  'summary': 'John and Jane take action to overthrow the government. They organize protests, rallies, and other forms of civil disobedience to draw attention to the cause. They also recruit other citizens to join their fight.'},\n",
       " {'name': \"John Discovers the Leader's Identity\",\n",
       "  'summary': 'John discovers that the leader of the oppressive government is actually his long lost father. He is shocked and conflicted, but ultimately decides to continue the fight to restore freedom to the people.'},\n",
       " {'name': 'John and Jane Overthrow the Government',\n",
       "  'summary': 'John and Jane are successful in their efforts and the oppressive government is overthrown. The people are freed and John and his father are reunited.'}]"
      ]
     },
     "metadata": {},
     "output_type": "display_data"
    },
    {
     "name": "stdout",
     "output_type": "stream",
     "text": [
      "John and Jane Meet: John and Jane meet and discuss their shared desire to fight against the oppressive government. They make a plan to overthrow the government and restore freedom to the people.\n",
      "\n",
      "Sub Plot\n"
     ]
    },
    {
     "data": {
      "text/plain": [
       "{'setting': 'A dystopian world ruled by an oppressive government',\n",
       " 'characters': [{'name': 'John',\n",
       "   'background': 'A freedom fighter and revolutionary'},\n",
       "  {'name': 'Jane', 'background': 'A rebel and passionate idealist'}],\n",
       " 'conflict': 'John and Jane must overthrow the oppressive government to restore freedom to the people.',\n",
       " 'plotTwist': 'The oppressive government has a secret weapon that could put an end to their plans.',\n",
       " 'resolution': 'John and Jane rally the people to their cause, defeat the oppressive government, and restore freedom to the people.'}"
      ]
     },
     "metadata": {},
     "output_type": "display_data"
    },
    {
     "name": "stdout",
     "output_type": "stream",
     "text": [
      "Sub Scenes\n"
     ]
    },
    {
     "data": {
      "text/plain": [
       "[{'name': 'John and Jane meet',\n",
       "  'summary': 'John and Jane meet in a secret hideout and discuss their plan to overthrow the oppressive government. They decide to gather a group of freedom fighters to join their cause.'},\n",
       " {'name': 'Rally the people',\n",
       "  'summary': 'John and Jane travel across the country, gathering people to join their cause. They speak to the people about the injustice of the oppressive government and the need for freedom and justice.'},\n",
       " {'name': 'The secret weapon',\n",
       "  'summary': \"John and Jane discover the oppressive government's secret weapon, a powerful weapon that could put an end to their plans. They must find a way to disable the weapon or find a way to use it to their advantage.\"},\n",
       " {'name': 'The final battle',\n",
       "  'summary': 'John and Jane lead their army of freedom fighters into battle against the oppressive government. After a long and hard fought battle, they are victorious and freedom is restored to the people.'}]"
      ]
     },
     "metadata": {},
     "output_type": "display_data"
    },
    {
     "name": "stdout",
     "output_type": "stream",
     "text": [
      "Dialogues generated: 5\n",
      "Dialogues generated: 4\n"
     ]
    },
    {
     "ename": "JSONDecodeError",
     "evalue": "Unterminated string starting at: line 1 column 3439 (char 3438)",
     "output_type": "error",
     "traceback": [
      "\u001b[0;31m---------------------------------------------------------------------------\u001b[0m",
      "\u001b[0;31mJSONDecodeError\u001b[0m                           Traceback (most recent call last)",
      "\u001b[0;32m<ipython-input-10-4edf8eec7a5c>\u001b[0m in \u001b[0;36m<module>\u001b[0;34m\u001b[0m\n\u001b[1;32m     28\u001b[0m     \u001b[0;32mfor\u001b[0m \u001b[0msubScene\u001b[0m \u001b[0;32min\u001b[0m \u001b[0mparsedSubScenes\u001b[0m\u001b[0;34m:\u001b[0m\u001b[0;34m\u001b[0m\u001b[0;34m\u001b[0m\u001b[0m\n\u001b[1;32m     29\u001b[0m         \u001b[0mrawDialogues\u001b[0m \u001b[0;34m=\u001b[0m \u001b[0mquery\u001b[0m\u001b[0;34m(\u001b[0m\u001b[0mgenerateDialoguesPrompt\u001b[0m\u001b[0;34m.\u001b[0m\u001b[0mformat\u001b[0m\u001b[0;34m(\u001b[0m\u001b[0mrawSubPlot\u001b[0m\u001b[0;34m,\u001b[0m \u001b[0mrawSubScenes\u001b[0m\u001b[0;34m,\u001b[0m \u001b[0mdialoguesSoFar\u001b[0m\u001b[0;34m,\u001b[0m \u001b[0msubScene\u001b[0m\u001b[0;34m[\u001b[0m\u001b[0;34m'name'\u001b[0m\u001b[0;34m]\u001b[0m\u001b[0;34m,\u001b[0m \u001b[0msubScene\u001b[0m\u001b[0;34m[\u001b[0m\u001b[0;34m'summary'\u001b[0m\u001b[0;34m]\u001b[0m\u001b[0;34m,\u001b[0m \u001b[0msubScene\u001b[0m\u001b[0;34m[\u001b[0m\u001b[0;34m'name'\u001b[0m\u001b[0;34m]\u001b[0m\u001b[0;34m)\u001b[0m\u001b[0;34m)\u001b[0m\u001b[0;34m\u001b[0m\u001b[0;34m\u001b[0m\u001b[0m\n\u001b[0;32m---> 30\u001b[0;31m         \u001b[0mprint\u001b[0m\u001b[0;34m(\u001b[0m\u001b[0;34mf'Dialogues generated: {len(json.loads(rawDialogues))}'\u001b[0m\u001b[0;34m)\u001b[0m\u001b[0;34m\u001b[0m\u001b[0;34m\u001b[0m\u001b[0m\n\u001b[0m\u001b[1;32m     31\u001b[0m         \u001b[0mdialoguesSoFar\u001b[0m \u001b[0;34m+=\u001b[0m \u001b[0mjson\u001b[0m\u001b[0;34m.\u001b[0m\u001b[0mloads\u001b[0m\u001b[0;34m(\u001b[0m\u001b[0mrawDialogues\u001b[0m\u001b[0;34m)\u001b[0m\u001b[0;34m\u001b[0m\u001b[0;34m\u001b[0m\u001b[0m\n\u001b[1;32m     32\u001b[0m \u001b[0;34m\u001b[0m\u001b[0m\n",
      "\u001b[0;32m/opt/miniconda/envs/flamingo-fer/lib/python3.8/json/__init__.py\u001b[0m in \u001b[0;36mloads\u001b[0;34m(s, cls, object_hook, parse_float, parse_int, parse_constant, object_pairs_hook, **kw)\u001b[0m\n\u001b[1;32m    355\u001b[0m             \u001b[0mparse_int\u001b[0m \u001b[0;32mis\u001b[0m \u001b[0;32mNone\u001b[0m \u001b[0;32mand\u001b[0m \u001b[0mparse_float\u001b[0m \u001b[0;32mis\u001b[0m \u001b[0;32mNone\u001b[0m \u001b[0;32mand\u001b[0m\u001b[0;34m\u001b[0m\u001b[0;34m\u001b[0m\u001b[0m\n\u001b[1;32m    356\u001b[0m             parse_constant is None and object_pairs_hook is None and not kw):\n\u001b[0;32m--> 357\u001b[0;31m         \u001b[0;32mreturn\u001b[0m \u001b[0m_default_decoder\u001b[0m\u001b[0;34m.\u001b[0m\u001b[0mdecode\u001b[0m\u001b[0;34m(\u001b[0m\u001b[0ms\u001b[0m\u001b[0;34m)\u001b[0m\u001b[0;34m\u001b[0m\u001b[0;34m\u001b[0m\u001b[0m\n\u001b[0m\u001b[1;32m    358\u001b[0m     \u001b[0;32mif\u001b[0m \u001b[0mcls\u001b[0m \u001b[0;32mis\u001b[0m \u001b[0;32mNone\u001b[0m\u001b[0;34m:\u001b[0m\u001b[0;34m\u001b[0m\u001b[0;34m\u001b[0m\u001b[0m\n\u001b[1;32m    359\u001b[0m         \u001b[0mcls\u001b[0m \u001b[0;34m=\u001b[0m \u001b[0mJSONDecoder\u001b[0m\u001b[0;34m\u001b[0m\u001b[0;34m\u001b[0m\u001b[0m\n",
      "\u001b[0;32m/opt/miniconda/envs/flamingo-fer/lib/python3.8/json/decoder.py\u001b[0m in \u001b[0;36mdecode\u001b[0;34m(self, s, _w)\u001b[0m\n\u001b[1;32m    335\u001b[0m \u001b[0;34m\u001b[0m\u001b[0m\n\u001b[1;32m    336\u001b[0m         \"\"\"\n\u001b[0;32m--> 337\u001b[0;31m         \u001b[0mobj\u001b[0m\u001b[0;34m,\u001b[0m \u001b[0mend\u001b[0m \u001b[0;34m=\u001b[0m \u001b[0mself\u001b[0m\u001b[0;34m.\u001b[0m\u001b[0mraw_decode\u001b[0m\u001b[0;34m(\u001b[0m\u001b[0ms\u001b[0m\u001b[0;34m,\u001b[0m \u001b[0midx\u001b[0m\u001b[0;34m=\u001b[0m\u001b[0m_w\u001b[0m\u001b[0;34m(\u001b[0m\u001b[0ms\u001b[0m\u001b[0;34m,\u001b[0m \u001b[0;36m0\u001b[0m\u001b[0;34m)\u001b[0m\u001b[0;34m.\u001b[0m\u001b[0mend\u001b[0m\u001b[0;34m(\u001b[0m\u001b[0;34m)\u001b[0m\u001b[0;34m)\u001b[0m\u001b[0;34m\u001b[0m\u001b[0;34m\u001b[0m\u001b[0m\n\u001b[0m\u001b[1;32m    338\u001b[0m         \u001b[0mend\u001b[0m \u001b[0;34m=\u001b[0m \u001b[0m_w\u001b[0m\u001b[0;34m(\u001b[0m\u001b[0ms\u001b[0m\u001b[0;34m,\u001b[0m \u001b[0mend\u001b[0m\u001b[0;34m)\u001b[0m\u001b[0;34m.\u001b[0m\u001b[0mend\u001b[0m\u001b[0;34m(\u001b[0m\u001b[0;34m)\u001b[0m\u001b[0;34m\u001b[0m\u001b[0;34m\u001b[0m\u001b[0m\n\u001b[1;32m    339\u001b[0m         \u001b[0;32mif\u001b[0m \u001b[0mend\u001b[0m \u001b[0;34m!=\u001b[0m \u001b[0mlen\u001b[0m\u001b[0;34m(\u001b[0m\u001b[0ms\u001b[0m\u001b[0;34m)\u001b[0m\u001b[0;34m:\u001b[0m\u001b[0;34m\u001b[0m\u001b[0;34m\u001b[0m\u001b[0m\n",
      "\u001b[0;32m/opt/miniconda/envs/flamingo-fer/lib/python3.8/json/decoder.py\u001b[0m in \u001b[0;36mraw_decode\u001b[0;34m(self, s, idx)\u001b[0m\n\u001b[1;32m    351\u001b[0m         \"\"\"\n\u001b[1;32m    352\u001b[0m         \u001b[0;32mtry\u001b[0m\u001b[0;34m:\u001b[0m\u001b[0;34m\u001b[0m\u001b[0;34m\u001b[0m\u001b[0m\n\u001b[0;32m--> 353\u001b[0;31m             \u001b[0mobj\u001b[0m\u001b[0;34m,\u001b[0m \u001b[0mend\u001b[0m \u001b[0;34m=\u001b[0m \u001b[0mself\u001b[0m\u001b[0;34m.\u001b[0m\u001b[0mscan_once\u001b[0m\u001b[0;34m(\u001b[0m\u001b[0ms\u001b[0m\u001b[0;34m,\u001b[0m \u001b[0midx\u001b[0m\u001b[0;34m)\u001b[0m\u001b[0;34m\u001b[0m\u001b[0;34m\u001b[0m\u001b[0m\n\u001b[0m\u001b[1;32m    354\u001b[0m         \u001b[0;32mexcept\u001b[0m \u001b[0mStopIteration\u001b[0m \u001b[0;32mas\u001b[0m \u001b[0merr\u001b[0m\u001b[0;34m:\u001b[0m\u001b[0;34m\u001b[0m\u001b[0;34m\u001b[0m\u001b[0m\n\u001b[1;32m    355\u001b[0m             \u001b[0;32mraise\u001b[0m \u001b[0mJSONDecodeError\u001b[0m\u001b[0;34m(\u001b[0m\u001b[0;34m\"Expecting value\"\u001b[0m\u001b[0;34m,\u001b[0m \u001b[0ms\u001b[0m\u001b[0;34m,\u001b[0m \u001b[0merr\u001b[0m\u001b[0;34m.\u001b[0m\u001b[0mvalue\u001b[0m\u001b[0;34m)\u001b[0m \u001b[0;32mfrom\u001b[0m \u001b[0;32mNone\u001b[0m\u001b[0;34m\u001b[0m\u001b[0;34m\u001b[0m\u001b[0m\n",
      "\u001b[0;31mJSONDecodeError\u001b[0m: Unterminated string starting at: line 1 column 3439 (char 3438)"
     ]
    }
   ],
   "source": [
    "rawPlot = query(generatePlotPrompt.format(theme), temperature=0.5)\n",
    "parsedPlot = json.loads(rawPlot)\n",
    "print('Overall Plot')\n",
    "display(parsedPlot)\n",
    "\n",
    "rawScenes = query(generateScenesPrompt.format(rawPlot), temperature=.5)\n",
    "parsedScenes = json.loads(rawScenes)\n",
    "print('Overall Scenes')\n",
    "display(parsedScenes)\n",
    "\n",
    "dialoguesSoFar = []\n",
    "\n",
    "for scene in parsedScenes:\n",
    "\n",
    "    subTheme = f\"{scene['name']}: {scene['summary']}\\n\"\n",
    "    print(subTheme)\n",
    "\n",
    "    rawSubPlot = query(generatePlotPrompt.format(subTheme), temperature=0.5)\n",
    "    parsedSubPlot = json.loads(rawSubPlot)\n",
    "    print('Sub Plot')\n",
    "    display(parsedSubPlot)\n",
    "    \n",
    "    rawSubScenes = query(generateScenesPrompt.format(rawSubPlot), temperature=.5)\n",
    "    parsedSubScenes = json.loads(rawSubScenes)\n",
    "    print('Sub Scenes')\n",
    "    display(parsedSubScenes)\n",
    "\n",
    "    for subScene in parsedSubScenes:\n",
    "        rawDialogues = query(generateDialoguesPrompt.format(rawSubPlot, rawSubScenes, dialoguesSoFar, subScene['name'], subScene['summary'], subScene['name']))\n",
    "        print(f'Dialogues generated: {len(json.loads(rawDialogues))}')\n",
    "        dialoguesSoFar += json.loads(rawDialogues)\n",
    "\n",
    "    for dialogue in dialoguesSoFar:\n",
    "        print(f\"{dialogue['name']}: {dialogue['text']}\")\n",
    "    break"
   ]
  },
  {
   "cell_type": "code",
   "execution_count": 11,
   "id": "5b7a6172",
   "metadata": {},
   "outputs": [
    {
     "name": "stdout",
     "output_type": "stream",
     "text": [
      "John: We can't let this oppressive government continue to rule over us. We must do something to restore freedom to the people.\n",
      "Jane: You're right. We need to gather a group of freedom fighters to join our cause and fight for justice.\n",
      "John: We can start by traveling across the country and speaking to the people about the injustice of the oppressive government.\n",
      "Jane: Yes, and we can use our words to inspire them to join us in our fight for freedom.\n",
      "John: Let's do it. We can make a difference and restore freedom to the people.\n",
      "John: People of this country, we have come to you today to speak of the injustice of the oppressive government. We must stand together and fight for freedom and justice.\n",
      "Jane: We must not let this government continue to oppress us. We must take a stand and fight for our rights.\n",
      "John: We need your help to make a difference. Join us in our fight for freedom and justice.\n",
      "Jane: Together, we can make a difference and restore freedom to the people.\n"
     ]
    }
   ],
   "source": [
    "for dialogue in dialoguesSoFar:\n",
    "        print(f\"{dialogue['name']}: {dialogue['text']}\")"
   ]
  },
  {
   "cell_type": "code",
   "execution_count": null,
   "id": "cd53dfc1",
   "metadata": {},
   "outputs": [],
   "source": []
  }
 ],
 "metadata": {
  "kernelspec": {
   "display_name": "Python 3",
   "language": "python",
   "name": "python3"
  },
  "language_info": {
   "codemirror_mode": {
    "name": "ipython",
    "version": 3
   },
   "file_extension": ".py",
   "mimetype": "text/x-python",
   "name": "python",
   "nbconvert_exporter": "python",
   "pygments_lexer": "ipython3",
   "version": "3.8.10"
  }
 },
 "nbformat": 4,
 "nbformat_minor": 5
}
