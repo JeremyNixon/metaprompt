{
 "cells": [
  {
   "cell_type": "code",
   "execution_count": 2,
   "id": "c6a3c127",
   "metadata": {},
   "outputs": [],
   "source": [
    "import openai, os, chromadb, json\n",
    "\n",
    "openai.api_key = os.environ.get('OPENAI_API_KEY')"
   ]
  },
  {
   "cell_type": "code",
   "execution_count": 4,
   "id": "f8969687",
   "metadata": {},
   "outputs": [
    {
     "name": "stdout",
     "output_type": "stream",
     "text": [
      "Running Chroma using direct local API.\n",
      "Using DuckDB in-memory for database. Data will be transient.\n"
     ]
    },
    {
     "data": {
      "application/vnd.jupyter.widget-view+json": {
       "model_id": "16de6c6bc19e447eb21efc82664a6d5a",
       "version_major": 2,
       "version_minor": 0
      },
      "text/plain": [
       "Downloading (…)e9125/.gitattributes:   0%|          | 0.00/1.18k [00:00<?, ?B/s]"
      ]
     },
     "metadata": {},
     "output_type": "display_data"
    },
    {
     "data": {
      "application/vnd.jupyter.widget-view+json": {
       "model_id": "f278507010124b099aa64dd75afb6d03",
       "version_major": 2,
       "version_minor": 0
      },
      "text/plain": [
       "Downloading (…)_Pooling/config.json:   0%|          | 0.00/190 [00:00<?, ?B/s]"
      ]
     },
     "metadata": {},
     "output_type": "display_data"
    },
    {
     "data": {
      "application/vnd.jupyter.widget-view+json": {
       "model_id": "78e994ea000f40aea52ff7fc5cf3755e",
       "version_major": 2,
       "version_minor": 0
      },
      "text/plain": [
       "Downloading (…)7e55de9125/README.md:   0%|          | 0.00/10.6k [00:00<?, ?B/s]"
      ]
     },
     "metadata": {},
     "output_type": "display_data"
    },
    {
     "data": {
      "application/vnd.jupyter.widget-view+json": {
       "model_id": "46de82824c2c42efa0787d931753486e",
       "version_major": 2,
       "version_minor": 0
      },
      "text/plain": [
       "Downloading (…)55de9125/config.json:   0%|          | 0.00/612 [00:00<?, ?B/s]"
      ]
     },
     "metadata": {},
     "output_type": "display_data"
    },
    {
     "data": {
      "application/vnd.jupyter.widget-view+json": {
       "model_id": "9596cec555db4413a7ae5102f02193ab",
       "version_major": 2,
       "version_minor": 0
      },
      "text/plain": [
       "Downloading (…)ce_transformers.json:   0%|          | 0.00/116 [00:00<?, ?B/s]"
      ]
     },
     "metadata": {},
     "output_type": "display_data"
    },
    {
     "data": {
      "application/vnd.jupyter.widget-view+json": {
       "model_id": "0a07f555e85a41539af5e0997b0302fb",
       "version_major": 2,
       "version_minor": 0
      },
      "text/plain": [
       "Downloading (…)125/data_config.json:   0%|          | 0.00/39.3k [00:00<?, ?B/s]"
      ]
     },
     "metadata": {},
     "output_type": "display_data"
    },
    {
     "data": {
      "application/vnd.jupyter.widget-view+json": {
       "model_id": "319016b7465d41de81ecd361911f4698",
       "version_major": 2,
       "version_minor": 0
      },
      "text/plain": [
       "Downloading (…)\"pytorch_model.bin\";:   0%|          | 0.00/90.9M [00:00<?, ?B/s]"
      ]
     },
     "metadata": {},
     "output_type": "display_data"
    },
    {
     "data": {
      "application/vnd.jupyter.widget-view+json": {
       "model_id": "267f6231203c49d3a218ccb0c1436fc9",
       "version_major": 2,
       "version_minor": 0
      },
      "text/plain": [
       "Downloading (…)nce_bert_config.json:   0%|          | 0.00/53.0 [00:00<?, ?B/s]"
      ]
     },
     "metadata": {},
     "output_type": "display_data"
    },
    {
     "data": {
      "application/vnd.jupyter.widget-view+json": {
       "model_id": "e61d320d245a4901b44ba4a5f4a47d78",
       "version_major": 2,
       "version_minor": 0
      },
      "text/plain": [
       "Downloading (…)cial_tokens_map.json:   0%|          | 0.00/112 [00:00<?, ?B/s]"
      ]
     },
     "metadata": {},
     "output_type": "display_data"
    },
    {
     "data": {
      "application/vnd.jupyter.widget-view+json": {
       "model_id": "61644e320c6046c1893fa4826f98783a",
       "version_major": 2,
       "version_minor": 0
      },
      "text/plain": [
       "Downloading (…)e9125/tokenizer.json:   0%|          | 0.00/466k [00:00<?, ?B/s]"
      ]
     },
     "metadata": {},
     "output_type": "display_data"
    },
    {
     "data": {
      "application/vnd.jupyter.widget-view+json": {
       "model_id": "bb7309fa62dc4b9aacc5578ada312012",
       "version_major": 2,
       "version_minor": 0
      },
      "text/plain": [
       "Downloading (…)okenizer_config.json:   0%|          | 0.00/350 [00:00<?, ?B/s]"
      ]
     },
     "metadata": {},
     "output_type": "display_data"
    },
    {
     "data": {
      "application/vnd.jupyter.widget-view+json": {
       "model_id": "8b288dc361bb4fe1a4aaf93903216376",
       "version_major": 2,
       "version_minor": 0
      },
      "text/plain": [
       "Downloading (…)9125/train_script.py:   0%|          | 0.00/13.2k [00:00<?, ?B/s]"
      ]
     },
     "metadata": {},
     "output_type": "display_data"
    },
    {
     "data": {
      "application/vnd.jupyter.widget-view+json": {
       "model_id": "4c959b12214d49028a0a6feb8854a779",
       "version_major": 2,
       "version_minor": 0
      },
      "text/plain": [
       "Downloading (…)7e55de9125/vocab.txt:   0%|          | 0.00/232k [00:00<?, ?B/s]"
      ]
     },
     "metadata": {},
     "output_type": "display_data"
    },
    {
     "data": {
      "application/vnd.jupyter.widget-view+json": {
       "model_id": "7d4f8f176f854cf29a38421dd1f2ec3e",
       "version_major": 2,
       "version_minor": 0
      },
      "text/plain": [
       "Downloading (…)5de9125/modules.json:   0%|          | 0.00/349 [00:00<?, ?B/s]"
      ]
     },
     "metadata": {},
     "output_type": "display_data"
    }
   ],
   "source": [
    "chroma_client = chromadb.Client()\n",
    "\n",
    "collection = chroma_client.create_collection(name=\"my_collection\")"
   ]
  },
  {
   "cell_type": "code",
   "execution_count": 5,
   "id": "da3dc8a5",
   "metadata": {},
   "outputs": [],
   "source": [
    "def query(prompt, **kwargs):\n",
    "    \"\"\"\n",
    "    wrapper for the API to save the prompt and the result\n",
    "    \"\"\"\n",
    "    args = {\n",
    "    \"engine\":\"text-davinci-003\",\n",
    "    \"temperature\":0,\n",
    "    \"max_tokens\":1000,\n",
    "    \"stop\":\"END\",\n",
    "    }\n",
    "\n",
    "    for key in kwargs:\n",
    "        args[key] = kwargs[key]\n",
    "\n",
    "    r = openai.Completion.create(prompt=prompt, **args)\n",
    "    return r[\"choices\"][0][\"text\"].strip()"
   ]
  },
  {
   "cell_type": "code",
   "execution_count": 6,
   "id": "a53f6ed1",
   "metadata": {},
   "outputs": [],
   "source": [
    "theme = \"dystopian universe\""
   ]
  },
  {
   "cell_type": "code",
   "execution_count": 7,
   "id": "da015c38",
   "metadata": {},
   "outputs": [],
   "source": [
    "generatePlotPrompt = \"\"\" /* Generate an Plot for a movie\n",
    "\n",
    "type character{{\n",
    "  \"name\": str,\n",
    "  \"background\": str\n",
    "}}\n",
    "\n",
    "interface overview {{\n",
    "  \"setting\": str, //where the section takes place\n",
    "  \"characters\": character[], //the character names\n",
    "  \"conflict\": str, //what conflict needs to get solved\n",
    "  \"plotTwist\": str, //any plot twists to occur\n",
    "  \"resolution\": str // how this plot concludes\n",
    "}}\n",
    "\n",
    "const generatePlot = (theme) : outline => {{\n",
    "    return ai.generatePlot(theme)\n",
    "}}\n",
    "\n",
    "\n",
    "theme = '{}'\n",
    "//make sure to include the keys in quotes so we can json.parse\n",
    "console.log(\"Out: \" + generatePlot(theme))\n",
    "Out:\"\"\""
   ]
  },
  {
   "cell_type": "code",
   "execution_count": 8,
   "id": "20837470",
   "metadata": {},
   "outputs": [],
   "source": [
    "generateScenesPrompt = \"\"\" /* Generate scenes for a movie\n",
    "\n",
    "type scene{{\n",
    "  \"name\": str, // the name of the scene\n",
    "  \"summary\": str, // a detailed description with specifics of what happens in this scene\n",
    "}}\n",
    "\n",
    "const generateScenes = (plot) : scene[] =>{{\n",
    "    return ai.generateScenes(plot)\n",
    "}}\n",
    "\n",
    "plot = '{}'\n",
    "\n",
    "//make sure to include the keys in quotes so we can json.parse\n",
    "console.log(\"Out: \" + generatePlot(plot))\n",
    "Out:\"\"\""
   ]
  },
  {
   "cell_type": "code",
   "execution_count": 9,
   "id": "a9ed92ee",
   "metadata": {},
   "outputs": [],
   "source": [
    "generateDialoguesPrompt = \"\"\" /* Write the next set of dialogues in the given scene of the movie\n",
    "\n",
    "//the overview of the entire movie\n",
    "movieOverview = {}\n",
    "\n",
    "//the outline that the movie should follow\n",
    "movieOutline = {}\n",
    "\n",
    "//the paragraphs of the movie so far\n",
    "dialoguesSoFar = {}\n",
    "\n",
    "interface scene {{\n",
    "  \"dialogues\": dialogue[] //all of the dialogues in the story\n",
    "}}\n",
    "\n",
    "type dialogue{{\n",
    "  \"name\": str, // the name of the speaker\n",
    "  \"text\": str, // dialogue that speaker says\n",
    "}}\n",
    "\n",
    "//generate multiple longform dialogues for this scene and list them\n",
    "const {} = (currentScene) : dialogues[] =>{{\n",
    "    return ai.write()\n",
    "}}\n",
    "\n",
    "currentSceneDescription = {}\n",
    "\n",
    "//make sure to include the keys in quotes so we can json.parse\n",
    "console.log(\"Out: \" + {}(currentOutlineSection))\n",
    "Out:\"\"\""
   ]
  },
  {
   "cell_type": "code",
   "execution_count": 10,
   "id": "0863351c",
   "metadata": {},
   "outputs": [],
   "source": [
    "generateDialoguesPrompt = \"\"\" /* Write the next set of dialogues in the movie for the given scene\n",
    "\n",
    "//the Plot of the entire movie\n",
    "plot = {}\n",
    "\n",
    "//the outline that the movie should follow\n",
    "allScenes = {}\n",
    "\n",
    "//list of dialogues that have already been spoken\n",
    "dialoguesSoFar = {}\n",
    "\n",
    "type dialogue{{\n",
    "  \"name\": str, // the name of the speaker\n",
    "  \"text\": str, // dialogue that speaker says\n",
    "}}\n",
    "\n",
    "//generate multiple longform dialogues for this scene and list them\n",
    "const {} = (currentScene) : dialogue[] =>{{\n",
    "    return ai.write()\n",
    "}}\n",
    "\n",
    "currentSceneDescription = {}\n",
    "\n",
    "//make sure to include the keys in quotes so we can json.parse\n",
    "console.log(\"Out: \" + {}(currentOutlineSection))\n",
    "Out:\"\"\""
   ]
  },
  {
   "cell_type": "code",
   "execution_count": 12,
   "id": "ec7f7450",
   "metadata": {},
   "outputs": [],
   "source": [
    "from uuid import uuid4"
   ]
  },
  {
   "cell_type": "code",
   "execution_count": 16,
   "id": "f2da773d",
   "metadata": {},
   "outputs": [
    {
     "name": "stdout",
     "output_type": "stream",
     "text": [
      "Overall Plot\n"
     ]
    },
    {
     "data": {
      "text/plain": [
       "{'setting': 'A dystopian universe in the near future',\n",
       " 'characters': [{'name': 'John',\n",
       "   'background': 'A young man struggling to find his place in the world'},\n",
       "  {'name': 'Samantha', 'background': 'A powerful leader of the resistance'}],\n",
       " 'conflict': \"John must choose between joining Samantha's rebellion or supporting the oppressive regime\",\n",
       " 'plotTwist': 'John discovers that Samantha is his long lost sister',\n",
       " 'resolution': 'John joins the rebellion, and they overthrow the oppressive regime together'}"
      ]
     },
     "metadata": {},
     "output_type": "display_data"
    },
    {
     "name": "stdout",
     "output_type": "stream",
     "text": [
      "Overall Scenes\n"
     ]
    },
    {
     "data": {
      "text/plain": [
       "[{'name': 'Meeting John',\n",
       "  'summary': 'John meets Samantha for the first time and is immediately taken by her strength and courage. He learns about her mission to overthrow the oppressive regime and is intrigued by her cause.'},\n",
       " {'name': \"John's Choice\",\n",
       "  'summary': \"John is faced with a difficult decision - join Samantha's rebellion or stay loyal to the oppressive regime. He is torn between his loyalty and his desire to join the cause of justice.\"},\n",
       " {'name': 'The Reveal',\n",
       "  'summary': 'John discovers that Samantha is actually his long lost sister. He is filled with a newfound sense of purpose and decides to join the rebellion.'},\n",
       " {'name': 'The Final Battle',\n",
       "  'summary': 'John and Samantha lead the rebellion against the oppressive regime. After a long and difficult battle, they are successful in overthrowing the regime and restoring peace and justice to the universe.'}]"
      ]
     },
     "metadata": {},
     "output_type": "display_data"
    },
    {
     "name": "stdout",
     "output_type": "stream",
     "text": [
      "Meeting John: John meets Samantha for the first time and is immediately taken by her strength and courage. He learns about her mission to overthrow the oppressive regime and is intrigued by her cause.\n",
      "\n",
      "Sub Plot\n"
     ]
    },
    {
     "data": {
      "text/plain": [
       "{'setting': 'A small town in a distant land',\n",
       " 'characters': [{'name': 'John',\n",
       "   'background': 'John is a kind-hearted and brave young man who has been searching for a way to make a difference in the world.'},\n",
       "  {'name': 'Samantha',\n",
       "   'background': 'Samantha is a strong and determined woman who is leading a revolution against the oppressive regime.'}],\n",
       " 'conflict': 'John and Samantha must work together to overthrow the oppressive regime and restore freedom to the people.',\n",
       " 'plotTwist': 'John discovers that Samantha is actually the long-lost princess of the kingdom and the rightful heir to the throne.',\n",
       " 'resolution': 'John and Samantha are able to successfully overthrow the oppressive regime and restore freedom to the people. John and Samantha then marry and Samantha becomes the new queen of the kingdom.'}"
      ]
     },
     "metadata": {},
     "output_type": "display_data"
    },
    {
     "name": "stdout",
     "output_type": "stream",
     "text": [
      "Sub Scenes\n"
     ]
    },
    {
     "data": {
      "text/plain": [
       "[{'name': \"John's Arrival\",\n",
       "  'summary': 'John arrives in the small town and discovers the oppressive regime that has taken over. He meets some of the citizens and learns of their plight.'},\n",
       " {'name': 'Meeting Samantha',\n",
       "  'summary': 'John meets Samantha and they quickly become allies in their fight against the oppressive regime. They discuss their plans and make preparations to overthrow the regime.'},\n",
       " {'name': 'The Uprising',\n",
       "  'summary': 'John and Samantha lead a revolt against the oppressive regime. With the help of the citizens, they are able to overthrow the regime and restore freedom to the people.'},\n",
       " {'name': 'The Reveal',\n",
       "  'summary': 'John discovers that Samantha is actually the long-lost princess of the kingdom and the rightful heir to the throne. He shares this revelation with the people and they all rejoice.'},\n",
       " {'name': 'The Coronation',\n",
       "  'summary': 'John and Samantha are married and Samantha is crowned the new queen of the kingdom. The people of the kingdom celebrate their newfound freedom and the wedding of their beloved queen and king.'}]"
      ]
     },
     "metadata": {},
     "output_type": "display_data"
    },
    {
     "name": "stdout",
     "output_type": "stream",
     "text": [
      "Dialogues generated: 4\n",
      "Dialogues generated: 6\n",
      "Dialogues generated: 8\n",
      "Dialogues generated: 10\n",
      "Dialogues generated: 6\n",
      "John: This is a terrible place. I can feel the oppression in the air. I must find a way to help these people.\n",
      "Citizen: You can't do anything. The regime is too powerful. We are all doomed.\n",
      "John: No, I won't accept that. There must be a way to fight back. I will find it.\n",
      "Citizen: You are brave, but it won't be enough. We need a miracle.\n",
      "John: Hello, I'm John. I've heard about the oppressive regime here and I want to help.\n",
      "Samantha: I'm Samantha. I'm leading a revolution against the regime. We need all the help we can get.\n",
      "John: I'm ready to do whatever it takes. What can I do?\n",
      "Samantha: We need to gather more people to join our cause. We need to spread the word and convince people to join us.\n",
      "John: I can do that. I'll start talking to people and see if I can get them to join us.\n",
      "Samantha: That would be great. We need all the help we can get.\n",
      "John: We can do this! We can take back our freedom!\n",
      "Samantha: Yes, we can! We must fight for what is right!\n",
      "Citizen: We will fight with you! We will not be oppressed any longer!\n",
      "John: Let's go! We can do this!\n",
      "Samantha: Yes! We will take back our freedom!\n",
      "Citizen: For freedom! For justice!\n",
      "John: For freedom!\n",
      "Samantha: For justice!\n",
      "John: Samantha, I can't believe it. You're the long-lost princess of the kingdom and the rightful heir to the throne!\n",
      "Samantha: I can't believe it either. I never thought I'd find out the truth about my past.\n",
      "John: This is amazing! We can use this to our advantage. We can use your rightful claim to the throne to overthrow the oppressive regime!\n",
      "Samantha: Yes, we can! We must fight for what is right!\n",
      "Citizen: We will fight with you! We will not be oppressed any longer!\n",
      "John: Let's go! We can do this!\n",
      "Samantha: Yes! We will take back our freedom!\n",
      "Citizen: For freedom! For justice!\n",
      "John: For freedom!\n",
      "Samantha: For justice!\n",
      "John: Today marks a new beginning for our kingdom. We have fought for freedom and justice, and now we have it.\n",
      "Samantha: Yes, we have fought hard and we have won. I am proud to be your queen.\n",
      "Citizen: Long live the queen! Long live the king!\n",
      "John: Thank you all for your support. We will make this kingdom a place of peace and prosperity.\n",
      "Samantha: Yes, together we will make this kingdom a place where everyone can live in harmony.\n",
      "Citizen: Hear, hear! All hail the queen and king!\n",
      "John's Choice: John is faced with a difficult decision - join Samantha's rebellion or stay loyal to the oppressive regime. He is torn between his loyalty and his desire to join the cause of justice.\n",
      "\n",
      "Sub Plot\n"
     ]
    },
    {
     "data": {
      "text/plain": [
       "{'setting': 'A dystopian city ruled by an oppressive regime',\n",
       " 'characters': [{'name': 'John',\n",
       "   'background': 'Loyal to the oppressive regime'},\n",
       "  {'name': 'Samantha',\n",
       "   'background': 'Leading a rebellion against the oppressive regime'}],\n",
       " 'conflict': \"John is faced with a difficult decision - join Samantha's rebellion or stay loyal to the oppressive regime.\",\n",
       " 'plotTwist': 'John discovers that Samantha is his long-lost sister and that his loyalty to the oppressive regime is preventing him from reuniting with her.',\n",
       " 'resolution': \"John ultimately chooses to join Samantha's rebellion, allowing him to reunite with his sister and help bring about a better future for the citizens of the dystopian city.\"}"
      ]
     },
     "metadata": {},
     "output_type": "display_data"
    },
    {
     "name": "stdout",
     "output_type": "stream",
     "text": [
      "Sub Scenes\n"
     ]
    },
    {
     "data": {
      "text/plain": [
       "[{'name': 'John Enters the City',\n",
       "  'summary': 'John enters the dystopian city ruled by an oppressive regime. He is loyal to the regime and determined to uphold its laws and regulations.'},\n",
       " {'name': 'John Meets Samantha',\n",
       "  'summary': \"John meets Samantha, who is leading a rebellion against the oppressive regime. She challenges John's loyalty to the regime, but he stands firm in his beliefs.\"},\n",
       " {'name': \"John Discovers Samantha's Identity\",\n",
       "  'summary': 'John discovers that Samantha is his long-lost sister and realizes that his loyalty to the oppressive regime is preventing him from reuniting with her.'},\n",
       " {'name': 'John Joins the Rebellion',\n",
       "  'summary': \"John ultimately chooses to join Samantha's rebellion, allowing him to reunite with his sister and help bring about a better future for the citizens of the dystopian city.\"}]"
      ]
     },
     "metadata": {},
     "output_type": "display_data"
    },
    {
     "name": "stdout",
     "output_type": "stream",
     "text": [
      "Dialogues generated: 4\n",
      "Dialogues generated: 4\n",
      "Dialogues generated: 6\n",
      "Dialogues generated: 4\n",
      "John: This is a terrible place. I can feel the oppression in the air. I must find a way to help these people.\n",
      "Citizen: You can't do anything. The regime is too powerful. We are all doomed.\n",
      "John: No, I won't accept that. There must be a way to fight back. I will find it.\n",
      "Citizen: You are brave, but it won't be enough. We need a miracle.\n",
      "John: Hello, I'm John. I've heard about the oppressive regime here and I want to help.\n",
      "Samantha: I'm Samantha. I'm leading a revolution against the regime. We need all the help we can get.\n",
      "John: I'm ready to do whatever it takes. What can I do?\n",
      "Samantha: We need to gather more people to join our cause. We need to spread the word and convince people to join us.\n",
      "John: I can do that. I'll start talking to people and see if I can get them to join us.\n",
      "Samantha: That would be great. We need all the help we can get.\n",
      "John: We can do this! We can take back our freedom!\n",
      "Samantha: Yes, we can! We must fight for what is right!\n",
      "Citizen: We will fight with you! We will not be oppressed any longer!\n",
      "John: Let's go! We can do this!\n",
      "Samantha: Yes! We will take back our freedom!\n",
      "Citizen: For freedom! For justice!\n",
      "John: For freedom!\n",
      "Samantha: For justice!\n",
      "John: Samantha, I can't believe it. You're the long-lost princess of the kingdom and the rightful heir to the throne!\n",
      "Samantha: I can't believe it either. I never thought I'd find out the truth about my past.\n",
      "John: This is amazing! We can use this to our advantage. We can use your rightful claim to the throne to overthrow the oppressive regime!\n",
      "Samantha: Yes, we can! We must fight for what is right!\n",
      "Citizen: We will fight with you! We will not be oppressed any longer!\n",
      "John: Let's go! We can do this!\n",
      "Samantha: Yes! We will take back our freedom!\n",
      "Citizen: For freedom! For justice!\n",
      "John: For freedom!\n",
      "Samantha: For justice!\n",
      "John: Today marks a new beginning for our kingdom. We have fought for freedom and justice, and now we have it.\n",
      "Samantha: Yes, we have fought hard and we have won. I am proud to be your queen.\n",
      "Citizen: Long live the queen! Long live the king!\n",
      "John: Thank you all for your support. We will make this kingdom a place of peace and prosperity.\n",
      "Samantha: Yes, together we will make this kingdom a place where everyone can live in harmony.\n",
      "Citizen: Hear, hear! All hail the queen and king!\n",
      "John: I have arrived in this city, and I am determined to uphold the laws and regulations of this oppressive regime.\n",
      "John: I will not waver in my loyalty to this regime, no matter what challenges I may face.\n",
      "John: I will do whatever it takes to ensure that justice is served and that the citizens of this city are safe.\n",
      "John: I will not rest until I have done all I can to protect this city and its people.\n",
      "John: I have come to this city with a purpose. I am determined to uphold the laws and regulations of this oppressive regime, no matter what challenges I may face.\n",
      "Samantha: You may be loyal to this regime, but I am here to challenge it. I am leading a rebellion against the oppressive regime, and I will not rest until justice is served and the citizens of this city are safe.\n",
      "John: I understand your passion, but I cannot join your cause. I must remain loyal to the regime, no matter what.\n",
      "Samantha: You may think you are doing the right thing, but you are only helping to perpetuate the oppression. You must choose a side, and I hope you choose wisely.\n",
      "John: Samantha...you're my sister? I can't believe it. All this time I've been loyal to this oppressive regime, and I never knew that I was preventing myself from reuniting with you.\n",
      "Samantha: Yes, John. I'm your long-lost sister. I'm so glad that I finally found you.\n",
      "John: I'm so sorry for not recognizing you sooner. I never knew that I was standing in the way of us being together.\n",
      "Samantha: It's okay, John. I understand why you were loyal to the regime. But now you have a choice. You can stay loyal to the oppressive regime, or you can join me in my rebellion and help bring about a better future for the citizens of this city.\n",
      "John: I don't know what to do. I want to be with you, but I'm not sure if I can betray the regime that I've been loyal to for so long.\n",
      "Samantha: You don't have to decide right now. Just think about it, and I'm sure you'll make the right decision.\n",
      "John: I've made my decision. I'm joining your rebellion. I want to help bring about a better future for the citizens of this city, and I want to be with you, my sister.\n",
      "Samantha: I'm so glad you made the right decision. Together, we can make a difference and bring about a brighter future for everyone.\n",
      "John: I'm ready to do whatever it takes to make sure that happens. Let's do this.\n",
      "Samantha: Let's do this.\n",
      "The Reveal: John discovers that Samantha is actually his long lost sister. He is filled with a newfound sense of purpose and decides to join the rebellion.\n",
      "\n",
      "Sub Plot\n"
     ]
    },
    {
     "data": {
      "text/plain": [
       "{'setting': \"John's home town\",\n",
       " 'characters': [{'name': 'John', 'background': 'An ordinary person'},\n",
       "  {'name': 'Samantha', 'background': \"John's long lost sister\"}],\n",
       " 'conflict': \"John must uncover the truth about his sister's identity and decide whether or not to join the rebellion.\",\n",
       " 'plotTwist': 'John discovers that Samantha is actually his long lost sister and that she is part of the rebellion.',\n",
       " 'resolution': 'John decides to join the rebellion and fight for justice alongside his sister.'}"
      ]
     },
     "metadata": {},
     "output_type": "display_data"
    },
    {
     "name": "stdout",
     "output_type": "stream",
     "text": [
      "Sub Scenes\n"
     ]
    },
    {
     "data": {
      "text/plain": [
       "[{'name': \"John's Discovery\",\n",
       "  'summary': \"John discovers a clue about Samantha's identity and decides to investigate further. He goes to the library and finds out that Samantha is actually his long lost sister and is part of the rebellion.\"},\n",
       " {'name': \"John's Decision\",\n",
       "  'summary': 'John must decide whether to join the rebellion or not. After a long and difficult deliberation, he decides to join and fight for justice alongside his sister.'},\n",
       " {'name': 'The Final Battle',\n",
       "  'summary': 'John and Samantha join forces with the rebellion to fight against the oppressive regime. After a long and difficult battle, they emerge victorious and the oppressive regime is overthrown.'}]"
      ]
     },
     "metadata": {},
     "output_type": "display_data"
    },
    {
     "name": "stdout",
     "output_type": "stream",
     "text": [
      "Dialogues generated: 6\n",
      "Dialogues generated: 12\n",
      "Dialogues generated: 6\n",
      "John: This is a terrible place. I can feel the oppression in the air. I must find a way to help these people.\n",
      "Citizen: You can't do anything. The regime is too powerful. We are all doomed.\n",
      "John: No, I won't accept that. There must be a way to fight back. I will find it.\n",
      "Citizen: You are brave, but it won't be enough. We need a miracle.\n",
      "John: Hello, I'm John. I've heard about the oppressive regime here and I want to help.\n",
      "Samantha: I'm Samantha. I'm leading a revolution against the regime. We need all the help we can get.\n",
      "John: I'm ready to do whatever it takes. What can I do?\n",
      "Samantha: We need to gather more people to join our cause. We need to spread the word and convince people to join us.\n",
      "John: I can do that. I'll start talking to people and see if I can get them to join us.\n",
      "Samantha: That would be great. We need all the help we can get.\n",
      "John: We can do this! We can take back our freedom!\n",
      "Samantha: Yes, we can! We must fight for what is right!\n",
      "Citizen: We will fight with you! We will not be oppressed any longer!\n",
      "John: Let's go! We can do this!\n",
      "Samantha: Yes! We will take back our freedom!\n",
      "Citizen: For freedom! For justice!\n",
      "John: For freedom!\n",
      "Samantha: For justice!\n",
      "John: Samantha, I can't believe it. You're the long-lost princess of the kingdom and the rightful heir to the throne!\n",
      "Samantha: I can't believe it either. I never thought I'd find out the truth about my past.\n",
      "John: This is amazing! We can use this to our advantage. We can use your rightful claim to the throne to overthrow the oppressive regime!\n",
      "Samantha: Yes, we can! We must fight for what is right!\n",
      "Citizen: We will fight with you! We will not be oppressed any longer!\n",
      "John: Let's go! We can do this!\n",
      "Samantha: Yes! We will take back our freedom!\n",
      "Citizen: For freedom! For justice!\n",
      "John: For freedom!\n",
      "Samantha: For justice!\n",
      "John: Today marks a new beginning for our kingdom. We have fought for freedom and justice, and now we have it.\n",
      "Samantha: Yes, we have fought hard and we have won. I am proud to be your queen.\n",
      "Citizen: Long live the queen! Long live the king!\n",
      "John: Thank you all for your support. We will make this kingdom a place of peace and prosperity.\n",
      "Samantha: Yes, together we will make this kingdom a place where everyone can live in harmony.\n",
      "Citizen: Hear, hear! All hail the queen and king!\n",
      "John: I have arrived in this city, and I am determined to uphold the laws and regulations of this oppressive regime.\n",
      "John: I will not waver in my loyalty to this regime, no matter what challenges I may face.\n",
      "John: I will do whatever it takes to ensure that justice is served and that the citizens of this city are safe.\n",
      "John: I will not rest until I have done all I can to protect this city and its people.\n",
      "John: I have come to this city with a purpose. I am determined to uphold the laws and regulations of this oppressive regime, no matter what challenges I may face.\n",
      "Samantha: You may be loyal to this regime, but I am here to challenge it. I am leading a rebellion against the oppressive regime, and I will not rest until justice is served and the citizens of this city are safe.\n",
      "John: I understand your passion, but I cannot join your cause. I must remain loyal to the regime, no matter what.\n",
      "Samantha: You may think you are doing the right thing, but you are only helping to perpetuate the oppression. You must choose a side, and I hope you choose wisely.\n",
      "John: Samantha...you're my sister? I can't believe it. All this time I've been loyal to this oppressive regime, and I never knew that I was preventing myself from reuniting with you.\n",
      "Samantha: Yes, John. I'm your long-lost sister. I'm so glad that I finally found you.\n",
      "John: I'm so sorry for not recognizing you sooner. I never knew that I was standing in the way of us being together.\n",
      "Samantha: It's okay, John. I understand why you were loyal to the regime. But now you have a choice. You can stay loyal to the oppressive regime, or you can join me in my rebellion and help bring about a better future for the citizens of this city.\n",
      "John: I don't know what to do. I want to be with you, but I'm not sure if I can betray the regime that I've been loyal to for so long.\n",
      "Samantha: You don't have to decide right now. Just think about it, and I'm sure you'll make the right decision.\n",
      "John: I've made my decision. I'm joining your rebellion. I want to help bring about a better future for the citizens of this city, and I want to be with you, my sister.\n",
      "Samantha: I'm so glad you made the right decision. Together, we can make a difference and bring about a brighter future for everyone.\n",
      "John: I'm ready to do whatever it takes to make sure that happens. Let's do this.\n",
      "Samantha: Let's do this.\n",
      "John: I can't believe it. All this time I've been loyal to this oppressive regime, and I never knew that I was preventing myself from reuniting with my long lost sister.\n",
      "Samantha: Yes, John. I'm your long-lost sister. I'm so glad that I finally found you.\n",
      "John: I'm so sorry for not recognizing you sooner. I never knew that I was standing in the way of us being together.\n",
      "Samantha: It's okay, John. I understand why you were loyal to the regime. But now you have a choice. You can stay loyal to the oppressive regime, or you can join me in my rebellion and help bring about a better future for the citizens of this city.\n",
      "John: I don't know what to do. I want to be with you, but I'm not sure if I can betray the regime that I've been loyal to for so long.\n",
      "Samantha: You don't have to decide right now. Just think about it, and I'm sure you'll make the right decision.\n",
      "John: I've made my decision. I'm joining your rebellion. I want to help bring about a better future for the citizens of this city, and I want to be with you, my sister.\n",
      "Samantha: I'm so glad you made the right decision. Together, we can make a difference and bring about a brighter future for everyone.\n",
      "John: I know it won't be easy, but I'm ready to do whatever it takes to make sure that happens. I'm ready to fight for justice alongside you, my sister.\n",
      "Samantha: Me too. Let's do this.\n",
      "John: I'm so glad I finally found you. I can't believe it. All this time I've been loyal to this oppressive regime, and I never knew that I was preventing myself from reuniting with my long lost sister.\n",
      "Samantha: Yes, John. I'm your long-lost sister. I'm so glad that I finally found you.\n",
      "John: I'm so sorry for not recognizing you sooner. I never knew that I was standing in the way of us being together.\n",
      "Samantha: It's okay, John. I understand why you were loyal to the regime. But now you have a choice. You can stay loyal to the oppressive regime, or you can join me in my rebellion and help bring about a better future for the citizens of this city.\n",
      "John: I don't know what to do. I want to be with you, but I'm not sure if I can betray the regime that I've been loyal to for so long.\n",
      "Samantha: You don't have to decide right now. Just think about it, and I'm sure you'll make the right decision.\n",
      "John: You're right. I'll take some time to think about it, and I'll let you know what I decide.\n",
      "Samantha: Take your time. I'm here for you, no matter what you decide.\n",
      "John: We did it! We finally overthrew the oppressive regime and brought justice to our city!\n",
      "Samantha: Yes, we did it! We couldn't have done it without each other.\n",
      "John: I'm so glad I decided to join the rebellion and fight alongside you. I'm so proud of us.\n",
      "Samantha: Me too. We made the right decision.\n",
      "John: Now we can finally start to rebuild our city and create a better future for everyone.\n",
      "Samantha: Yes, let's start now!\n",
      "The Final Battle: John and Samantha lead the rebellion against the oppressive regime. After a long and difficult battle, they are successful in overthrowing the regime and restoring peace and justice to the universe.\n",
      "\n"
     ]
    },
    {
     "ename": "KeyboardInterrupt",
     "evalue": "",
     "output_type": "error",
     "traceback": [
      "\u001b[0;31m---------------------------------------------------------------------------\u001b[0m",
      "\u001b[0;31mKeyboardInterrupt\u001b[0m                         Traceback (most recent call last)",
      "Cell \u001b[0;32mIn[16], line 18\u001b[0m\n\u001b[1;32m     15\u001b[0m subTheme \u001b[38;5;241m=\u001b[39m \u001b[38;5;124mf\u001b[39m\u001b[38;5;124m\"\u001b[39m\u001b[38;5;132;01m{\u001b[39;00mscene[\u001b[38;5;124m'\u001b[39m\u001b[38;5;124mname\u001b[39m\u001b[38;5;124m'\u001b[39m]\u001b[38;5;132;01m}\u001b[39;00m\u001b[38;5;124m: \u001b[39m\u001b[38;5;132;01m{\u001b[39;00mscene[\u001b[38;5;124m'\u001b[39m\u001b[38;5;124msummary\u001b[39m\u001b[38;5;124m'\u001b[39m]\u001b[38;5;132;01m}\u001b[39;00m\u001b[38;5;130;01m\\n\u001b[39;00m\u001b[38;5;124m\"\u001b[39m\n\u001b[1;32m     16\u001b[0m \u001b[38;5;28mprint\u001b[39m(subTheme)\n\u001b[0;32m---> 18\u001b[0m rawSubPlot \u001b[38;5;241m=\u001b[39m \u001b[43mquery\u001b[49m\u001b[43m(\u001b[49m\u001b[43mgeneratePlotPrompt\u001b[49m\u001b[38;5;241;43m.\u001b[39;49m\u001b[43mformat\u001b[49m\u001b[43m(\u001b[49m\u001b[43msubTheme\u001b[49m\u001b[43m)\u001b[49m\u001b[43m,\u001b[49m\u001b[43m \u001b[49m\u001b[43mtemperature\u001b[49m\u001b[38;5;241;43m=\u001b[39;49m\u001b[38;5;241;43m0.5\u001b[39;49m\u001b[43m)\u001b[49m\n\u001b[1;32m     19\u001b[0m parsedSubPlot \u001b[38;5;241m=\u001b[39m json\u001b[38;5;241m.\u001b[39mloads(rawSubPlot)\n\u001b[1;32m     20\u001b[0m \u001b[38;5;28mprint\u001b[39m(\u001b[38;5;124m'\u001b[39m\u001b[38;5;124mSub Plot\u001b[39m\u001b[38;5;124m'\u001b[39m)\n",
      "Cell \u001b[0;32mIn[8], line 15\u001b[0m, in \u001b[0;36mquery\u001b[0;34m(prompt, **kwargs)\u001b[0m\n\u001b[1;32m     12\u001b[0m \u001b[38;5;28;01mfor\u001b[39;00m key \u001b[38;5;129;01min\u001b[39;00m kwargs:\n\u001b[1;32m     13\u001b[0m     args[key] \u001b[38;5;241m=\u001b[39m kwargs[key]\n\u001b[0;32m---> 15\u001b[0m r \u001b[38;5;241m=\u001b[39m \u001b[43mopenai\u001b[49m\u001b[38;5;241;43m.\u001b[39;49m\u001b[43mCompletion\u001b[49m\u001b[38;5;241;43m.\u001b[39;49m\u001b[43mcreate\u001b[49m\u001b[43m(\u001b[49m\u001b[43mprompt\u001b[49m\u001b[38;5;241;43m=\u001b[39;49m\u001b[43mprompt\u001b[49m\u001b[43m,\u001b[49m\u001b[43m \u001b[49m\u001b[38;5;241;43m*\u001b[39;49m\u001b[38;5;241;43m*\u001b[39;49m\u001b[43margs\u001b[49m\u001b[43m)\u001b[49m\n\u001b[1;32m     16\u001b[0m \u001b[38;5;28;01mreturn\u001b[39;00m r[\u001b[38;5;124m\"\u001b[39m\u001b[38;5;124mchoices\u001b[39m\u001b[38;5;124m\"\u001b[39m][\u001b[38;5;241m0\u001b[39m][\u001b[38;5;124m\"\u001b[39m\u001b[38;5;124mtext\u001b[39m\u001b[38;5;124m\"\u001b[39m]\u001b[38;5;241m.\u001b[39mstrip()\n",
      "File \u001b[0;32m~/Library/Python/3.9/lib/python/site-packages/openai/api_resources/completion.py:25\u001b[0m, in \u001b[0;36mCompletion.create\u001b[0;34m(cls, *args, **kwargs)\u001b[0m\n\u001b[1;32m     23\u001b[0m \u001b[38;5;28;01mwhile\u001b[39;00m \u001b[38;5;28;01mTrue\u001b[39;00m:\n\u001b[1;32m     24\u001b[0m     \u001b[38;5;28;01mtry\u001b[39;00m:\n\u001b[0;32m---> 25\u001b[0m         \u001b[38;5;28;01mreturn\u001b[39;00m \u001b[38;5;28;43msuper\u001b[39;49m\u001b[43m(\u001b[49m\u001b[43m)\u001b[49m\u001b[38;5;241;43m.\u001b[39;49m\u001b[43mcreate\u001b[49m\u001b[43m(\u001b[49m\u001b[38;5;241;43m*\u001b[39;49m\u001b[43margs\u001b[49m\u001b[43m,\u001b[49m\u001b[43m \u001b[49m\u001b[38;5;241;43m*\u001b[39;49m\u001b[38;5;241;43m*\u001b[39;49m\u001b[43mkwargs\u001b[49m\u001b[43m)\u001b[49m\n\u001b[1;32m     26\u001b[0m     \u001b[38;5;28;01mexcept\u001b[39;00m TryAgain \u001b[38;5;28;01mas\u001b[39;00m e:\n\u001b[1;32m     27\u001b[0m         \u001b[38;5;28;01mif\u001b[39;00m timeout \u001b[38;5;129;01mis\u001b[39;00m \u001b[38;5;129;01mnot\u001b[39;00m \u001b[38;5;28;01mNone\u001b[39;00m \u001b[38;5;129;01mand\u001b[39;00m time\u001b[38;5;241m.\u001b[39mtime() \u001b[38;5;241m>\u001b[39m start \u001b[38;5;241m+\u001b[39m timeout:\n",
      "File \u001b[0;32m~/Library/Python/3.9/lib/python/site-packages/openai/api_resources/abstract/engine_api_resource.py:115\u001b[0m, in \u001b[0;36mEngineAPIResource.create\u001b[0;34m(cls, api_key, api_base, api_type, request_id, api_version, organization, **params)\u001b[0m\n\u001b[1;32m    107\u001b[0m requestor \u001b[38;5;241m=\u001b[39m api_requestor\u001b[38;5;241m.\u001b[39mAPIRequestor(\n\u001b[1;32m    108\u001b[0m     api_key,\n\u001b[1;32m    109\u001b[0m     api_base\u001b[38;5;241m=\u001b[39mapi_base,\n\u001b[0;32m   (...)\u001b[0m\n\u001b[1;32m    112\u001b[0m     organization\u001b[38;5;241m=\u001b[39morganization,\n\u001b[1;32m    113\u001b[0m )\n\u001b[1;32m    114\u001b[0m url \u001b[38;5;241m=\u001b[39m \u001b[38;5;28mcls\u001b[39m\u001b[38;5;241m.\u001b[39mclass_url(engine, api_type, api_version)\n\u001b[0;32m--> 115\u001b[0m response, _, api_key \u001b[38;5;241m=\u001b[39m \u001b[43mrequestor\u001b[49m\u001b[38;5;241;43m.\u001b[39;49m\u001b[43mrequest\u001b[49m\u001b[43m(\u001b[49m\n\u001b[1;32m    116\u001b[0m \u001b[43m    \u001b[49m\u001b[38;5;124;43m\"\u001b[39;49m\u001b[38;5;124;43mpost\u001b[39;49m\u001b[38;5;124;43m\"\u001b[39;49m\u001b[43m,\u001b[49m\n\u001b[1;32m    117\u001b[0m \u001b[43m    \u001b[49m\u001b[43murl\u001b[49m\u001b[43m,\u001b[49m\n\u001b[1;32m    118\u001b[0m \u001b[43m    \u001b[49m\u001b[43mparams\u001b[49m\u001b[38;5;241;43m=\u001b[39;49m\u001b[43mparams\u001b[49m\u001b[43m,\u001b[49m\n\u001b[1;32m    119\u001b[0m \u001b[43m    \u001b[49m\u001b[43mheaders\u001b[49m\u001b[38;5;241;43m=\u001b[39;49m\u001b[43mheaders\u001b[49m\u001b[43m,\u001b[49m\n\u001b[1;32m    120\u001b[0m \u001b[43m    \u001b[49m\u001b[43mstream\u001b[49m\u001b[38;5;241;43m=\u001b[39;49m\u001b[43mstream\u001b[49m\u001b[43m,\u001b[49m\n\u001b[1;32m    121\u001b[0m \u001b[43m    \u001b[49m\u001b[43mrequest_id\u001b[49m\u001b[38;5;241;43m=\u001b[39;49m\u001b[43mrequest_id\u001b[49m\u001b[43m,\u001b[49m\n\u001b[1;32m    122\u001b[0m \u001b[43m    \u001b[49m\u001b[43mrequest_timeout\u001b[49m\u001b[38;5;241;43m=\u001b[39;49m\u001b[43mrequest_timeout\u001b[49m\u001b[43m,\u001b[49m\n\u001b[1;32m    123\u001b[0m \u001b[43m\u001b[49m\u001b[43m)\u001b[49m\n\u001b[1;32m    125\u001b[0m \u001b[38;5;28;01mif\u001b[39;00m stream:\n\u001b[1;32m    126\u001b[0m     \u001b[38;5;66;03m# must be an iterator\u001b[39;00m\n\u001b[1;32m    127\u001b[0m     \u001b[38;5;28;01massert\u001b[39;00m \u001b[38;5;129;01mnot\u001b[39;00m \u001b[38;5;28misinstance\u001b[39m(response, OpenAIResponse)\n",
      "File \u001b[0;32m~/Library/Python/3.9/lib/python/site-packages/openai/api_requestor.py:171\u001b[0m, in \u001b[0;36mAPIRequestor.request\u001b[0;34m(self, method, url, params, headers, files, stream, request_id, request_timeout)\u001b[0m\n\u001b[1;32m    160\u001b[0m \u001b[38;5;28;01mdef\u001b[39;00m \u001b[38;5;21mrequest\u001b[39m(\n\u001b[1;32m    161\u001b[0m     \u001b[38;5;28mself\u001b[39m,\n\u001b[1;32m    162\u001b[0m     method,\n\u001b[0;32m   (...)\u001b[0m\n\u001b[1;32m    169\u001b[0m     request_timeout: Optional[Union[\u001b[38;5;28mfloat\u001b[39m, Tuple[\u001b[38;5;28mfloat\u001b[39m, \u001b[38;5;28mfloat\u001b[39m]]] \u001b[38;5;241m=\u001b[39m \u001b[38;5;28;01mNone\u001b[39;00m,\n\u001b[1;32m    170\u001b[0m ) \u001b[38;5;241m-\u001b[39m\u001b[38;5;241m>\u001b[39m Tuple[Union[OpenAIResponse, Iterator[OpenAIResponse]], \u001b[38;5;28mbool\u001b[39m, \u001b[38;5;28mstr\u001b[39m]:\n\u001b[0;32m--> 171\u001b[0m     result \u001b[38;5;241m=\u001b[39m \u001b[38;5;28;43mself\u001b[39;49m\u001b[38;5;241;43m.\u001b[39;49m\u001b[43mrequest_raw\u001b[49m\u001b[43m(\u001b[49m\n\u001b[1;32m    172\u001b[0m \u001b[43m        \u001b[49m\u001b[43mmethod\u001b[49m\u001b[38;5;241;43m.\u001b[39;49m\u001b[43mlower\u001b[49m\u001b[43m(\u001b[49m\u001b[43m)\u001b[49m\u001b[43m,\u001b[49m\n\u001b[1;32m    173\u001b[0m \u001b[43m        \u001b[49m\u001b[43murl\u001b[49m\u001b[43m,\u001b[49m\n\u001b[1;32m    174\u001b[0m \u001b[43m        \u001b[49m\u001b[43mparams\u001b[49m\u001b[38;5;241;43m=\u001b[39;49m\u001b[43mparams\u001b[49m\u001b[43m,\u001b[49m\n\u001b[1;32m    175\u001b[0m \u001b[43m        \u001b[49m\u001b[43msupplied_headers\u001b[49m\u001b[38;5;241;43m=\u001b[39;49m\u001b[43mheaders\u001b[49m\u001b[43m,\u001b[49m\n\u001b[1;32m    176\u001b[0m \u001b[43m        \u001b[49m\u001b[43mfiles\u001b[49m\u001b[38;5;241;43m=\u001b[39;49m\u001b[43mfiles\u001b[49m\u001b[43m,\u001b[49m\n\u001b[1;32m    177\u001b[0m \u001b[43m        \u001b[49m\u001b[43mstream\u001b[49m\u001b[38;5;241;43m=\u001b[39;49m\u001b[43mstream\u001b[49m\u001b[43m,\u001b[49m\n\u001b[1;32m    178\u001b[0m \u001b[43m        \u001b[49m\u001b[43mrequest_id\u001b[49m\u001b[38;5;241;43m=\u001b[39;49m\u001b[43mrequest_id\u001b[49m\u001b[43m,\u001b[49m\n\u001b[1;32m    179\u001b[0m \u001b[43m        \u001b[49m\u001b[43mrequest_timeout\u001b[49m\u001b[38;5;241;43m=\u001b[39;49m\u001b[43mrequest_timeout\u001b[49m\u001b[43m,\u001b[49m\n\u001b[1;32m    180\u001b[0m \u001b[43m    \u001b[49m\u001b[43m)\u001b[49m\n\u001b[1;32m    181\u001b[0m     resp, got_stream \u001b[38;5;241m=\u001b[39m \u001b[38;5;28mself\u001b[39m\u001b[38;5;241m.\u001b[39m_interpret_response(result, stream)\n\u001b[1;32m    182\u001b[0m     \u001b[38;5;28;01mreturn\u001b[39;00m resp, got_stream, \u001b[38;5;28mself\u001b[39m\u001b[38;5;241m.\u001b[39mapi_key\n",
      "File \u001b[0;32m~/Library/Python/3.9/lib/python/site-packages/openai/api_requestor.py:356\u001b[0m, in \u001b[0;36mAPIRequestor.request_raw\u001b[0;34m(self, method, url, params, supplied_headers, files, stream, request_id, request_timeout)\u001b[0m\n\u001b[1;32m    354\u001b[0m     _thread_context\u001b[38;5;241m.\u001b[39msession \u001b[38;5;241m=\u001b[39m _make_session()\n\u001b[1;32m    355\u001b[0m \u001b[38;5;28;01mtry\u001b[39;00m:\n\u001b[0;32m--> 356\u001b[0m     result \u001b[38;5;241m=\u001b[39m \u001b[43m_thread_context\u001b[49m\u001b[38;5;241;43m.\u001b[39;49m\u001b[43msession\u001b[49m\u001b[38;5;241;43m.\u001b[39;49m\u001b[43mrequest\u001b[49m\u001b[43m(\u001b[49m\n\u001b[1;32m    357\u001b[0m \u001b[43m        \u001b[49m\u001b[43mmethod\u001b[49m\u001b[43m,\u001b[49m\n\u001b[1;32m    358\u001b[0m \u001b[43m        \u001b[49m\u001b[43mabs_url\u001b[49m\u001b[43m,\u001b[49m\n\u001b[1;32m    359\u001b[0m \u001b[43m        \u001b[49m\u001b[43mheaders\u001b[49m\u001b[38;5;241;43m=\u001b[39;49m\u001b[43mheaders\u001b[49m\u001b[43m,\u001b[49m\n\u001b[1;32m    360\u001b[0m \u001b[43m        \u001b[49m\u001b[43mdata\u001b[49m\u001b[38;5;241;43m=\u001b[39;49m\u001b[43mdata\u001b[49m\u001b[43m,\u001b[49m\n\u001b[1;32m    361\u001b[0m \u001b[43m        \u001b[49m\u001b[43mfiles\u001b[49m\u001b[38;5;241;43m=\u001b[39;49m\u001b[43mfiles\u001b[49m\u001b[43m,\u001b[49m\n\u001b[1;32m    362\u001b[0m \u001b[43m        \u001b[49m\u001b[43mstream\u001b[49m\u001b[38;5;241;43m=\u001b[39;49m\u001b[43mstream\u001b[49m\u001b[43m,\u001b[49m\n\u001b[1;32m    363\u001b[0m \u001b[43m        \u001b[49m\u001b[43mtimeout\u001b[49m\u001b[38;5;241;43m=\u001b[39;49m\u001b[43mrequest_timeout\u001b[49m\u001b[43m \u001b[49m\u001b[38;5;28;43;01mif\u001b[39;49;00m\u001b[43m \u001b[49m\u001b[43mrequest_timeout\u001b[49m\u001b[43m \u001b[49m\u001b[38;5;28;43;01melse\u001b[39;49;00m\u001b[43m \u001b[49m\u001b[43mTIMEOUT_SECS\u001b[49m\u001b[43m,\u001b[49m\n\u001b[1;32m    364\u001b[0m \u001b[43m    \u001b[49m\u001b[43m)\u001b[49m\n\u001b[1;32m    365\u001b[0m \u001b[38;5;28;01mexcept\u001b[39;00m requests\u001b[38;5;241m.\u001b[39mexceptions\u001b[38;5;241m.\u001b[39mTimeout \u001b[38;5;28;01mas\u001b[39;00m e:\n\u001b[1;32m    366\u001b[0m     \u001b[38;5;28;01mraise\u001b[39;00m error\u001b[38;5;241m.\u001b[39mTimeout(\u001b[38;5;124m\"\u001b[39m\u001b[38;5;124mRequest timed out\u001b[39m\u001b[38;5;124m\"\u001b[39m) \u001b[38;5;28;01mfrom\u001b[39;00m \u001b[38;5;21;01me\u001b[39;00m\n",
      "File \u001b[0;32m~/Library/Python/3.9/lib/python/site-packages/requests/sessions.py:542\u001b[0m, in \u001b[0;36mSession.request\u001b[0;34m(self, method, url, params, data, headers, cookies, files, auth, timeout, allow_redirects, proxies, hooks, stream, verify, cert, json)\u001b[0m\n\u001b[1;32m    537\u001b[0m send_kwargs \u001b[38;5;241m=\u001b[39m {\n\u001b[1;32m    538\u001b[0m     \u001b[38;5;124m'\u001b[39m\u001b[38;5;124mtimeout\u001b[39m\u001b[38;5;124m'\u001b[39m: timeout,\n\u001b[1;32m    539\u001b[0m     \u001b[38;5;124m'\u001b[39m\u001b[38;5;124mallow_redirects\u001b[39m\u001b[38;5;124m'\u001b[39m: allow_redirects,\n\u001b[1;32m    540\u001b[0m }\n\u001b[1;32m    541\u001b[0m send_kwargs\u001b[38;5;241m.\u001b[39mupdate(settings)\n\u001b[0;32m--> 542\u001b[0m resp \u001b[38;5;241m=\u001b[39m \u001b[38;5;28;43mself\u001b[39;49m\u001b[38;5;241;43m.\u001b[39;49m\u001b[43msend\u001b[49m\u001b[43m(\u001b[49m\u001b[43mprep\u001b[49m\u001b[43m,\u001b[49m\u001b[43m \u001b[49m\u001b[38;5;241;43m*\u001b[39;49m\u001b[38;5;241;43m*\u001b[39;49m\u001b[43msend_kwargs\u001b[49m\u001b[43m)\u001b[49m\n\u001b[1;32m    544\u001b[0m \u001b[38;5;28;01mreturn\u001b[39;00m resp\n",
      "File \u001b[0;32m~/Library/Python/3.9/lib/python/site-packages/requests/sessions.py:655\u001b[0m, in \u001b[0;36mSession.send\u001b[0;34m(self, request, **kwargs)\u001b[0m\n\u001b[1;32m    652\u001b[0m start \u001b[38;5;241m=\u001b[39m preferred_clock()\n\u001b[1;32m    654\u001b[0m \u001b[38;5;66;03m# Send the request\u001b[39;00m\n\u001b[0;32m--> 655\u001b[0m r \u001b[38;5;241m=\u001b[39m \u001b[43madapter\u001b[49m\u001b[38;5;241;43m.\u001b[39;49m\u001b[43msend\u001b[49m\u001b[43m(\u001b[49m\u001b[43mrequest\u001b[49m\u001b[43m,\u001b[49m\u001b[43m \u001b[49m\u001b[38;5;241;43m*\u001b[39;49m\u001b[38;5;241;43m*\u001b[39;49m\u001b[43mkwargs\u001b[49m\u001b[43m)\u001b[49m\n\u001b[1;32m    657\u001b[0m \u001b[38;5;66;03m# Total elapsed time of the request (approximately)\u001b[39;00m\n\u001b[1;32m    658\u001b[0m elapsed \u001b[38;5;241m=\u001b[39m preferred_clock() \u001b[38;5;241m-\u001b[39m start\n",
      "File \u001b[0;32m~/Library/Python/3.9/lib/python/site-packages/requests/adapters.py:439\u001b[0m, in \u001b[0;36mHTTPAdapter.send\u001b[0;34m(self, request, stream, timeout, verify, cert, proxies)\u001b[0m\n\u001b[1;32m    437\u001b[0m \u001b[38;5;28;01mtry\u001b[39;00m:\n\u001b[1;32m    438\u001b[0m     \u001b[38;5;28;01mif\u001b[39;00m \u001b[38;5;129;01mnot\u001b[39;00m chunked:\n\u001b[0;32m--> 439\u001b[0m         resp \u001b[38;5;241m=\u001b[39m \u001b[43mconn\u001b[49m\u001b[38;5;241;43m.\u001b[39;49m\u001b[43murlopen\u001b[49m\u001b[43m(\u001b[49m\n\u001b[1;32m    440\u001b[0m \u001b[43m            \u001b[49m\u001b[43mmethod\u001b[49m\u001b[38;5;241;43m=\u001b[39;49m\u001b[43mrequest\u001b[49m\u001b[38;5;241;43m.\u001b[39;49m\u001b[43mmethod\u001b[49m\u001b[43m,\u001b[49m\n\u001b[1;32m    441\u001b[0m \u001b[43m            \u001b[49m\u001b[43murl\u001b[49m\u001b[38;5;241;43m=\u001b[39;49m\u001b[43murl\u001b[49m\u001b[43m,\u001b[49m\n\u001b[1;32m    442\u001b[0m \u001b[43m            \u001b[49m\u001b[43mbody\u001b[49m\u001b[38;5;241;43m=\u001b[39;49m\u001b[43mrequest\u001b[49m\u001b[38;5;241;43m.\u001b[39;49m\u001b[43mbody\u001b[49m\u001b[43m,\u001b[49m\n\u001b[1;32m    443\u001b[0m \u001b[43m            \u001b[49m\u001b[43mheaders\u001b[49m\u001b[38;5;241;43m=\u001b[39;49m\u001b[43mrequest\u001b[49m\u001b[38;5;241;43m.\u001b[39;49m\u001b[43mheaders\u001b[49m\u001b[43m,\u001b[49m\n\u001b[1;32m    444\u001b[0m \u001b[43m            \u001b[49m\u001b[43mredirect\u001b[49m\u001b[38;5;241;43m=\u001b[39;49m\u001b[38;5;28;43;01mFalse\u001b[39;49;00m\u001b[43m,\u001b[49m\n\u001b[1;32m    445\u001b[0m \u001b[43m            \u001b[49m\u001b[43massert_same_host\u001b[49m\u001b[38;5;241;43m=\u001b[39;49m\u001b[38;5;28;43;01mFalse\u001b[39;49;00m\u001b[43m,\u001b[49m\n\u001b[1;32m    446\u001b[0m \u001b[43m            \u001b[49m\u001b[43mpreload_content\u001b[49m\u001b[38;5;241;43m=\u001b[39;49m\u001b[38;5;28;43;01mFalse\u001b[39;49;00m\u001b[43m,\u001b[49m\n\u001b[1;32m    447\u001b[0m \u001b[43m            \u001b[49m\u001b[43mdecode_content\u001b[49m\u001b[38;5;241;43m=\u001b[39;49m\u001b[38;5;28;43;01mFalse\u001b[39;49;00m\u001b[43m,\u001b[49m\n\u001b[1;32m    448\u001b[0m \u001b[43m            \u001b[49m\u001b[43mretries\u001b[49m\u001b[38;5;241;43m=\u001b[39;49m\u001b[38;5;28;43mself\u001b[39;49m\u001b[38;5;241;43m.\u001b[39;49m\u001b[43mmax_retries\u001b[49m\u001b[43m,\u001b[49m\n\u001b[1;32m    449\u001b[0m \u001b[43m            \u001b[49m\u001b[43mtimeout\u001b[49m\u001b[38;5;241;43m=\u001b[39;49m\u001b[43mtimeout\u001b[49m\n\u001b[1;32m    450\u001b[0m \u001b[43m        \u001b[49m\u001b[43m)\u001b[49m\n\u001b[1;32m    452\u001b[0m     \u001b[38;5;66;03m# Send the request.\u001b[39;00m\n\u001b[1;32m    453\u001b[0m     \u001b[38;5;28;01melse\u001b[39;00m:\n\u001b[1;32m    454\u001b[0m         \u001b[38;5;28;01mif\u001b[39;00m \u001b[38;5;28mhasattr\u001b[39m(conn, \u001b[38;5;124m'\u001b[39m\u001b[38;5;124mproxy_pool\u001b[39m\u001b[38;5;124m'\u001b[39m):\n",
      "File \u001b[0;32m~/Library/Python/3.9/lib/python/site-packages/urllib3/connectionpool.py:699\u001b[0m, in \u001b[0;36mHTTPConnectionPool.urlopen\u001b[0;34m(self, method, url, body, headers, retries, redirect, assert_same_host, timeout, pool_timeout, release_conn, chunked, body_pos, **response_kw)\u001b[0m\n\u001b[1;32m    696\u001b[0m     \u001b[38;5;28mself\u001b[39m\u001b[38;5;241m.\u001b[39m_prepare_proxy(conn)\n\u001b[1;32m    698\u001b[0m \u001b[38;5;66;03m# Make the request on the httplib connection object.\u001b[39;00m\n\u001b[0;32m--> 699\u001b[0m httplib_response \u001b[38;5;241m=\u001b[39m \u001b[38;5;28;43mself\u001b[39;49m\u001b[38;5;241;43m.\u001b[39;49m\u001b[43m_make_request\u001b[49m\u001b[43m(\u001b[49m\n\u001b[1;32m    700\u001b[0m \u001b[43m    \u001b[49m\u001b[43mconn\u001b[49m\u001b[43m,\u001b[49m\n\u001b[1;32m    701\u001b[0m \u001b[43m    \u001b[49m\u001b[43mmethod\u001b[49m\u001b[43m,\u001b[49m\n\u001b[1;32m    702\u001b[0m \u001b[43m    \u001b[49m\u001b[43murl\u001b[49m\u001b[43m,\u001b[49m\n\u001b[1;32m    703\u001b[0m \u001b[43m    \u001b[49m\u001b[43mtimeout\u001b[49m\u001b[38;5;241;43m=\u001b[39;49m\u001b[43mtimeout_obj\u001b[49m\u001b[43m,\u001b[49m\n\u001b[1;32m    704\u001b[0m \u001b[43m    \u001b[49m\u001b[43mbody\u001b[49m\u001b[38;5;241;43m=\u001b[39;49m\u001b[43mbody\u001b[49m\u001b[43m,\u001b[49m\n\u001b[1;32m    705\u001b[0m \u001b[43m    \u001b[49m\u001b[43mheaders\u001b[49m\u001b[38;5;241;43m=\u001b[39;49m\u001b[43mheaders\u001b[49m\u001b[43m,\u001b[49m\n\u001b[1;32m    706\u001b[0m \u001b[43m    \u001b[49m\u001b[43mchunked\u001b[49m\u001b[38;5;241;43m=\u001b[39;49m\u001b[43mchunked\u001b[49m\u001b[43m,\u001b[49m\n\u001b[1;32m    707\u001b[0m \u001b[43m\u001b[49m\u001b[43m)\u001b[49m\n\u001b[1;32m    709\u001b[0m \u001b[38;5;66;03m# If we're going to release the connection in ``finally:``, then\u001b[39;00m\n\u001b[1;32m    710\u001b[0m \u001b[38;5;66;03m# the response doesn't need to know about the connection. Otherwise\u001b[39;00m\n\u001b[1;32m    711\u001b[0m \u001b[38;5;66;03m# it will also try to release it and we'll have a double-release\u001b[39;00m\n\u001b[1;32m    712\u001b[0m \u001b[38;5;66;03m# mess.\u001b[39;00m\n\u001b[1;32m    713\u001b[0m response_conn \u001b[38;5;241m=\u001b[39m conn \u001b[38;5;28;01mif\u001b[39;00m \u001b[38;5;129;01mnot\u001b[39;00m release_conn \u001b[38;5;28;01melse\u001b[39;00m \u001b[38;5;28;01mNone\u001b[39;00m\n",
      "File \u001b[0;32m~/Library/Python/3.9/lib/python/site-packages/urllib3/connectionpool.py:445\u001b[0m, in \u001b[0;36mHTTPConnectionPool._make_request\u001b[0;34m(self, conn, method, url, timeout, chunked, **httplib_request_kw)\u001b[0m\n\u001b[1;32m    440\u001b[0m             httplib_response \u001b[38;5;241m=\u001b[39m conn\u001b[38;5;241m.\u001b[39mgetresponse()\n\u001b[1;32m    441\u001b[0m         \u001b[38;5;28;01mexcept\u001b[39;00m \u001b[38;5;167;01mBaseException\u001b[39;00m \u001b[38;5;28;01mas\u001b[39;00m e:\n\u001b[1;32m    442\u001b[0m             \u001b[38;5;66;03m# Remove the TypeError from the exception chain in\u001b[39;00m\n\u001b[1;32m    443\u001b[0m             \u001b[38;5;66;03m# Python 3 (including for exceptions like SystemExit).\u001b[39;00m\n\u001b[1;32m    444\u001b[0m             \u001b[38;5;66;03m# Otherwise it looks like a bug in the code.\u001b[39;00m\n\u001b[0;32m--> 445\u001b[0m             \u001b[43msix\u001b[49m\u001b[38;5;241;43m.\u001b[39;49m\u001b[43mraise_from\u001b[49m\u001b[43m(\u001b[49m\u001b[43me\u001b[49m\u001b[43m,\u001b[49m\u001b[43m \u001b[49m\u001b[38;5;28;43;01mNone\u001b[39;49;00m\u001b[43m)\u001b[49m\n\u001b[1;32m    446\u001b[0m \u001b[38;5;28;01mexcept\u001b[39;00m (SocketTimeout, BaseSSLError, SocketError) \u001b[38;5;28;01mas\u001b[39;00m e:\n\u001b[1;32m    447\u001b[0m     \u001b[38;5;28mself\u001b[39m\u001b[38;5;241m.\u001b[39m_raise_timeout(err\u001b[38;5;241m=\u001b[39me, url\u001b[38;5;241m=\u001b[39murl, timeout_value\u001b[38;5;241m=\u001b[39mread_timeout)\n",
      "File \u001b[0;32m<string>:3\u001b[0m, in \u001b[0;36mraise_from\u001b[0;34m(value, from_value)\u001b[0m\n",
      "File \u001b[0;32m~/Library/Python/3.9/lib/python/site-packages/urllib3/connectionpool.py:440\u001b[0m, in \u001b[0;36mHTTPConnectionPool._make_request\u001b[0;34m(self, conn, method, url, timeout, chunked, **httplib_request_kw)\u001b[0m\n\u001b[1;32m    437\u001b[0m \u001b[38;5;28;01mexcept\u001b[39;00m \u001b[38;5;167;01mTypeError\u001b[39;00m:\n\u001b[1;32m    438\u001b[0m     \u001b[38;5;66;03m# Python 3\u001b[39;00m\n\u001b[1;32m    439\u001b[0m     \u001b[38;5;28;01mtry\u001b[39;00m:\n\u001b[0;32m--> 440\u001b[0m         httplib_response \u001b[38;5;241m=\u001b[39m \u001b[43mconn\u001b[49m\u001b[38;5;241;43m.\u001b[39;49m\u001b[43mgetresponse\u001b[49m\u001b[43m(\u001b[49m\u001b[43m)\u001b[49m\n\u001b[1;32m    441\u001b[0m     \u001b[38;5;28;01mexcept\u001b[39;00m \u001b[38;5;167;01mBaseException\u001b[39;00m \u001b[38;5;28;01mas\u001b[39;00m e:\n\u001b[1;32m    442\u001b[0m         \u001b[38;5;66;03m# Remove the TypeError from the exception chain in\u001b[39;00m\n\u001b[1;32m    443\u001b[0m         \u001b[38;5;66;03m# Python 3 (including for exceptions like SystemExit).\u001b[39;00m\n\u001b[1;32m    444\u001b[0m         \u001b[38;5;66;03m# Otherwise it looks like a bug in the code.\u001b[39;00m\n\u001b[1;32m    445\u001b[0m         six\u001b[38;5;241m.\u001b[39mraise_from(e, \u001b[38;5;28;01mNone\u001b[39;00m)\n",
      "File \u001b[0;32m/Library/Developer/CommandLineTools/Library/Frameworks/Python3.framework/Versions/3.9/lib/python3.9/http/client.py:1349\u001b[0m, in \u001b[0;36mHTTPConnection.getresponse\u001b[0;34m(self)\u001b[0m\n\u001b[1;32m   1347\u001b[0m \u001b[38;5;28;01mtry\u001b[39;00m:\n\u001b[1;32m   1348\u001b[0m     \u001b[38;5;28;01mtry\u001b[39;00m:\n\u001b[0;32m-> 1349\u001b[0m         \u001b[43mresponse\u001b[49m\u001b[38;5;241;43m.\u001b[39;49m\u001b[43mbegin\u001b[49m\u001b[43m(\u001b[49m\u001b[43m)\u001b[49m\n\u001b[1;32m   1350\u001b[0m     \u001b[38;5;28;01mexcept\u001b[39;00m \u001b[38;5;167;01mConnectionError\u001b[39;00m:\n\u001b[1;32m   1351\u001b[0m         \u001b[38;5;28mself\u001b[39m\u001b[38;5;241m.\u001b[39mclose()\n",
      "File \u001b[0;32m/Library/Developer/CommandLineTools/Library/Frameworks/Python3.framework/Versions/3.9/lib/python3.9/http/client.py:316\u001b[0m, in \u001b[0;36mHTTPResponse.begin\u001b[0;34m(self)\u001b[0m\n\u001b[1;32m    314\u001b[0m \u001b[38;5;66;03m# read until we get a non-100 response\u001b[39;00m\n\u001b[1;32m    315\u001b[0m \u001b[38;5;28;01mwhile\u001b[39;00m \u001b[38;5;28;01mTrue\u001b[39;00m:\n\u001b[0;32m--> 316\u001b[0m     version, status, reason \u001b[38;5;241m=\u001b[39m \u001b[38;5;28;43mself\u001b[39;49m\u001b[38;5;241;43m.\u001b[39;49m\u001b[43m_read_status\u001b[49m\u001b[43m(\u001b[49m\u001b[43m)\u001b[49m\n\u001b[1;32m    317\u001b[0m     \u001b[38;5;28;01mif\u001b[39;00m status \u001b[38;5;241m!=\u001b[39m CONTINUE:\n\u001b[1;32m    318\u001b[0m         \u001b[38;5;28;01mbreak\u001b[39;00m\n",
      "File \u001b[0;32m/Library/Developer/CommandLineTools/Library/Frameworks/Python3.framework/Versions/3.9/lib/python3.9/http/client.py:277\u001b[0m, in \u001b[0;36mHTTPResponse._read_status\u001b[0;34m(self)\u001b[0m\n\u001b[1;32m    276\u001b[0m \u001b[38;5;28;01mdef\u001b[39;00m \u001b[38;5;21m_read_status\u001b[39m(\u001b[38;5;28mself\u001b[39m):\n\u001b[0;32m--> 277\u001b[0m     line \u001b[38;5;241m=\u001b[39m \u001b[38;5;28mstr\u001b[39m(\u001b[38;5;28;43mself\u001b[39;49m\u001b[38;5;241;43m.\u001b[39;49m\u001b[43mfp\u001b[49m\u001b[38;5;241;43m.\u001b[39;49m\u001b[43mreadline\u001b[49m\u001b[43m(\u001b[49m\u001b[43m_MAXLINE\u001b[49m\u001b[43m \u001b[49m\u001b[38;5;241;43m+\u001b[39;49m\u001b[43m \u001b[49m\u001b[38;5;241;43m1\u001b[39;49m\u001b[43m)\u001b[49m, \u001b[38;5;124m\"\u001b[39m\u001b[38;5;124miso-8859-1\u001b[39m\u001b[38;5;124m\"\u001b[39m)\n\u001b[1;32m    278\u001b[0m     \u001b[38;5;28;01mif\u001b[39;00m \u001b[38;5;28mlen\u001b[39m(line) \u001b[38;5;241m>\u001b[39m _MAXLINE:\n\u001b[1;32m    279\u001b[0m         \u001b[38;5;28;01mraise\u001b[39;00m LineTooLong(\u001b[38;5;124m\"\u001b[39m\u001b[38;5;124mstatus line\u001b[39m\u001b[38;5;124m\"\u001b[39m)\n",
      "File \u001b[0;32m/Library/Developer/CommandLineTools/Library/Frameworks/Python3.framework/Versions/3.9/lib/python3.9/socket.py:704\u001b[0m, in \u001b[0;36mSocketIO.readinto\u001b[0;34m(self, b)\u001b[0m\n\u001b[1;32m    702\u001b[0m \u001b[38;5;28;01mwhile\u001b[39;00m \u001b[38;5;28;01mTrue\u001b[39;00m:\n\u001b[1;32m    703\u001b[0m     \u001b[38;5;28;01mtry\u001b[39;00m:\n\u001b[0;32m--> 704\u001b[0m         \u001b[38;5;28;01mreturn\u001b[39;00m \u001b[38;5;28;43mself\u001b[39;49m\u001b[38;5;241;43m.\u001b[39;49m\u001b[43m_sock\u001b[49m\u001b[38;5;241;43m.\u001b[39;49m\u001b[43mrecv_into\u001b[49m\u001b[43m(\u001b[49m\u001b[43mb\u001b[49m\u001b[43m)\u001b[49m\n\u001b[1;32m    705\u001b[0m     \u001b[38;5;28;01mexcept\u001b[39;00m timeout:\n\u001b[1;32m    706\u001b[0m         \u001b[38;5;28mself\u001b[39m\u001b[38;5;241m.\u001b[39m_timeout_occurred \u001b[38;5;241m=\u001b[39m \u001b[38;5;28;01mTrue\u001b[39;00m\n",
      "File \u001b[0;32m/Library/Developer/CommandLineTools/Library/Frameworks/Python3.framework/Versions/3.9/lib/python3.9/ssl.py:1241\u001b[0m, in \u001b[0;36mSSLSocket.recv_into\u001b[0;34m(self, buffer, nbytes, flags)\u001b[0m\n\u001b[1;32m   1237\u001b[0m     \u001b[38;5;28;01mif\u001b[39;00m flags \u001b[38;5;241m!=\u001b[39m \u001b[38;5;241m0\u001b[39m:\n\u001b[1;32m   1238\u001b[0m         \u001b[38;5;28;01mraise\u001b[39;00m \u001b[38;5;167;01mValueError\u001b[39;00m(\n\u001b[1;32m   1239\u001b[0m           \u001b[38;5;124m\"\u001b[39m\u001b[38;5;124mnon-zero flags not allowed in calls to recv_into() on \u001b[39m\u001b[38;5;132;01m%s\u001b[39;00m\u001b[38;5;124m\"\u001b[39m \u001b[38;5;241m%\u001b[39m\n\u001b[1;32m   1240\u001b[0m           \u001b[38;5;28mself\u001b[39m\u001b[38;5;241m.\u001b[39m\u001b[38;5;18m__class__\u001b[39m)\n\u001b[0;32m-> 1241\u001b[0m     \u001b[38;5;28;01mreturn\u001b[39;00m \u001b[38;5;28;43mself\u001b[39;49m\u001b[38;5;241;43m.\u001b[39;49m\u001b[43mread\u001b[49m\u001b[43m(\u001b[49m\u001b[43mnbytes\u001b[49m\u001b[43m,\u001b[49m\u001b[43m \u001b[49m\u001b[43mbuffer\u001b[49m\u001b[43m)\u001b[49m\n\u001b[1;32m   1242\u001b[0m \u001b[38;5;28;01melse\u001b[39;00m:\n\u001b[1;32m   1243\u001b[0m     \u001b[38;5;28;01mreturn\u001b[39;00m \u001b[38;5;28msuper\u001b[39m()\u001b[38;5;241m.\u001b[39mrecv_into(buffer, nbytes, flags)\n",
      "File \u001b[0;32m/Library/Developer/CommandLineTools/Library/Frameworks/Python3.framework/Versions/3.9/lib/python3.9/ssl.py:1099\u001b[0m, in \u001b[0;36mSSLSocket.read\u001b[0;34m(self, len, buffer)\u001b[0m\n\u001b[1;32m   1097\u001b[0m \u001b[38;5;28;01mtry\u001b[39;00m:\n\u001b[1;32m   1098\u001b[0m     \u001b[38;5;28;01mif\u001b[39;00m buffer \u001b[38;5;129;01mis\u001b[39;00m \u001b[38;5;129;01mnot\u001b[39;00m \u001b[38;5;28;01mNone\u001b[39;00m:\n\u001b[0;32m-> 1099\u001b[0m         \u001b[38;5;28;01mreturn\u001b[39;00m \u001b[38;5;28;43mself\u001b[39;49m\u001b[38;5;241;43m.\u001b[39;49m\u001b[43m_sslobj\u001b[49m\u001b[38;5;241;43m.\u001b[39;49m\u001b[43mread\u001b[49m\u001b[43m(\u001b[49m\u001b[38;5;28;43mlen\u001b[39;49m\u001b[43m,\u001b[49m\u001b[43m \u001b[49m\u001b[43mbuffer\u001b[49m\u001b[43m)\u001b[49m\n\u001b[1;32m   1100\u001b[0m     \u001b[38;5;28;01melse\u001b[39;00m:\n\u001b[1;32m   1101\u001b[0m         \u001b[38;5;28;01mreturn\u001b[39;00m \u001b[38;5;28mself\u001b[39m\u001b[38;5;241m.\u001b[39m_sslobj\u001b[38;5;241m.\u001b[39mread(\u001b[38;5;28mlen\u001b[39m)\n",
      "\u001b[0;31mKeyboardInterrupt\u001b[0m: "
     ]
    }
   ],
   "source": [
    "rawPlot = query(generatePlotPrompt.format(theme), temperature=0.5)\n",
    "parsedPlot = json.loads(rawPlot)\n",
    "print('Overall Plot')\n",
    "display(parsedPlot)\n",
    "\n",
    "rawScenes = query(generateScenesPrompt.format(rawPlot), temperature=.5)\n",
    "parsedScenes = json.loads(rawScenes)\n",
    "print('Overall Scenes')\n",
    "display(parsedScenes)\n",
    "\n",
    "dialoguesSoFar = []\n",
    "\n",
    "for scenedidx, scene in enumerate(parsedScenes):\n",
    "\n",
    "    subTheme = f\"{scene['name']}: {scene['summary']}\\n\"\n",
    "    print(subTheme)\n",
    "\n",
    "    rawSubPlot = query(generatePlotPrompt.format(subTheme), temperature=0.5)\n",
    "    parsedSubPlot = json.loads(rawSubPlot)\n",
    "    print('Sub Plot')\n",
    "    display(parsedSubPlot)\n",
    "    \n",
    "    rawSubScenes = query(generateScenesPrompt.format(rawSubPlot), temperature=.5)\n",
    "    parsedSubScenes = json.loads(rawSubScenes)\n",
    "    print('Sub Scenes')\n",
    "    display(parsedSubScenes)\n",
    "\n",
    "    for subScene in parsedSubScenes:\n",
    "        try:\n",
    "            similarDialogues = collection.query(\n",
    "                query_texts=[subScene['summary']],\n",
    "                n_results=2\n",
    "            )\n",
    "            \n",
    "            print('similarDialogues', similarDialogues)\n",
    "\n",
    "            rawDialogues = query(generateDialoguesPrompt.format(rawSubPlot, rawSubScenes, dialoguesSoFar[-10:], subScene['name'], subScene['summary'], subScene['name']))\n",
    "            print(f'Dialogues generated: {len(json.loads(rawDialogues))}')\n",
    "            parsedDialoges = json.loads(rawDialogues)\n",
    "            recordedDialoges = []\n",
    "            for dialogue in parsedDialoges:\n",
    "                dialogue['id'] = str(uuid4().hex)\n",
    "                collection.add(documents=[json.dumps(dialogue)], metadatas=[{\"source\": \"my_source\"}], ids=[dialogue['id']])\n",
    "                recordedDialoges.append(dialogue)\n",
    "            \n",
    "            dialoguesSoFar += recordedDialoges\n",
    "        except:\n",
    "            try:\n",
    "                print('FAILED, TRYING AGAIN')\n",
    "                rawDialogues = query(generateDialoguesPrompt.format(rawSubPlot, rawSubScenes, dialoguesSoFar[-10:], subScene['name'], subScene['summary'], subScene['name']))\n",
    "                print(f'Dialogues generated: {len(json.loads(rawDialogues))}')\n",
    "                recordedDialoges = []\n",
    "                for dialogue in parsedDialoges:\n",
    "                    dialogue['id'] = str(uuid4().hex)\n",
    "                    collection.add(documents=[json.dumps(dialogue)], metadatas=[{\"source\": \"my_source\"}], ids=[dialogue['id']])\n",
    "                    recordedDialoges.append(dialogue)\n",
    "                \n",
    "                dialoguesSoFar += recordedDialoges\n",
    "            except:\n",
    "                pass\n",
    "\n",
    "    for dialogue in dialoguesSoFar:\n",
    "        print(f\"{dialogue['name']}: {dialogue['text']}\")\n"
   ]
  },
  {
   "cell_type": "code",
   "execution_count": 15,
   "id": "5b7a6172",
   "metadata": {},
   "outputs": [
    {
     "name": "stdout",
     "output_type": "stream",
     "text": [
      "John: Hi, I'm John. It's nice to meet you.\n",
      "Jane: Hi, I'm Jane. It's nice to meet you too.\n",
      "John: So, what brings you here?\n",
      "Jane: I'm here to fight for justice and to overthrow the oppressive government.\n",
      "John: Me too! We should join forces and work together to make a difference.\n",
      "Jane: That sounds like a great idea. Let's do it!\n",
      "John: We need to come up with a plan that will help us overthrow the oppressive government.\n",
      "Jane: Yes, we need to be strategic and think of every possible outcome.\n",
      "John: We should start by gathering as much information as we can about the government and their plans.\n",
      "Jane: Good idea. We should also start recruiting people to join our cause.\n",
      "John: Yes, we need to build a strong team if we are going to succeed.\n",
      "Jane: We should also start stockpiling weapons and supplies in case we need them.\n",
      "John: Right, we need to be prepared for anything.\n",
      "Jane: We can do this. We just need to stay focused and keep our eyes on the prize.\n",
      "John: We need to be careful. The government is aware of our plans and is tracking our every move.\n",
      "Jane: We need to find a way to stay one step ahead of them and continue our mission.\n",
      "John: We should start by changing our plans and our tactics. We need to be unpredictable and keep them guessing.\n",
      "Jane: We should also start using code words and secret messages to communicate with each other. That way, the government won't be able to intercept our plans.\n",
      "John: Good idea. We need to be smart and stay vigilant if we are going to succeed.\n",
      "Jane: We can do this. We just need to stay focused and keep our eyes on the prize.\n",
      "John: We've come this far. We can't give up now. We have to keep fighting until we win.\n",
      "Jane: You're right. We have to stay strong and keep pushing forward.\n",
      "John: We can do this. We just need to stay focused and keep our eyes on the prize.\n",
      "Jane: We have to be brave and never give up. We can make a difference if we just keep fighting.\n",
      "John: Yes, we can do this. We just need to stay strong and never give up.\n",
      "Jane: We can do this. We just need to stay focused and keep our eyes on the prize.\n",
      "John: We did it! We finally did it! We overthrew the oppressive government and ushered in a new era of freedom and justice.\n",
      "Jane: Yes, we did it! We are heroes and our revolution will be remembered for generations to come.\n",
      "John: This is only the beginning. We have to keep fighting for justice and never give up.\n",
      "Jane: You're right. We have to stay strong and keep pushing forward. We can make a difference if we just keep fighting.\n",
      "John: Yes, we can do this. We just need to stay focused and keep our eyes on the prize.\n",
      "Jane: We have to be brave and never give up. We can make a difference if we just keep fighting.\n",
      "John: Yes, we can do this. We just need to stay strong and never give up.\n",
      "Jane: We can do this. We just need to stay focused and keep our eyes on the prize.\n"
     ]
    }
   ],
   "source": [
    "for dialogue in dialoguesSoFar:\n",
    "        print(f\"{dialogue['name']}: {dialogue['text']}\")"
   ]
  },
  {
   "cell_type": "code",
   "execution_count": null,
   "id": "cd53dfc1",
   "metadata": {},
   "outputs": [],
   "source": []
  },
  {
   "cell_type": "code",
   "execution_count": null,
   "id": "2f1b89d6",
   "metadata": {},
   "outputs": [],
   "source": []
  }
 ],
 "metadata": {
  "kernelspec": {
   "display_name": "venv",
   "language": "python",
   "name": "python3"
  },
  "language_info": {
   "codemirror_mode": {
    "name": "ipython",
    "version": 3
   },
   "file_extension": ".py",
   "mimetype": "text/x-python",
   "name": "python",
   "nbconvert_exporter": "python",
   "pygments_lexer": "ipython3",
   "version": "3.9.6"
  },
  "vscode": {
   "interpreter": {
    "hash": "e9894316dac384cc9f5b0ddb06743fc0dc6612a9d18997874212b76ba85831e7"
   }
  }
 },
 "nbformat": 4,
 "nbformat_minor": 5
}
