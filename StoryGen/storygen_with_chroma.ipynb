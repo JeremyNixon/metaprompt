{
 "cells": [
  {
   "cell_type": "code",
   "execution_count": 2,
   "id": "c6a3c127",
   "metadata": {},
   "outputs": [],
   "source": [
    "import openai, os, chromadb, json\n",
    "\n",
    "openai.api_key = os.environ.get('OPENAI_API_KEY')"
   ]
  },
  {
   "cell_type": "code",
   "execution_count": 18,
   "id": "f8969687",
   "metadata": {},
   "outputs": [
    {
     "name": "stdout",
     "output_type": "stream",
     "text": [
      "Running Chroma using direct local API.\n",
      "Using DuckDB in-memory for database. Data will be transient.\n"
     ]
    }
   ],
   "source": []
  },
  {
   "cell_type": "code",
   "execution_count": 30,
   "id": "e717f176",
   "metadata": {},
   "outputs": [
    {
     "ename": "NameError",
     "evalue": "name 'client' is not defined",
     "output_type": "error",
     "traceback": [
      "\u001b[0;31m---------------------------------------------------------------------------\u001b[0m",
      "\u001b[0;31mNameError\u001b[0m                                 Traceback (most recent call last)",
      "Cell \u001b[0;32mIn[30], line 7\u001b[0m\n\u001b[1;32m      1\u001b[0m results \u001b[39m=\u001b[39m collection\u001b[39m.\u001b[39mquery(\n\u001b[1;32m      2\u001b[0m     query_texts\u001b[39m=\u001b[39m[\u001b[39m\"\u001b[39m\u001b[39mThis is a query document\u001b[39m\u001b[39m\"\u001b[39m],\n\u001b[1;32m      3\u001b[0m     n_results\u001b[39m=\u001b[39m\u001b[39m2\u001b[39m\n\u001b[1;32m      4\u001b[0m )\n\u001b[1;32m      5\u001b[0m results\n\u001b[0;32m----> 7\u001b[0m client\u001b[39m.\u001b[39mdelete_collection(\u001b[39m\"\u001b[39m\u001b[39mmy_collection\u001b[39m\u001b[39m\"\u001b[39m)\n",
      "\u001b[0;31mNameError\u001b[0m: name 'client' is not defined"
     ]
    }
   ],
   "source": []
  },
  {
   "cell_type": "code",
   "execution_count": 5,
   "id": "da3dc8a5",
   "metadata": {},
   "outputs": [],
   "source": [
    "def query(prompt, **kwargs):\n",
    "    \"\"\"\n",
    "    wrapper for the API to save the prompt and the result\n",
    "    \"\"\"\n",
    "    args = {\n",
    "    \"engine\":\"text-davinci-003\",\n",
    "    \"temperature\":0,\n",
    "    \"max_tokens\":1000,\n",
    "    \"stop\":\"END\",\n",
    "    }\n",
    "\n",
    "    for key in kwargs:\n",
    "        args[key] = kwargs[key]\n",
    "\n",
    "    r = openai.Completion.create(prompt=prompt, **args)\n",
    "    return r[\"choices\"][0][\"text\"].strip()"
   ]
  },
  {
   "cell_type": "code",
   "execution_count": 6,
   "id": "a53f6ed1",
   "metadata": {},
   "outputs": [],
   "source": [
    "theme = \"dystopian universe\""
   ]
  },
  {
   "cell_type": "code",
   "execution_count": 7,
   "id": "da015c38",
   "metadata": {},
   "outputs": [],
   "source": [
    "generatePlotPrompt = \"\"\" /* Generate an Plot for a movie\n",
    "\n",
    "type character{{\n",
    "  \"name\": str,\n",
    "  \"background\": str\n",
    "}}\n",
    "\n",
    "interface overview {{\n",
    "  \"setting\": str, //where the section takes place\n",
    "  \"characters\": character[], //the character names\n",
    "  \"conflict\": str, //what conflict needs to get solved\n",
    "  \"plotTwist\": str, //any plot twists to occur\n",
    "  \"resolution\": str // how this plot concludes\n",
    "}}\n",
    "\n",
    "const generatePlot = (theme) : outline => {{\n",
    "    return ai.generatePlot(theme)\n",
    "}}\n",
    "\n",
    "\n",
    "theme = '{}'\n",
    "//make sure to include the keys in quotes so we can json.parse\n",
    "console.log(\"Out: \" + generatePlot(theme))\n",
    "Out:\"\"\""
   ]
  },
  {
   "cell_type": "code",
   "execution_count": 8,
   "id": "20837470",
   "metadata": {},
   "outputs": [],
   "source": [
    "generateScenesPrompt = \"\"\" /* Generate scenes for a movie\n",
    "\n",
    "type scene{{\n",
    "  \"name\": str, // the name of the scene\n",
    "  \"summary\": str, // a detailed description with specifics of what happens in this scene\n",
    "}}\n",
    "\n",
    "const generateScenes = (plot) : scene[] =>{{\n",
    "    return ai.generateScenes(plot)\n",
    "}}\n",
    "\n",
    "plot = '{}'\n",
    "\n",
    "//make sure to include the keys in quotes so we can json.parse\n",
    "console.log(\"Out: \" + generatePlot(plot))\n",
    "Out:\"\"\""
   ]
  },
  {
   "cell_type": "code",
   "execution_count": 9,
   "id": "a9ed92ee",
   "metadata": {},
   "outputs": [],
   "source": [
    "generateDialoguesPrompt = \"\"\" /* Write the next set of dialogues in the given scene of the movie\n",
    "\n",
    "//the overview of the entire movie\n",
    "movieOverview = {}\n",
    "\n",
    "//the outline that the movie should follow\n",
    "movieOutline = {}\n",
    "\n",
    "//the paragraphs of the movie so far\n",
    "dialoguesSoFar = {}\n",
    "\n",
    "interface scene {{\n",
    "  \"dialogues\": dialogue[] //all of the dialogues in the story\n",
    "}}\n",
    "\n",
    "type dialogue{{\n",
    "  \"name\": str, // the name of the speaker\n",
    "  \"text\": str, // dialogue that speaker says\n",
    "}}\n",
    "\n",
    "//generate multiple longform dialogues for this scene and list them\n",
    "const {} = (currentScene) : dialogues[] =>{{\n",
    "    return ai.write()\n",
    "}}\n",
    "\n",
    "currentSceneDescription = {}\n",
    "\n",
    "//make sure to include the keys in quotes so we can json.parse\n",
    "console.log(\"Out: \" + {}(currentOutlineSection))\n",
    "Out:\"\"\""
   ]
  },
  {
   "cell_type": "code",
   "execution_count": 10,
   "id": "0863351c",
   "metadata": {},
   "outputs": [],
   "source": [
    "generateDialoguesPrompt = \"\"\" /* Write the next set of dialogues in the movie for the given scene\n",
    "\n",
    "//the Plot of the entire movie\n",
    "plot = {}\n",
    "\n",
    "//the outline that the movie should follow\n",
    "allScenes = {}\n",
    "\n",
    "//list of dialogues that have already been spoken\n",
    "dialoguesSoFar = {}\n",
    "\n",
    "type dialogue{{\n",
    "  \"name\": str, // the name of the speaker\n",
    "  \"text\": str, // dialogue that speaker says\n",
    "}}\n",
    "\n",
    "//generate multiple longform dialogues for this scene and list them\n",
    "const {} = (currentScene) : dialogue[] =>{{\n",
    "    return ai.write()\n",
    "}}\n",
    "\n",
    "currentSceneDescription = {}\n",
    "\n",
    "//make sure to include the keys in quotes so we can json.parse\n",
    "console.log(\"Out: \" + {}(currentOutlineSection))\n",
    "Out:\"\"\""
   ]
  },
  {
   "cell_type": "code",
   "execution_count": 24,
   "id": "ec7f7450",
   "metadata": {},
   "outputs": [
    {
     "data": {
      "text/plain": [
       "'b57c5f5ddfb345769751f6a5a2fa8b32'"
      ]
     },
     "execution_count": 24,
     "metadata": {},
     "output_type": "execute_result"
    }
   ],
   "source": [
    "from uuid import uuid4\n",
    "uuid4().hex"
   ]
  },
  {
   "cell_type": "code",
   "execution_count": 32,
   "id": "f2da773d",
   "metadata": {},
   "outputs": [
    {
     "name": "stdout",
     "output_type": "stream",
     "text": [
      "Overall Plot\n"
     ]
    },
    {
     "data": {
      "text/plain": [
       "{'setting': 'A dystopian universe where the government is oppressive and lawless',\n",
       " 'characters': [{'name': 'John',\n",
       "   'background': 'A rebel who fights against the oppressive government'},\n",
       "  {'name': 'Jane', 'background': 'A leader of the rebellion'},\n",
       "  {'name': 'The Government', 'background': 'An oppressive and lawless force'}],\n",
       " 'conflict': 'John and Jane must fight to overthrow the oppressive government and restore freedom to the people.',\n",
       " 'plotTwist': 'The government has a secret weapon that could destroy the rebellion and the people.',\n",
       " 'resolution': 'John and Jane are able to find and destroy the secret weapon, allowing the rebellion to succeed and the people to be free.'}"
      ]
     },
     "metadata": {},
     "output_type": "display_data"
    },
    {
     "name": "stdout",
     "output_type": "stream",
     "text": [
      "Overall Scenes\n"
     ]
    },
    {
     "data": {
      "text/plain": [
       "[{'name': 'John and Jane meet',\n",
       "  'summary': 'John and Jane meet for the first time and discuss the oppressive government and their plans to overthrow it. They realize they must work together to succeed.'},\n",
       " {'name': 'The Rebellion Grows',\n",
       "  'summary': 'John and Jane begin to recruit more people to join their rebellion and form a plan to overthrow the oppressive government.'},\n",
       " {'name': \"The Government's Secret Weapon\",\n",
       "  'summary': \"John and Jane discover the government's secret weapon and realize they must find and destroy it before the government can use it against them.\"},\n",
       " {'name': 'The Final Battle',\n",
       "  'summary': 'John and Jane lead the rebellion in a final battle against the government. They are able to find and destroy the secret weapon, allowing the rebellion to succeed and the people to be free.'}]"
      ]
     },
     "metadata": {},
     "output_type": "display_data"
    },
    {
     "name": "stdout",
     "output_type": "stream",
     "text": [
      "Running Chroma using direct local API.\n",
      "Using DuckDB in-memory for database. Data will be transient.\n",
      "Exiting: Cleaning up .chroma directory\n",
      "John and Jane meet: John and Jane meet for the first time and discuss the oppressive government and their plans to overthrow it. They realize they must work together to succeed.\n",
      "\n",
      "Sub Plot\n"
     ]
    },
    {
     "data": {
      "text/plain": [
       "{'setting': \"John and Jane's first meeting\",\n",
       " 'characters': [{'name': 'John',\n",
       "   'background': 'A rebel seeking to overthrow the oppressive government'},\n",
       "  {'name': 'Jane',\n",
       "   'background': 'A rebel seeking to overthrow the oppressive government'}],\n",
       " 'conflict': 'John and Jane must work together to overthrow the oppressive government',\n",
       " 'plotTwist': 'The oppressive government has a powerful ally that is willing to do whatever it takes to keep them in power',\n",
       " 'resolution': 'John and Jane join forces with other rebels and successfully overthrow the oppressive government'}"
      ]
     },
     "metadata": {},
     "output_type": "display_data"
    },
    {
     "name": "stdout",
     "output_type": "stream",
     "text": [
      "Sub Scenes\n"
     ]
    },
    {
     "data": {
      "text/plain": [
       "[{'name': \"John and Jane's First Meeting\",\n",
       "  'summary': 'John and Jane meet for the first time in a secluded location. Jane is a bit hesitant at first but John is determined to get her to join his cause. They discuss their shared goals of overthrowing the oppressive government and decide to work together to make it happen.'},\n",
       " {'name': 'Planning the Rebellion',\n",
       "  'summary': 'John and Jane spend the next few days planning their rebellion. They meet with other rebels, gather resources, and come up with a plan of attack. They soon realize that the oppressive government has a powerful ally that is willing to do whatever it takes to keep them in power.'},\n",
       " {'name': 'The Final Battle',\n",
       "  'summary': 'John and Jane lead the rebels in a final battle against the oppressive government. With the help of their allies, they are able to overpower the oppressive government and successfully overthrow them. John and Jane emerge victorious and the people of the country are finally free.'}]"
      ]
     },
     "metadata": {},
     "output_type": "display_data"
    },
    {
     "name": "stdout",
     "output_type": "stream",
     "text": [
      "passed dialouges []\n",
      "Dialogues generated: 4\n",
      "parsed good\n",
      "similarDialogues [['{\"name\": \"John\", \"text\": \"Hi, I\\'m John. I\\'m here to talk to you about overthrowing the oppressive government.\"}', '{\"name\": \"John\", \"text\": \"I understand your hesitation, but I think we can make a difference if we work together. We can make a real change in this country.\"}']]\n",
      "passed dialouges [['{\"name\": \"John\", \"text\": \"Hi, I\\'m John. I\\'m here to talk to you about overthrowing the oppressive government.\"}', '{\"name\": \"John\", \"text\": \"I understand your hesitation, but I think we can make a difference if we work together. We can make a real change in this country.\"}'], {'name': 'John', 'text': \"Hi, I'm John. I'm here to talk to you about overthrowing the oppressive government.\", 'id': 'c47ed62bcb55416a8978d8028972cc90'}, {'name': 'Jane', 'text': \"I'm Jane. I'm not sure if I'm ready to join your cause, but I'm willing to listen.\", 'id': 'a4c8e4b0867a47099fec4227fea87245'}, {'name': 'John', 'text': 'I understand your hesitation, but I think we can make a difference if we work together. We can make a real change in this country.', 'id': '06188a21baa544e98b91d3acd07f2a2e'}, {'name': 'Jane', 'text': \"You're right. I'm in. Let's do this.\", 'id': '41e3a5be39c84350890b87d78fb9fdab'}]\n"
     ]
    }
   ],
   "source": [
    "rawPlot = query(generatePlotPrompt.format(theme), temperature=0.5)\n",
    "parsedPlot = json.loads(rawPlot)\n",
    "print('Overall Plot')\n",
    "display(parsedPlot)\n",
    "\n",
    "rawScenes = query(generateScenesPrompt.format(rawPlot), temperature=.5)\n",
    "parsedScenes = json.loads(rawScenes)\n",
    "print('Overall Scenes')\n",
    "display(parsedScenes)\n",
    "\n",
    "dialoguesSoFar = []\n",
    "chroma_client = chromadb.Client()\n",
    "try:\n",
    "    chroma_client.delete_collection(name=\"my_collection\")\n",
    "except:\n",
    "    pass\n",
    "collection = chroma_client.create_collection(name=\"my_collection\")\n",
    "for scenedidx, scene in enumerate(parsedScenes):\n",
    "\n",
    "    subTheme = f\"{scene['name']}: {scene['summary']}\\n\"\n",
    "    print(subTheme)\n",
    "\n",
    "    rawSubPlot = query(generatePlotPrompt.format(subTheme), temperature=0.5)\n",
    "    parsedSubPlot = json.loads(rawSubPlot)\n",
    "    print('Sub Plot')\n",
    "    display(parsedSubPlot)\n",
    "    \n",
    "    rawSubScenes = query(generateScenesPrompt.format(rawSubPlot), temperature=.5)\n",
    "    parsedSubScenes = json.loads(rawSubScenes)\n",
    "    print('Sub Scenes')\n",
    "    display(parsedSubScenes)\n",
    "\n",
    "    for subScene in parsedSubScenes:\n",
    "        try:\n",
    "            similarDialogues = collection.query(\n",
    "                query_texts=[subScene['summary']],\n",
    "                n_results=2\n",
    "            )['documents']\n",
    "            print('similarDialogues', similarDialogues)\n",
    "        except:\n",
    "            similarDialogues = []\n",
    "        \n",
    "        try:\n",
    "            print('passed dialouges', similarDialogues + dialoguesSoFar[-10:])\n",
    "            rawDialogues = query(generateDialoguesPrompt.format(rawSubPlot, rawSubScenes, similarDialogues + dialoguesSoFar[-10:], subScene['name'], subScene['summary'], subScene['name']))\n",
    "            print(f'Dialogues generated: {len(json.loads(rawDialogues))}')\n",
    "            parsedDialoges = json.loads(rawDialogues)\n",
    "            print('parsed good')\n",
    "            recordedDialoges = []\n",
    "            for dialogue in parsedDialoges:\n",
    "                dialogue['id'] = str(uuid4().hex)\n",
    "                collection.add(documents=[json.dumps({'name':dialogue['name'], 'text':dialogue['text']})], metadatas=[{\"source\": \"my_source\"}], ids=[dialogue['id']])\n",
    "                recordedDialoges.append(dialogue)\n",
    "            \n",
    "            dialoguesSoFar += recordedDialoges\n",
    "        except Exception as e:\n",
    "            try:\n",
    "                print('FAILED, TRYING AGAIN', e)\n",
    "                rawDialogues = query(generateDialoguesPrompt.format(rawSubPlot, rawSubScenes, dialoguesSoFar[-10:], subScene['name'], subScene['summary'], subScene['name']))\n",
    "                print(f'Dialogues generated: {len(json.loads(rawDialogues))}')\n",
    "                recordedDialoges = []\n",
    "                for dialogue in parsedDialoges:\n",
    "                    dialogue['id'] = str(uuid4().hex)\n",
    "                    collection.add(documents=[json.dumps({'name':dialogue['name'], 'text':dialogue['text']})], metadatas=[{\"source\": \"my_source\"}], ids=[dialogue['id']])\n",
    "                    recordedDialoges.append(dialogue)\n",
    "                \n",
    "                dialoguesSoFar += recordedDialoges\n",
    "            except:\n",
    "                pass\n",
    "\n",
    "    for dialogue in dialoguesSoFar:\n",
    "        print(f\"{dialogue['name']}: {dialogue['text']}\")\n"
   ]
  },
  {
   "cell_type": "code",
   "execution_count": null,
   "id": "cd53dfc1",
   "metadata": {},
   "outputs": [],
   "source": []
  },
  {
   "cell_type": "code",
   "execution_count": null,
   "id": "2f1b89d6",
   "metadata": {},
   "outputs": [],
   "source": []
  }
 ],
 "metadata": {
  "kernelspec": {
   "display_name": "venv",
   "language": "python",
   "name": "python3"
  },
  "language_info": {
   "codemirror_mode": {
    "name": "ipython",
    "version": 3
   },
   "file_extension": ".py",
   "mimetype": "text/x-python",
   "name": "python",
   "nbconvert_exporter": "python",
   "pygments_lexer": "ipython3",
   "version": "3.9.6"
  },
  "vscode": {
   "interpreter": {
    "hash": "e9894316dac384cc9f5b0ddb06743fc0dc6612a9d18997874212b76ba85831e7"
   }
  }
 },
 "nbformat": 4,
 "nbformat_minor": 5
}
