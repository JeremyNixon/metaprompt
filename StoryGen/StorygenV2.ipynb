{
 "cells": [
  {
   "cell_type": "code",
   "execution_count": 10,
   "id": "2157ec4b",
   "metadata": {},
   "outputs": [],
   "source": [
    "import openai, os, json"
   ]
  },
  {
   "cell_type": "code",
   "execution_count": 11,
   "id": "c122d5f4",
   "metadata": {},
   "outputs": [],
   "source": [
    "openai.api_key = os.environ.get('OPENAI_API_KEY')"
   ]
  },
  {
   "cell_type": "code",
   "execution_count": 12,
   "id": "e34fe8dc",
   "metadata": {},
   "outputs": [],
   "source": [
    "def query(prompt, **kwargs):\n",
    "    \"\"\"\n",
    "    wrapper for the API to save the prompt and the result\n",
    "    \"\"\"\n",
    "    args = {\n",
    "    \"engine\":\"text-davinci-003\",\n",
    "    \"temperature\":0,\n",
    "    \"max_tokens\":400,\n",
    "    \"stop\":\"END\",\n",
    "    }\n",
    "\n",
    "    for key in kwargs:\n",
    "        args[key] = kwargs[key]\n",
    "\n",
    "    r = openai.Completion.create(prompt=prompt, **args)\n",
    "    return r[\"choices\"][0][\"text\"].strip()\n"
   ]
  },
  {
   "cell_type": "code",
   "execution_count": 5,
   "id": "9d303bd7",
   "metadata": {},
   "outputs": [],
   "source": [
    "class StoryWriter:\n",
    "\n",
    "  def __init__(self, theme, genre, style):\n",
    "    self.theme = theme\n",
    "    self.genre = genre\n",
    "    self.style = style\n",
    "\n",
    "  def createStoryOverview(self):\n",
    "    \"\"\"\n",
    "    Creates a story outline based on the theme, genre, and style\n",
    "    \"\"\"\n",
    "    overviewForStoryPrompt = \"\"\" /* Generate an outline for a story\n",
    "\n",
    "    type character{{\n",
    "      \"name\": str,\n",
    "      \"profession\": str,\n",
    "      \"age\": int,\n",
    "    }}\n",
    "\n",
    "    interface outline {{\n",
    "      \"setting\": str, //where the section takes place\n",
    "      \"characters\": character[], //the character names\n",
    "      \"conflict\": str, //what conflict needs to get solved\n",
    "      \"plotTwist\": str, //any plot twists to occur\n",
    "      \"resolution\": str // how the story concludes\n",
    "    }}\n",
    "\n",
    "    const generatePlot = (theme, genre, style) : outline =>{{\n",
    "        return ai.generatePlot(theme)\n",
    "    }}\n",
    "\n",
    "\n",
    "    theme = '{}'\n",
    "    genre = '{}'\n",
    "    style = '{}'\n",
    "    //make sure to include the keys in quotes so we can json.parse\n",
    "    console.log(\"Out: \" + generatePlot(theme, genre, style))\n",
    "    Out:\"\"\"\n",
    "    prompt = overviewForStoryPrompt.format(self.theme, self.genre, self.style)\n",
    "    return query(prompt)\n",
    "\n"
   ]
  },
  {
   "cell_type": "code",
   "execution_count": 6,
   "id": "c21222b1",
   "metadata": {},
   "outputs": [
    {
     "data": {
      "text/plain": [
       "'{\\n  \"setting\": \"Civil War battlefield\",\\n  \"characters\": [\\n    {\\n      \"name\": \"John\",\\n      \"profession\": \"Soldier\",\\n      \"age\": 25\\n    },\\n    {\\n      \"name\": \"Jane\",\\n      \"profession\": \"Nurse\",\\n      \"age\": 22\\n    }\\n  ],\\n  \"conflict\": \"John and Jane must find a way to survive the war and make it back home alive.\",\\n  \"plotTwist\": \"John and Jane discover they are on opposite sides of the war.\",\\n  \"resolution\": \"John and Jane find a way to make peace and survive the war together.\"\\n}'"
      ]
     },
     "execution_count": 6,
     "metadata": {},
     "output_type": "execute_result"
    }
   ],
   "source": [
    "theme = \"civil war\"\n",
    "genre = \"movie\"\n",
    "style = \"shakesepear\"\n",
    "createStoryOverview(theme, genre, style)"
   ]
  },
  {
   "cell_type": "code",
   "execution_count": 8,
   "id": "bb44e097",
   "metadata": {},
   "outputs": [],
   "source": [
    "def createStoryOutline(storyOverview):\n",
    "    \"\"\"\n",
    "    Creates a story outline based on the theme, genre, and style\n",
    "    \"\"\"\n",
    "    prompt = outlineForStoryPrompt.format(storyOverview)\n",
    "    return query(prompt)\n",
    "\n",
    "outlineForStoryPrompt = \"\"\" /* Generate an outline for a story\n",
    "\n",
    "type section{{\n",
    "  \"name\": str, // the name of the section\n",
    "  \"description\": str, // a brief overview of what happens in the section\n",
    "}}\n",
    "\n",
    "interface outline {{\n",
    "  \"parts\": section[] //all of the sections in the story\n",
    "}}\n",
    "\n",
    "const generateOutline = (storyOverview) : outline =>{{\n",
    "    return ai.generateOutline(storyOverview)\n",
    "}}\n",
    "\n",
    "overview = '{}'\n",
    "\n",
    "//make sure to include the keys in quotes so we can json.parse\n",
    "console.log(\"Out: \" + generateOutline(overview))\n",
    "Out:\"\"\""
   ]
  },
  {
   "cell_type": "code",
   "execution_count": 9,
   "id": "1dda8382",
   "metadata": {},
   "outputs": [],
   "source": [
    "def fillCurrentSection(overview, outline, story, fnName, currentSection):\n",
    "    fillOutlinePrompt = \"\"\" /* Write the next paragraph in a story for a given purpose\n",
    "\n",
    "    //the overview of the entire story\n",
    "    fullOverview = {}\n",
    "    \n",
    "    //the outline that the story should follow\n",
    "    fullOutline = {}\n",
    "    \n",
    "    //the paragraphs of the story so far\n",
    "    storySoFar = {}\n",
    "\n",
    "    const {} = (instructions, currentOutlineSection) : str =>{{\n",
    "        return ai.write()\n",
    "    }}\n",
    "\n",
    "    currentOutlineSection = {}\n",
    "\n",
    "    console.log(\"Out: \" + {}(currentOutlineSection))\n",
    "    Out:\"\"\".format(overview, outline, story, fnName, currentSection, fnName)\n",
    "    \n",
    "    return fillOutlinePrompt"
   ]
  },
  {
   "cell_type": "code",
   "execution_count": 28,
   "id": "323bed78",
   "metadata": {},
   "outputs": [],
   "source": [
    "def generateNextStep (rawOverview, rawOutline, story):\n",
    "    prompt = \"\"\"//storyRouter.js Generate the name of the function and the inputs and outputs that it will take\n",
    "\n",
    "\n",
    "story.rawOverview = {}\n",
    "\n",
    "story.rawOutline = {}\n",
    "\n",
    "story.current = {}\n",
    "\n",
    "\n",
    "\n",
    "interface move{{\n",
    "    \"currentStatus\": str, //the current status of the story, e.g. \"building setting\", \"building characters\", \"writing story\"\n",
    "    \"storyDirection\": str, //the direction the story is going, e.g.\"building setting\", \"building down\", \"building to a climax\"\n",
    "    //the AI is capable of performing any task\n",
    "    \"nextFunction\": str, //the name of the function to call, e.g. if building setting it would be \"buildSetting\", if writing story it would be \"writeStory\"\n",
    "    \"functionInputs\": str, //the inputs the next function will need, e.g. {{character: \"Romeo\", emotion: \"sad\"}}; be creative\n",
    "}}\n",
    "\n",
    "const generateNextMove = () : move =>{{\n",
    "    return ai.generateNextMove()\n",
    "}}\n",
    "    \n",
    "console.log('Out: ' + generateNextMove())\n",
    "//return \n",
    "Out:\"\"\".format(rawOverview, rawOutline, story)\n",
    "    return prompt\n",
    "    "
   ]
  },
  {
   "cell_type": "code",
   "execution_count": 39,
   "id": "3400901b",
   "metadata": {},
   "outputs": [],
   "source": [
    "def createPromptV2(overview, outline, story, fnName, currentSection, props):\n",
    "    fillOutlinePrompt = \"\"\" /* Write the next paragraph in a story for a given purpose\n",
    "\n",
    "    //the overview of the entire story\n",
    "    fullOverview = {}\n",
    "    \n",
    "    //the outline that the story should follow\n",
    "    fullOutline = {}\n",
    "    \n",
    "    //the paragraphs of the story so far\n",
    "    storySoFar = {}\n",
    "\n",
    "    const {} = (props) : str =>{{\n",
    "        return ai.write()\n",
    "    }}\n",
    "\n",
    "    currentOutlineSection = {}\n",
    "\n",
    "    console.log(\"Out: \" + {}({}))\n",
    "    Out:\"\"\".format(overview, outline, story, fnName, currentSection, fnName, props)\n",
    "    \n",
    "    return fillOutlinePrompt"
   ]
  },
  {
   "cell_type": "code",
   "execution_count": null,
   "id": "3c05fa44",
   "metadata": {},
   "outputs": [],
   "source": []
  }
 ],
 "metadata": {
  "kernelspec": {
   "display_name": "base",
   "language": "python",
   "name": "python3"
  },
  "language_info": {
   "codemirror_mode": {
    "name": "ipython",
    "version": 3
   },
   "file_extension": ".py",
   "mimetype": "text/x-python",
   "name": "python",
   "nbconvert_exporter": "python",
   "pygments_lexer": "ipython3",
   "version": "3.9.12"
  },
  "vscode": {
   "interpreter": {
    "hash": "230465a67f968560cbadbe9266958ba79a37944744e257da8b63a5bddd2e3c12"
   }
  }
 },
 "nbformat": 4,
 "nbformat_minor": 5
}
