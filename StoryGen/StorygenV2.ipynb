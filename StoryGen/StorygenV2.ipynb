{
 "cells": [
  {
   "cell_type": "code",
   "execution_count": 3,
   "id": "2157ec4b",
   "metadata": {},
   "outputs": [],
   "source": [
    "import openai, os, json"
   ]
  },
  {
   "cell_type": "code",
   "execution_count": 4,
   "id": "c122d5f4",
   "metadata": {},
   "outputs": [],
   "source": [
    "openai.api_key = os.environ.get('OPENAI_API_KEY')"
   ]
  },
  {
   "cell_type": "code",
   "execution_count": 5,
   "id": "e34fe8dc",
   "metadata": {},
   "outputs": [],
   "source": [
    "def query(prompt, **kwargs):\n",
    "    \"\"\"\n",
    "    wrapper for the API to save the prompt and the result\n",
    "    \"\"\"\n",
    "    args = {\n",
    "    \"engine\":\"text-davinci-003\",\n",
    "    \"temperature\":0,\n",
    "    \"max_tokens\":400,\n",
    "    \"stop\":\"END\",\n",
    "    }\n",
    "\n",
    "    for key in kwargs:\n",
    "        args[key] = kwargs[key]\n",
    "\n",
    "    r = openai.Completion.create(prompt=prompt, **args)\n",
    "    return r[\"choices\"][0][\"text\"].strip()\n"
   ]
  },
  {
   "cell_type": "code",
   "execution_count": 6,
   "id": "9d303bd7",
   "metadata": {},
   "outputs": [],
   "source": [
    "class StoryWriter:\n",
    "\n",
    "  def __init__(self, theme, genre, style):\n",
    "    self.theme = theme\n",
    "    self.genre = genre\n",
    "    self.style = style\n",
    "    self.queue = []\n",
    "    self.story = []\n",
    "\n",
    "  def createStoryOverview(self):\n",
    "    \"\"\"\n",
    "    Creates a story outline based on the theme, genre, and style\n",
    "    \"\"\"\n",
    "    overviewForStoryPrompt = \"\"\" /* Generate an outline for a story\n",
    "\n",
    "    type character{{\n",
    "      \"name\": str,\n",
    "      \"profession\": str,\n",
    "      \"age\": int,\n",
    "    }}\n",
    "\n",
    "    interface outline {{\n",
    "      \"setting\": str, //where the section takes place\n",
    "      \"characters\": character[], //the character names\n",
    "      \"conflict\": str, //what conflict needs to get solved\n",
    "      \"plotTwist\": str, //any plot twists to occur\n",
    "      \"resolution\": str // how the story concludes\n",
    "    }}\n",
    "\n",
    "    const generatePlot = (theme, genre, style) : outline =>{{\n",
    "        return ai.generatePlot(theme)\n",
    "    }}\n",
    "\n",
    "\n",
    "    theme = '{}'\n",
    "    genre = '{}'\n",
    "    style = '{}'\n",
    "    //make sure to include the keys in quotes so we can json.parse\n",
    "    console.log(\"Out: \" + generatePlot(theme, genre, style))\n",
    "    Out:\"\"\"\n",
    "    prompt = overviewForStoryPrompt.format(self.theme, self.genre, self.style)\n",
    "    self.overview = query(prompt)\n",
    "    print('overview: ', self.overview)\n",
    "\n",
    "  def createStoryOutline(self):\n",
    "    \"\"\"\n",
    "    Creates a story outline based on the theme, genre, and style\n",
    "    \"\"\"\n",
    "    outlineForStoryPrompt = \"\"\" /* Generate an outline for a story\n",
    "\n",
    "    type section{{\n",
    "      \"name\": str, // the name of the section\n",
    "      \"description\": str, // a brief overview of what happens in the section\n",
    "    }}\n",
    "\n",
    "    interface outline {{\n",
    "      \"parts\": section[] //all of the sections in the story\n",
    "    }}\n",
    "\n",
    "    const generateOutline = (storyOverview) : outline =>{{\n",
    "        return ai.generateOutline(storyOverview)\n",
    "    }}\n",
    "\n",
    "    overview = '{}'\n",
    "\n",
    "    //make sure to include the keys in quotes so we can json.parse\n",
    "    console.log(\"Out: \" + generateOutline(overview))\n",
    "    Out:\"\"\"\n",
    "\n",
    "    prompt = outlineForStoryPrompt.format(self.overview)\n",
    "    self.outline = query(prompt)\n",
    "    print('self.outline: ', self.outline)\n",
    "\n",
    "  def expandOutline(self):\n",
    "    \"\"\"\n",
    "    Expand an existing outline to include sub-sections\n",
    "    \"\"\"\n",
    "    expandOutlinePrompt = \"\"\" /* Generate the sub-outline for each\n",
    "\n",
    "    type section{{\n",
    "      \"name\": str, // the name of the section\n",
    "      \"description\": str, // a brief overview of what happens in the section\n",
    "    }}\n",
    "\n",
    "    interface outline {{\n",
    "      \"parts\": section[] //all of the sections in the story\n",
    "    }}\n",
    "\n",
    "    const generateOutline = (outline) : outline =>{{\n",
    "        return ai.buildDeeperOutline(outline)\n",
    "    }}\n",
    "\n",
    "    overview = '{}'\n",
    "\n",
    "    //make sure to include the keys in quotes so we can json.parse\n",
    "    console.log(\"Out: \" + generateOutline(overview))\n",
    "    Out:\"\"\"\n",
    "\n",
    "    prompt = outlineForStoryPrompt.format(self.overview)\n",
    "    self.outline = query(prompt)\n",
    "    print('self.outline: ', self.outline)\n",
    "\n"
   ]
  },
  {
   "cell_type": "code",
   "execution_count": 8,
   "id": "52fcb10d",
   "metadata": {},
   "outputs": [
    {
     "name": "stdout",
     "output_type": "stream",
     "text": [
      "overview:  {\n",
      "      \"setting\": \"Space Station Alpha\",\n",
      "      \"characters\": [\n",
      "        {\n",
      "          \"name\": \"John Smith\",\n",
      "          \"profession\": \"Space Pilot\",\n",
      "          \"age\": 32\n",
      "        },\n",
      "        {\n",
      "          \"name\": \"Jane Doe\",\n",
      "          \"profession\": \"Space Engineer\",\n",
      "          \"age\": 28\n",
      "        }\n",
      "      ],\n",
      "      \"conflict\": \"John and Jane must work together to save the Space Station Alpha from a mysterious alien threat.\",\n",
      "      \"plotTwist\": \"John and Jane discover that the alien threat is actually a group of humans from a parallel universe.\",\n",
      "      \"resolution\": \"John and Jane are able to use their combined knowledge and skills to save the Space Station Alpha and the parallel universe from destruction.\"\n",
      "    }\n",
      "self.outline:  {\n",
      "      \"parts\": [\n",
      "        {\n",
      "          \"name\": \"Introduction\",\n",
      "          \"description\": \"Introduce the setting, characters, and conflict of the story.\"\n",
      "        },\n",
      "        {\n",
      "          \"name\": \"Rising Action\",\n",
      "          \"description\": \"John and Jane must work together to save the Space Station Alpha from the alien threat.\"\n",
      "        },\n",
      "        {\n",
      "          \"name\": \"Plot Twist\",\n",
      "          \"description\": \"John and Jane discover that the alien threat is actually a group of humans from a parallel universe.\"\n",
      "        },\n",
      "        {\n",
      "          \"name\": \"Climax\",\n",
      "          \"description\": \"John and Jane must use their combined knowledge and skills to save the Space Station Alpha and the parallel universe from destruction.\"\n",
      "        },\n",
      "        {\n",
      "          \"name\": \"Resolution\",\n",
      "          \"description\": \"John and Jane are successful in their mission and the Space Station Alpha and the parallel universe are saved.\"\n",
      "        }\n",
      "      ]\n",
      "    }\n"
     ]
    }
   ],
   "source": [
    "storyBuilder = StoryWriter('space', 'sci-fi', 'action')\n",
    "storyBuilder.createStoryOverview()\n",
    "storyBuilder.createStoryOutline()"
   ]
  },
  {
   "cell_type": "code",
   "execution_count": 10,
   "id": "bbaf7782",
   "metadata": {},
   "outputs": [
    {
     "name": "stdout",
     "output_type": "stream",
     "text": [
      "{\n",
      "      \"parts\": [\n",
      "        {\n",
      "          \"name\": \"Introduction\",\n",
      "          \"description\": \"Introduce the setting, characters, and conflict of the story.\"\n",
      "        },\n",
      "        {\n",
      "          \"name\": \"Rising Action\",\n",
      "          \"description\": \"John and Jane must work together to save the Space Station Alpha from the alien threat.\"\n",
      "        },\n",
      "        {\n",
      "          \"name\": \"Plot Twist\",\n",
      "          \"description\": \"John and Jane discover that the alien threat is actually a group of humans from a parallel universe.\"\n",
      "        },\n",
      "        {\n",
      "          \"name\": \"Climax\",\n",
      "          \"description\": \"John and Jane must use their combined knowledge and skills to save the Space Station Alpha and the parallel universe from destruction.\"\n",
      "        },\n",
      "        {\n",
      "          \"name\": \"Resolution\",\n",
      "          \"description\": \"John and Jane are successful in their mission and the Space Station Alpha and the parallel universe are saved.\"\n",
      "        }\n",
      "      ]\n",
      "    }\n"
     ]
    }
   ],
   "source": [
    "print(storyBuilder.outline)"
   ]
  },
  {
   "cell_type": "code",
   "execution_count": 15,
   "id": "3c05fa44",
   "metadata": {},
   "outputs": [],
   "source": [
    "queue = json.loads(storyBuilder.outline)['parts']"
   ]
  },
  {
   "cell_type": "code",
   "execution_count": 17,
   "id": "84276a85",
   "metadata": {},
   "outputs": [],
   "source": [
    "currentNode = queue.pop(0)"
   ]
  },
  {
   "cell_type": "code",
   "execution_count": 18,
   "id": "9e7c5a70",
   "metadata": {},
   "outputs": [
    {
     "data": {
      "text/plain": [
       "{'name': 'Introduction',\n",
       " 'description': 'Introduce the setting, characters, and conflict of the story.'}"
      ]
     },
     "execution_count": 18,
     "metadata": {},
     "output_type": "execute_result"
    }
   ],
   "source": [
    "currentNode"
   ]
  },
  {
   "cell_type": "code",
   "execution_count": 19,
   "id": "ccfc7385",
   "metadata": {},
   "outputs": [],
   "source": [
    "story = []\n",
    "queueHead = queue[:2]"
   ]
  },
  {
   "cell_type": "code",
   "execution_count": 20,
   "id": "6c2e5d5c",
   "metadata": {},
   "outputs": [
    {
     "data": {
      "text/plain": [
       "[{'name': 'Rising Action',\n",
       "  'description': 'John and Jane must work together to save the Space Station Alpha from the alien threat.'},\n",
       " {'name': 'Plot Twist',\n",
       "  'description': 'John and Jane discover that the alien threat is actually a group of humans from a parallel universe.'}]"
      ]
     },
     "execution_count": 20,
     "metadata": {},
     "output_type": "execute_result"
    }
   ],
   "source": []
  },
  {
   "cell_type": "code",
   "execution_count": null,
   "id": "b75f439b",
   "metadata": {},
   "outputs": [],
   "source": []
  }
 ],
 "metadata": {
  "kernelspec": {
   "display_name": "base",
   "language": "python",
   "name": "python3"
  },
  "language_info": {
   "codemirror_mode": {
    "name": "ipython",
    "version": 3
   },
   "file_extension": ".py",
   "mimetype": "text/x-python",
   "name": "python",
   "nbconvert_exporter": "python",
   "pygments_lexer": "ipython3",
   "version": "3.9.12"
  },
  "vscode": {
   "interpreter": {
    "hash": "230465a67f968560cbadbe9266958ba79a37944744e257da8b63a5bddd2e3c12"
   }
  }
 },
 "nbformat": 4,
 "nbformat_minor": 5
}
