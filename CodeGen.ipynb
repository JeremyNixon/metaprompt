{
 "cells": [
  {
   "cell_type": "code",
   "execution_count": 156,
   "id": "5e87818a",
   "metadata": {},
   "outputs": [],
   "source": [
    "import openai, os"
   ]
  },
  {
   "cell_type": "code",
   "execution_count": 157,
   "id": "1d33e3d5",
   "metadata": {},
   "outputs": [],
   "source": [
    "openai.api_key = os.environ.get('OPENAI_API_KEY')"
   ]
  },
  {
   "cell_type": "code",
   "execution_count": 158,
   "id": "025bdede",
   "metadata": {},
   "outputs": [],
   "source": [
    "def query(prompt, **kwargs):\n",
    "    \"\"\"\n",
    "    wrapper for the API to save the prompt and the result\n",
    "    \"\"\"\n",
    "    args = {\n",
    "        \"engine\":\"text-davinci-003\",\n",
    "        \"temperature\":0,\n",
    "        \"max_tokens\":4000-len(prompt),\n",
    "    }\n",
    "\n",
    "    for key in kwargs:\n",
    "        args[key] = kwargs[key]\n",
    "\n",
    "    r = openai.Completion.create(prompt=prompt, **args)\n",
    "    return list([ c[\"text\"].strip()] for c in r[\"choices\"])\n"
   ]
  },
  {
   "cell_type": "code",
   "execution_count": 208,
   "id": "086264a0",
   "metadata": {},
   "outputs": [],
   "source": [
    "app_idea = \"a production-ready stock trading react web frontend\"\n",
    "lang = \"React\""
   ]
  },
  {
   "cell_type": "code",
   "execution_count": 209,
   "id": "6c655b9d",
   "metadata": {},
   "outputs": [],
   "source": [
    "prompt = f\"\"\"Generate a directed acyclic graph of function components for {app_idea} in {lang}\"\"\" +\"\"\"\n",
    "\n",
    "type NodeId = string; // Node ID is a namespace path like: foo.bar.x\n",
    "interface Node {\n",
    "  \"id\": NodeId,\n",
    "  \"parent\": NodeId?,\n",
    "  \"children\": [NodeId],\n",
    "  \"type\": \"React Function\",\n",
    "}\n",
    "\n",
    "const generateDAG = (lang, app_idea) : [Node] => {\n",
    "    return ai.generateDAG(lang, app_idea)\n",
    "}\n",
    "console.log(\"Out: \" + generateDAG(app_idea, lang))\n",
    "Out:\"\"\""
   ]
  },
  {
   "cell_type": "code",
   "execution_count": 210,
   "id": "8b823742",
   "metadata": {},
   "outputs": [
    {
     "name": "stdout",
     "output_type": "stream",
     "text": [
      "Generate a directed acyclic graph of function components for a production-ready stock trading react web frontend in React\n",
      "\n",
      "type NodeId = string; // Node ID is a namespace path like: foo.bar.x\n",
      "interface Node {\n",
      "  \"id\": NodeId,\n",
      "  \"parent\": NodeId?,\n",
      "  \"children\": [NodeId],\n",
      "  \"type\": \"React Function\",\n",
      "}\n",
      "\n",
      "const generateDAG = (lang, app_idea) : [Node] => {\n",
      "    return ai.generateDAG(lang, app_idea)\n",
      "}\n",
      "console.log(\"Out: \" + generateDAG(app_idea, lang))\n",
      "Out:\n"
     ]
    }
   ],
   "source": [
    "print(prompt)"
   ]
  },
  {
   "cell_type": "code",
   "execution_count": 211,
   "id": "dd126764",
   "metadata": {},
   "outputs": [
    {
     "name": "stdout",
     "output_type": "stream",
     "text": [
      "[['[\\n  {\\n    \"id\": \"root\",\\n    \"parent\": null,\\n    \"children\": [\"App\", \"StockData\", \"StockChart\", \"StockList\"],\\n    \"type\": \"React Function\"\\n  },\\n  {\\n    \"id\": \"App\",\\n    \"parent\": \"root\",\\n    \"children\": [\"StockData\", \"StockChart\", \"StockList\"],\\n    \"type\": \"React Function\"\\n  },\\n  {\\n    \"id\": \"StockData\",\\n    \"parent\": \"App\",\\n    \"children\": [],\\n    \"type\": \"React Function\"\\n  },\\n  {\\n    \"id\": \"StockChart\",\\n    \"parent\": \"App\",\\n    \"children\": [],\\n    \"type\": \"React Function\"\\n  },\\n  {\\n    \"id\": \"StockList\",\\n    \"parent\": \"App\",\\n    \"children\": [],\\n    \"type\": \"React Function\"\\n  }\\n]']]\n"
     ]
    }
   ],
   "source": [
    "dag_output = query(prompt)\n",
    "print(dag_output)"
   ]
  },
  {
   "cell_type": "code",
   "execution_count": 212,
   "id": "7d03d599",
   "metadata": {},
   "outputs": [
    {
     "name": "stdout",
     "output_type": "stream",
     "text": [
      "[\n",
      "  {\n",
      "    \"id\": \"root\",\n",
      "    \"parent\": null,\n",
      "    \"children\": [\"App\", \"StockData\", \"StockChart\", \"StockList\"],\n",
      "    \"type\": \"React Function\"\n",
      "  },\n",
      "  {\n",
      "    \"id\": \"App\",\n",
      "    \"parent\": \"root\",\n",
      "    \"children\": [\"StockData\", \"StockChart\", \"StockList\"],\n",
      "    \"type\": \"React Function\"\n",
      "  },\n",
      "  {\n",
      "    \"id\": \"StockData\",\n",
      "    \"parent\": \"App\",\n",
      "    \"children\": [],\n",
      "    \"type\": \"React Function\"\n",
      "  },\n",
      "  {\n",
      "    \"id\": \"StockChart\",\n",
      "    \"parent\": \"App\",\n",
      "    \"children\": [],\n",
      "    \"type\": \"React Function\"\n",
      "  },\n",
      "  {\n",
      "    \"id\": \"StockList\",\n",
      "    \"parent\": \"App\",\n",
      "    \"children\": [],\n",
      "    \"type\": \"React Function\"\n",
      "  }\n",
      "]\n"
     ]
    }
   ],
   "source": [
    "print(dag_output[0][0])"
   ]
  },
  {
   "cell_type": "code",
   "execution_count": 213,
   "id": "4e732b52",
   "metadata": {},
   "outputs": [],
   "source": [
    "import json\n",
    "abc = json.loads(dag_output[0][0])"
   ]
  },
  {
   "cell_type": "code",
   "execution_count": 214,
   "id": "0af80fd2",
   "metadata": {},
   "outputs": [
    {
     "data": {
      "text/plain": [
       "[{'id': 'root',\n",
       "  'parent': None,\n",
       "  'children': ['App', 'StockData', 'StockChart', 'StockList'],\n",
       "  'type': 'React Function'},\n",
       " {'id': 'App',\n",
       "  'parent': 'root',\n",
       "  'children': ['StockData', 'StockChart', 'StockList'],\n",
       "  'type': 'React Function'},\n",
       " {'id': 'StockData',\n",
       "  'parent': 'App',\n",
       "  'children': [],\n",
       "  'type': 'React Function'},\n",
       " {'id': 'StockChart',\n",
       "  'parent': 'App',\n",
       "  'children': [],\n",
       "  'type': 'React Function'},\n",
       " {'id': 'StockList',\n",
       "  'parent': 'App',\n",
       "  'children': [],\n",
       "  'type': 'React Function'}]"
      ]
     },
     "execution_count": 214,
     "metadata": {},
     "output_type": "execute_result"
    }
   ],
   "source": [
    "abc"
   ]
  },
  {
   "cell_type": "code",
   "execution_count": null,
   "id": "34ec5858",
   "metadata": {},
   "outputs": [],
   "source": []
  },
  {
   "cell_type": "code",
   "execution_count": 227,
   "id": "a1147abe",
   "metadata": {},
   "outputs": [],
   "source": [
    "def codegen_dag_node(node, copy=\"React function\"):\n",
    "    code = f\"\"\"\n",
    "// App: {app_idea} in {lang}\n",
    "// React function {node[\"id\"]}\"\"\"\n",
    "    if len(node[\"children\"]) != 0:\n",
    "        code = code + f\"\"\" assuming {\",\".join([copy + \" \" + c for c in node[\"children\"]])} are defined\"\"\"\n",
    "    \n",
    "    return code + \"\\n\\t\" + query(code)[0][0]\n",
    "  "
   ]
  },
  {
   "cell_type": "code",
   "execution_count": 228,
   "id": "387b96b0",
   "metadata": {},
   "outputs": [],
   "source": [
    "fullcode = \"\\n\".join([ codegen_dag_node(n) for n in abc ])"
   ]
  },
  {
   "cell_type": "code",
   "execution_count": 229,
   "id": "e384c7eb",
   "metadata": {},
   "outputs": [
    {
     "name": "stdout",
     "output_type": "stream",
     "text": [
      "\n",
      "# App: a production-ready stock trading react web frontend in React\n",
      "# React function root assuming React function App,React function StockData,React function StockChart,React function StockList are defined\n",
      "\tconst App = () => {\n",
      "  return (\n",
      "    <div>\n",
      "      <StockData />\n",
      "      <StockChart />\n",
      "      <StockList />\n",
      "    </div>\n",
      "  );\n",
      "};\n",
      "\n",
      "# App: a production-ready stock trading react web frontend in React\n",
      "# React function App assuming React function StockData,React function StockChart,React function StockList are defined\n",
      "\timport React from 'react';\n",
      "import StockData from './StockData';\n",
      "import StockChart from './StockChart';\n",
      "import StockList from './StockList';\n",
      "\n",
      "const App = () => {\n",
      "  return (\n",
      "    <div>\n",
      "      <h1>Stock Trading App</h1>\n",
      "      <StockData />\n",
      "      <StockChart />\n",
      "      <StockList />\n",
      "    </div>\n",
      "  );\n",
      "};\n",
      "\n",
      "export default App;\n",
      "\n",
      "# App: a production-ready stock trading react web frontend in React\n",
      "# React function StockData\n",
      "\tFetcher\n",
      "\n",
      "import React, { useState, useEffect } from 'react';\n",
      "import axios from 'axios';\n",
      "\n",
      "const StockDataFetcher = (props) => {\n",
      "  const [stockData, setStockData] = useState(null);\n",
      "\n",
      "  useEffect(() => {\n",
      "    const fetchData = async () => {\n",
      "      const result = await axios(\n",
      "        `https://www.alphavantage.co/query?function=GLOBAL_QUOTE&symbol=${props.symbol}&apikey=${props.apiKey}`\n",
      "      );\n",
      "      setStockData(result.data);\n",
      "    };\n",
      "    fetchData();\n",
      "  }, [props.symbol, props.apiKey]);\n",
      "\n",
      "  return (\n",
      "    <div>\n",
      "      {stockData ? (\n",
      "        <div>\n",
      "          <p>\n",
      "            {stockData['Global Quote']['01. symbol']} -{' '}\n",
      "            {stockData['Global Quote']['05. price']}\n",
      "          </p>\n",
      "        </div>\n",
      "      ) : (\n",
      "        <p>Loading stock data...</p>\n",
      "      )}\n",
      "    </div>\n",
      "  );\n",
      "};\n",
      "\n",
      "export default StockDataFetcher;\n",
      "\n",
      "# App: a production-ready stock trading react web frontend in React\n",
      "# React function StockChart\n",
      "\timport React from 'react';\n",
      "import { LineChart, Line, XAxis, YAxis, CartesianGrid, Tooltip, Legend } from 'recharts';\n",
      "\n",
      "const StockChart = (props) => {\n",
      "  const { data } = props;\n",
      "  return (\n",
      "    <LineChart\n",
      "      width={500}\n",
      "      height={300}\n",
      "      data={data}\n",
      "      margin={{\n",
      "        top: 5, right: 30, left: 20, bottom: 5,\n",
      "      }}\n",
      "    >\n",
      "      <CartesianGrid strokeDasharray=\"3 3\" />\n",
      "      <XAxis dataKey=\"date\" />\n",
      "      <YAxis />\n",
      "      <Tooltip />\n",
      "      <Legend />\n",
      "      <Line type=\"monotone\" dataKey=\"open\" stroke=\"#8884d8\" activeDot={{ r: 8 }} />\n",
      "      <Line type=\"monotone\" dataKey=\"high\" stroke=\"#82ca9d\" />\n",
      "      <Line type=\"monotone\" dataKey=\"low\" stroke=\"#ffc658\" />\n",
      "      <Line type=\"monotone\" dataKey=\"close\" stroke=\"#ff7300\" />\n",
      "    </LineChart>\n",
      "  );\n",
      "};\n",
      "\n",
      "export default StockChart;\n",
      "\n",
      "# App: a production-ready stock trading react web frontend in React\n",
      "# React function StockList\n",
      "\timport React from 'react';\n",
      "import { connect } from 'react-redux';\n",
      "import { fetchStocks } from '../actions/stocks';\n",
      "\n",
      "class StockList extends React.Component {\n",
      "  componentDidMount() {\n",
      "    this.props.fetchStocks();\n",
      "  }\n",
      "\n",
      "  render() {\n",
      "    const { stocks } = this.props;\n",
      "    return (\n",
      "      <div>\n",
      "        <h2>Stocks</h2>\n",
      "        <ul>\n",
      "          {stocks.map(stock => (\n",
      "            <li key={stock.id}>\n",
      "              {stock.name} - {stock.price}\n",
      "            </li>\n",
      "          ))}\n",
      "        </ul>\n",
      "      </div>\n",
      "    );\n",
      "  }\n",
      "}\n",
      "\n",
      "const mapStateToProps = state => {\n",
      "  return {\n",
      "    stocks: state.stocks\n",
      "  };\n",
      "};\n",
      "\n",
      "export default connect(\n",
      "  mapStateToProps,\n",
      "  { fetchStocks }\n",
      ")(StockList);\n"
     ]
    }
   ],
   "source": [
    "print(fullcode)"
   ]
  },
  {
   "cell_type": "markdown",
   "id": "0baf91ee",
   "metadata": {},
   "source": [
    "## My own ideas/experiments"
   ]
  },
  {
   "cell_type": "code",
   "execution_count": 202,
   "id": "5c705f4f",
   "metadata": {},
   "outputs": [],
   "source": [
    "prompt = f\"\"\"Our end goal is to write {app_idea} in {lang}, complete stock_trading_react_web_frontend component assuming App function, Router function, Header function, Navigation function, StockList function, StockDetails function and Footer function are all implemented, so do not implement them. Complete the following:   \"\"\""
   ]
  },
  {
   "cell_type": "code",
   "execution_count": 203,
   "id": "2d383614",
   "metadata": {},
   "outputs": [
    {
     "name": "stdout",
     "output_type": "stream",
     "text": [
      "Our end goal is to write a production-ready stock trading react web frontend in Javascript, React, complete stock_trading_react_web_frontend component assuming App function, Router function, Header function, Navigation function, StockList function, StockDetails function and Footer function are all implemented, so do not implement them. Complete the following:   \n",
      "import React from 'react';\n",
      "\n"
     ]
    }
   ],
   "source": [
    "print(prompt)"
   ]
  },
  {
   "cell_type": "code",
   "execution_count": 204,
   "id": "a200867c",
   "metadata": {},
   "outputs": [],
   "source": [
    "output = query(prompt)\n"
   ]
  },
  {
   "cell_type": "code",
   "execution_count": 205,
   "id": "c4bb4aa0",
   "metadata": {},
   "outputs": [
    {
     "name": "stdout",
     "output_type": "stream",
     "text": [
      "import { BrowserRouter as Router, Route } from 'react-router-dom';\n",
      "\n",
      "const App = () => {\n",
      "  return (\n",
      "    <Router>\n",
      "      <Header />\n",
      "      <Navigation />\n",
      "      <Route exact path=\"/\" component={StockList} />\n",
      "      <Route path=\"/stock/:id\" component={StockDetails} />\n",
      "      <Footer />\n",
      "    </Router>\n",
      "  );\n",
      "};\n",
      "\n",
      "export default App;\n"
     ]
    }
   ],
   "source": [
    "print(output[0][0])"
   ]
  },
  {
   "cell_type": "code",
   "execution_count": null,
   "id": "87f283fa",
   "metadata": {},
   "outputs": [],
   "source": []
  }
 ],
 "metadata": {
  "kernelspec": {
   "display_name": "Python 3 (ipykernel)",
   "language": "python",
   "name": "python3"
  },
  "language_info": {
   "codemirror_mode": {
    "name": "ipython",
    "version": 3
   },
   "file_extension": ".py",
   "mimetype": "text/x-python",
   "name": "python",
   "nbconvert_exporter": "python",
   "pygments_lexer": "ipython3",
   "version": "3.9.12"
  }
 },
 "nbformat": 4,
 "nbformat_minor": 5
}
