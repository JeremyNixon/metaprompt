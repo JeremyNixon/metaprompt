{
 "cells": [
  {
   "cell_type": "code",
   "execution_count": 1,
   "id": "5e87818a",
   "metadata": {},
   "outputs": [],
   "source": [
    "import openai, os"
   ]
  },
  {
   "cell_type": "code",
   "execution_count": 2,
   "id": "1d33e3d5",
   "metadata": {},
   "outputs": [],
   "source": [
    "openai.api_key = os.environ.get('OPENAI_API_KEY')"
   ]
  },
  {
   "cell_type": "code",
   "execution_count": 146,
   "id": "025bdede",
   "metadata": {},
   "outputs": [],
   "source": [
    "def query(prompt, **kwargs):\n",
    "    \"\"\"\n",
    "    wrapper for the API to save the prompt and the result\n",
    "    \"\"\"\n",
    "    args = {\n",
    "        \"engine\":\"text-davinci-003\",\n",
    "        \"temperature\":0,\n",
    "        \"max_tokens\":4000-len(prompt),\n",
    "    }\n",
    "\n",
    "    for key in kwargs:\n",
    "        args[key] = kwargs[key]\n",
    "\n",
    "    r = openai.Completion.create(prompt=prompt, **args)\n",
    "    return list([ c[\"text\"].strip()] for c in r[\"choices\"])\n"
   ]
  },
  {
   "cell_type": "code",
   "execution_count": 107,
   "id": "086264a0",
   "metadata": {},
   "outputs": [],
   "source": [
    "app_idea = \"a stock trading web app\"\n",
    "lang = \"Python\""
   ]
  },
  {
   "cell_type": "code",
   "execution_count": 150,
   "id": "6c655b9d",
   "metadata": {},
   "outputs": [],
   "source": [
    "prompt = f\"\"\"Generate a directed acyclic graph of functions for {app_idea} in {lang}\"\"\" +\"\"\"\n",
    "\n",
    "type NodeId = string; // Node ID is a namespace path like: foo.bar.x\n",
    "interface Node {\n",
    "  \"id\": NodeId,\n",
    "  \"parent\": NodeId?,\n",
    "  \"children\": [NodeId],\n",
    "  \"type\": \"Module\"|\"Function\", // Module is a group of multiple functions\n",
    "}\n",
    "\n",
    "const generateDAG = (lang, app_idea) : [Node] => {\n",
    "    return ai.generateDAG(lang, app_idea)\n",
    "}\n",
    "console.log(\"Out: \" + generateDAG(app_idea, lang))\n",
    "Out:\"\"\""
   ]
  },
  {
   "cell_type": "code",
   "execution_count": 151,
   "id": "8b823742",
   "metadata": {},
   "outputs": [
    {
     "name": "stdout",
     "output_type": "stream",
     "text": [
      "Generate a directed acyclic graph of functions for a stock trading web app in Python\n",
      "\n",
      "type NodeId = string; // Node ID is a namespace path like: foo.bar.x\n",
      "interface Node {\n",
      "  \"id\": NodeId,\n",
      "  \"parent\": NodeId?,\n",
      "  \"children\": [NodeId],\n",
      "  \"type\": \"Module\"|\"Function\", // Module is a group of multiple functions\n",
      "}\n",
      "\n",
      "const generateDAG = (lang, app_idea) : [Node] => {\n",
      "    return ai.generateDAG(lang, app_idea)\n",
      "}\n",
      "console.log(\"Out: \" + generateDAG(app_idea, lang))\n",
      "Out:\n"
     ]
    }
   ],
   "source": [
    "print(prompt)"
   ]
  },
  {
   "cell_type": "code",
   "execution_count": null,
   "id": "dd126764",
   "metadata": {},
   "outputs": [],
   "source": [
    "dag_output = query(prompt)\n",
    "print(dag_output)"
   ]
  },
  {
   "cell_type": "code",
   "execution_count": null,
   "id": "7d03d599",
   "metadata": {},
   "outputs": [],
   "source": [
    "print(dag_output[0][0])"
   ]
  },
  {
   "cell_type": "code",
   "execution_count": null,
   "id": "4e732b52",
   "metadata": {},
   "outputs": [],
   "source": [
    "import json\n",
    "abc = json.loads(dag_output[0][0])"
   ]
  },
  {
   "cell_type": "code",
   "execution_count": null,
   "id": "0af80fd2",
   "metadata": {},
   "outputs": [],
   "source": [
    "abc"
   ]
  },
  {
   "cell_type": "code",
   "execution_count": null,
   "id": "5c705f4f",
   "metadata": {},
   "outputs": [],
   "source": []
  }
 ],
 "metadata": {
  "kernelspec": {
   "display_name": "Python 3 (ipykernel)",
   "language": "python",
   "name": "python3"
  },
  "language_info": {
   "codemirror_mode": {
    "name": "ipython",
    "version": 3
   },
   "file_extension": ".py",
   "mimetype": "text/x-python",
   "name": "python",
   "nbconvert_exporter": "python",
   "pygments_lexer": "ipython3",
   "version": "3.9.12"
  }
 },
 "nbformat": 4,
 "nbformat_minor": 5
}
